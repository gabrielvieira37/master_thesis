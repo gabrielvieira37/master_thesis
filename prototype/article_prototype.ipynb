{
 "cells": [
  {
   "cell_type": "code",
   "execution_count": 20,
   "id": "precious-cathedral",
   "metadata": {},
   "outputs": [],
   "source": [
    "import json\n",
    "import pandas as pd\n",
    "import numpy as np\n",
    "import matplotlib.pyplot as plt"
   ]
  },
  {
   "cell_type": "code",
   "execution_count": 2,
   "id": "formal-tunnel",
   "metadata": {},
   "outputs": [],
   "source": [
    "def utility_function(risk_factor, portfolio_return):\n",
    "    value = ((1 + portfolio_return)**(1-risk_factor))/(1-risk_factor)\n",
    "    return value"
   ]
  },
  {
   "cell_type": "markdown",
   "id": "protected-company",
   "metadata": {},
   "source": [
    "## Optimization formula:\n",
    "## $\\underset{\\theta}{\\max} \\frac{1}{T} \\sum^{T-1}_{t=0} u\\left( \\sum_{i=1}^{N_{t}}( \\bar{w}_{i,t} + \\frac{1}{N_{t}}\\theta^{\\text{T}} \\hat{x}_{i,t} ) r_{i,t+1} \\right) $\n",
    "\n",
    "## Critical point of formula:\n",
    "\n",
    "## $ \\frac{1}{T} \\sum^{T-1}_{t=0} u'(r_{p,t+1}) \\frac{1}{N_{t}}\\hat{x}_{t}^{\\text{T}} r_{t+1} = 0 $\n",
    "\n",
    "\n",
    "## Utility function\n",
    "\n",
    "## $u(r_{p,t+1}) = \\frac{(1+r_{p,t+1})^{1-\\gamma}}{1-\\gamma} $\n",
    "\n",
    "## Portfolio return\n",
    "## $ r_{p,t+1} = \\sum^{N_{t}}_{i=1} \\bar{w}_{i,t} r_{i,t+1} + \\sum^{N_{t}}_{i=1} (  \\frac{1}{N_{t}} \\theta^{\\text{T}} \\hat{x}_{i,t} ) r_{i,t+1} $\n",
    "\n",
    "\n",
    "## Utility function derivate\n",
    "\n",
    "## $u'(r_{p,t+1}) = (1+r_{p, t+1})^{-\\gamma} r'_{p, t+1} $\n",
    "\n",
    "## Portfolio return derivate\n",
    "## $ r'_{p,t+1} = \\sum^{N_{t}}_{i=1} (  \\frac{1}{N_{t}} \\hat{x}_{i,t} ) r_{i,t+1} = \\frac{1}{N_{t}}\\hat{x}_{t}^{\\text{T}} r_{t+1} $\n",
    "\n",
    "## Critical point expanded:\n",
    "## $ \\frac{1}{T} \\sum^{T-1}_{t=0} u'(r_{p,t+1}) \\frac{1}{N_{t}}\\hat{x}_{t}^{\\text{T}} r_{t+1} = 0 $\n",
    "## $ \\frac{1}{T} \\sum^{T-1}_{t=0} (1+r_{p, t+1})^{-\\gamma} r'_{p, t+1} \\frac{1}{N_{t}}\\hat{x}_{t}^{\\text{T}} r_{t+1} = 0 $\n",
    "## $ \\frac{1}{T} \\sum^{T-1}_{t=0} (1+r_{p, t+1})^{-\\gamma} (r'_{p, t+1})^2 $"
   ]
  },
  {
   "cell_type": "code",
   "execution_count": 29,
   "id": "planned-authority",
   "metadata": {},
   "outputs": [
    {
     "name": "stdout",
     "output_type": "stream",
     "text": [
      " Theta :[[0.74673557 0.36681471 0.24603293]], k:0\n",
      "Return -1292483.2662629404\n",
      " Theta :[[0.78361807 0.42551266 0.26117447]], k:1\n",
      "Return -3358250.9989958666\n",
      " Theta :[[0.81347746 0.47257087 0.27389835]], k:2\n",
      "Return -439.1368789027147\n",
      " Theta :[[0.83890484 0.51226525 0.28498302]], k:3\n",
      "Return -72.98810915795583\n",
      " Theta :[[0.8612412  0.5468244  0.29487008]], k:4\n",
      "Return -44.60536628596451\n",
      " Theta :[[0.88128022 0.57757188 0.30383713]], k:5\n",
      "Return -70.56820641249602\n",
      " Theta :[[0.89953456 0.60536391 0.31207144]], k:6\n",
      "Return -281.7943884714868\n",
      " Theta :[[0.91635649 0.63078906 0.319706  ]], k:7\n",
      "Return -4449.79600118692\n",
      " Theta :[[0.93199952 0.65427079 0.32683904]], k:8\n",
      "Return -111105218821.95088\n",
      " Theta :[[0.94665278 0.67612477 0.33354543]], k:9\n",
      "Return -6932.390990115848\n",
      " Theta :[[0.96046148 0.69659314 0.33988367]], k:10\n",
      "Return -2039.018144456637\n",
      " Theta :[[0.97353977 0.71586602 0.34590045]], k:11\n",
      "Return -10767.973310031412\n",
      " Theta :[[0.98597917 0.73409567 0.3516337 ]], k:12\n",
      "Return -420958.4149206199\n",
      " Theta :[[0.9978543  0.75140602 0.3571147 ]], k:13\n",
      "Return -196034358.71871457\n",
      " Theta :[[1.00922688 0.76789944 0.36236956]], k:14\n",
      "Return -395318.1941479869\n",
      " Theta :[[1.02014858 0.78366151 0.36742036]], k:15\n",
      "Return -9740570.302757313\n",
      " Theta :[[1.03066316 0.7987646  0.37228593]], k:16\n",
      "Return -33478.19310672852\n",
      " Theta :[[1.04080802 0.81327046 0.37698248]], k:17\n",
      "Return -4243.069807491439\n",
      " Theta :[[1.05061541 0.82723226 0.38152409]], k:18\n",
      "Return -1540.0278722264493\n",
      " Theta :[[1.06011334 0.84069612 0.38592307]], k:19\n",
      "Return -1364.3720658931634\n",
      " Theta :[[1.06932632 0.85370234 0.39019022]], k:20\n",
      "Return -2634.9890024132637\n",
      " Theta :[[1.07827594 0.86628633 0.39433512]], k:21\n",
      "Return -9092.290823985371\n",
      " Theta :[[1.0869813  0.87847943 0.39836629]], k:22\n",
      "Return -71164.30609406365\n",
      " Theta :[[1.09545941 0.89030946 0.40229133]], k:23\n",
      "Return -11891139.077630486\n",
      " Theta :[[1.10372549 0.90180129 0.4061171 ]], k:24\n",
      "Return -3254748.009188884\n",
      " Theta :[[1.1117932  0.91297722 0.40984974]], k:25\n",
      "Return -148307623.28991458\n",
      " Theta :[[1.11967486 0.92385734 0.41349483]], k:26\n",
      "Return -240773.7007308273\n",
      " Theta :[[1.12738165 0.93445981 0.41705745]], k:27\n",
      "Return -25634.77847544916\n"
     ]
    },
    {
     "ename": "KeyboardInterrupt",
     "evalue": "",
     "output_type": "error",
     "traceback": [
      "\u001b[1;31m---------------------------------------------------------------------------\u001b[0m",
      "\u001b[1;31mKeyboardInterrupt\u001b[0m                         Traceback (most recent call last)",
      "\u001b[1;32m<ipython-input-29-6c966af2d431>\u001b[0m in \u001b[0;36m<module>\u001b[1;34m\u001b[0m\n\u001b[0;32m     38\u001b[0m             \u001b[0mfirm_df\u001b[0m \u001b[1;33m=\u001b[0m \u001b[0mpd\u001b[0m\u001b[1;33m.\u001b[0m\u001b[0mDataFrame\u001b[0m\u001b[1;33m(\u001b[0m\u001b[0mfirm_characteristics\u001b[0m\u001b[1;33m[\u001b[0m\u001b[0mi\u001b[0m\u001b[1;33m]\u001b[0m\u001b[1;33m)\u001b[0m\u001b[1;33m\u001b[0m\u001b[1;33m\u001b[0m\u001b[0m\n\u001b[0;32m     39\u001b[0m             \u001b[0mr_p_grad\u001b[0m \u001b[1;33m+=\u001b[0m \u001b[1;33m(\u001b[0m\u001b[1;36m1\u001b[0m\u001b[1;33m/\u001b[0m\u001b[0mnumber_of_stocks\u001b[0m\u001b[1;33m)\u001b[0m\u001b[1;33m*\u001b[0m\u001b[0mfirm_df\u001b[0m\u001b[1;33m.\u001b[0m\u001b[0miloc\u001b[0m\u001b[1;33m[\u001b[0m\u001b[0mt\u001b[0m\u001b[1;33m]\u001b[0m \u001b[1;33m*\u001b[0m \u001b[0mr\u001b[0m\u001b[1;33m[\u001b[0m\u001b[0mi\u001b[0m\u001b[1;33m]\u001b[0m\u001b[1;33m[\u001b[0m\u001b[0mt\u001b[0m\u001b[1;33m]\u001b[0m\u001b[1;33m\u001b[0m\u001b[1;33m\u001b[0m\u001b[0m\n\u001b[1;32m---> 40\u001b[1;33m             \u001b[0mr_p\u001b[0m \u001b[1;33m+=\u001b[0m \u001b[1;33m(\u001b[0m\u001b[1;36m1\u001b[0m\u001b[1;33m/\u001b[0m\u001b[0mnumber_of_stocks\u001b[0m\u001b[1;33m)\u001b[0m\u001b[1;33m*\u001b[0m\u001b[0mtheta\u001b[0m\u001b[1;33m.\u001b[0m\u001b[0mdot\u001b[0m\u001b[1;33m(\u001b[0m\u001b[0mfirm_df\u001b[0m\u001b[1;33m.\u001b[0m\u001b[0miloc\u001b[0m\u001b[1;33m[\u001b[0m\u001b[0mt\u001b[0m\u001b[1;33m]\u001b[0m\u001b[1;33m)\u001b[0m\u001b[1;33m*\u001b[0m\u001b[0mr\u001b[0m\u001b[1;33m[\u001b[0m\u001b[0mi\u001b[0m\u001b[1;33m]\u001b[0m\u001b[1;33m[\u001b[0m\u001b[0mt\u001b[0m\u001b[1;33m]\u001b[0m\u001b[1;33m\u001b[0m\u001b[1;33m\u001b[0m\u001b[0m\n\u001b[0m\u001b[0;32m     41\u001b[0m         \u001b[0mu_grad\u001b[0m \u001b[1;33m=\u001b[0m \u001b[0mpow\u001b[0m\u001b[1;33m(\u001b[0m\u001b[1;33m(\u001b[0m\u001b[1;36m1\u001b[0m\u001b[1;33m+\u001b[0m\u001b[0mr_p\u001b[0m\u001b[1;33m)\u001b[0m\u001b[1;33m,\u001b[0m\u001b[1;33m-\u001b[0m\u001b[0mgamma\u001b[0m\u001b[1;33m)\u001b[0m \u001b[1;33m*\u001b[0m  \u001b[0mr_p_grad\u001b[0m\u001b[1;33m\u001b[0m\u001b[1;33m\u001b[0m\u001b[0m\n\u001b[0;32m     42\u001b[0m         \u001b[0mgradient\u001b[0m \u001b[1;33m=\u001b[0m \u001b[0mu_grad\u001b[0m \u001b[1;33m*\u001b[0m \u001b[0mr_p_grad\u001b[0m\u001b[1;33m\u001b[0m\u001b[1;33m\u001b[0m\u001b[0m\n",
      "\u001b[1;31mKeyboardInterrupt\u001b[0m: "
     ]
    }
   ],
   "source": [
    "from collections import defaultdict\n",
    "\n",
    "time = 90 # 90 days\n",
    "number_of_stocks = 10\n",
    "np.random.seed(123)\n",
    "r = dict()\n",
    "gamma = 5\n",
    "firm_characteristics = dict()\n",
    "# random initialization of theta for 3 firm characteristics\n",
    "theta = np.random.rand(1, 3)\n",
    "# Learning rate\n",
    "lr = 1e-3\n",
    "\n",
    "return_all = []\n",
    "\n",
    "# Creating artificial return\n",
    "for i in range(number_of_stocks):\n",
    "    r[i] = np.empty(time)\n",
    "    firm_characteristics[i] = defaultdict(list)\n",
    "    for t in range(time):\n",
    "        # Toy firm characteristics \n",
    "        me = np.random.uniform(-1,1)\n",
    "        btm = np.random.uniform(-1,1)\n",
    "        mom = np.random.uniform(-1,1)\n",
    "        firm_characteristics[i]['me'].append(me)\n",
    "        firm_characteristics[i]['btm'].append(btm)\n",
    "        firm_characteristics[i]['mom'].append(mom)\n",
    "        # simplified weight using only firm characteristics\n",
    "        # return of portifolio i at time t\n",
    "        r[i][t] = (-0.337*me + 3.553*btm + 1.623*mom)\n",
    "\n",
    "for k in range(100):\n",
    "    for t in range(time):\n",
    "        r_p_grad = 0\n",
    "        r_p = 0\n",
    "        # calculate gradient\n",
    "        for i in range(number_of_stocks):\n",
    "            firm_df = pd.DataFrame(firm_characteristics[i])\n",
    "            r_p_grad += (1/number_of_stocks)*firm_df.iloc[t] * r[i][t]\n",
    "            r_p += (1/number_of_stocks)*theta.dot(firm_df.iloc[t])*r[i][t]\n",
    "        u_grad = pow((1+r_p),-gamma) *  r_p_grad\n",
    "        gradient = u_grad * r_p_grad\n",
    "\n",
    "        # gradient ascendent for each theta at time t\n",
    "        theta += lr * gradient\n",
    "    print(f\" Theta :{theta}, k:{k}\")\n",
    "    # Avaliate function\n",
    "    utility_values = []\n",
    "    for t in range(time-1):\n",
    "        r_p = 0\n",
    "        for i in range(number_of_stocks):\n",
    "            firm_df = pd.DataFrame(firm_characteristics[i])\n",
    "            w_i_t = (1/number_of_stocks)*theta.dot(firm_df.iloc[t])\n",
    "            r_p += w_i_t * r[i][t+1]\n",
    "        utility_values.append(utility_function(5, r_p))\n",
    "    \n",
    "    return_portifolio = sum(utility_values)/len(utility_values)\n",
    "    return_all.append(return_portifolio[0])\n",
    "    print(f\"Return {return_portifolio[0]}\")"
   ]
  },
  {
   "cell_type": "code",
   "execution_count": 35,
   "id": "exceptional-musical",
   "metadata": {},
   "outputs": [
    {
     "data": {
      "text/plain": [
       "[<matplotlib.lines.Line2D at 0x1e57d67a220>]"
      ]
     },
     "execution_count": 35,
     "metadata": {},
     "output_type": "execute_result"
    },
    {
     "data": {
      "image/png": "[encoded data removed]",
      "text/plain": [
       "<Figure size 432x288 with 1 Axes>"
      ]
     },
     "metadata": {
      "needs_background": "light"
     },
     "output_type": "display_data"
    }
   ],
   "source": [
    "plt.plot(np.log([x+1-min(return_all) for x in return_all]))"
   ]
  },
  {
   "cell_type": "code",
   "execution_count": null,
   "id": "specified-portfolio",
   "metadata": {},
   "outputs": [],
   "source": []
  },
  {
   "cell_type": "code",
   "execution_count": null,
   "id": "fifteen-globe",
   "metadata": {},
   "outputs": [],
   "source": [
    "\n",
    "\n",
    "# benchmark portifolio weight of stock i on time t\n",
    "w_i_t_bench = 1.0\n",
    "\n",
    "# weight of stock i on time t\n",
    "w_i_t = w_i_t_bench + (1/number_of_stocks)*X.dot(firm_characteristics)\n",
    "\n",
    "# Where X is a vector of coefficients that we want to find and firm_characteristics are a vector of firm characteristics.\n"
   ]
  },
  {
   "cell_type": "code",
   "execution_count": 7,
   "id": "twenty-proxy",
   "metadata": {},
   "outputs": [],
   "source": [
    "theta = np.random.rand(time, number_of_stocks, 3)"
   ]
  },
  {
   "cell_type": "code",
   "execution_count": null,
   "id": "individual-fence",
   "metadata": {},
   "outputs": [],
   "source": []
  },
  {
   "cell_type": "code",
   "execution_count": null,
   "id": "composed-margin",
   "metadata": {},
   "outputs": [],
   "source": []
  },
  {
   "cell_type": "code",
   "execution_count": null,
   "id": "drawn-lecture",
   "metadata": {},
   "outputs": [],
   "source": []
  },
  {
   "cell_type": "code",
   "execution_count": null,
   "id": "essential-criminal",
   "metadata": {},
   "outputs": [],
   "source": []
  },
  {
   "cell_type": "code",
   "execution_count": null,
   "id": "opened-storage",
   "metadata": {},
   "outputs": [],
   "source": []
  },
  {
   "cell_type": "code",
   "execution_count": null,
   "id": "enabling-arrest",
   "metadata": {},
   "outputs": [],
   "source": []
  }
 ],
 "metadata": {
  "kernelspec": {
   "display_name": "Python 3",
   "language": "python",
   "name": "python3"
  },
  "language_info": {
   "codemirror_mode": {
    "name": "ipython",
    "version": 3
   },
   "file_extension": ".py",
   "mimetype": "text/x-python",
   "name": "python",
   "nbconvert_exporter": "python",
   "pygments_lexer": "ipython3",
   "version": "3.8.5"
  }
 },
 "nbformat": 4,
 "nbformat_minor": 5
}
