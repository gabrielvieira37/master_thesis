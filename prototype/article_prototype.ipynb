{
 "cells": [
  {
   "cell_type": "code",
   "execution_count": 1,
   "id": "precious-cathedral",
   "metadata": {},
   "outputs": [],
   "source": [
    "import json\n",
    "import pandas\n",
    "import numpy"
   ]
  },
  {
   "cell_type": "code",
   "execution_count": null,
   "id": "variable-council",
   "metadata": {},
   "outputs": [],
   "source": [
    "def utility_function(risk_factor, portfolio_return):\n",
    "    value = ((1 + portfolio_return)**(1-risk_factor))/(1-risk_factor)\n",
    "    return value"
   ]
  },
  {
   "cell_type": "markdown",
   "id": "systematic-group",
   "metadata": {},
   "source": [
    "## Optimization formula:\n",
    "## $\\underset{\\theta}{\\max} \\frac{1}{T} \\sum^{T-1}_{t=0} u\\left( \\sum_{i=1}^{N_{t}}( \\bar{w}_{i,t} + \\frac{1}{N_{t}}\\theta^{\\text{T}} \\hat{x}_{i,t} ) r_{i,t+1} \\right) $\n",
    "\n",
    "## Critical point of formula:\n",
    "\n",
    "## $ \\frac{1}{T} \\sum^{T-1}_{t=0} u'(r_{p,t+1}) \\frac{1}{N_{t}}\\hat{x}_{t}^{\\text{T}} r_{t+1} = 0 $\n",
    "\n",
    "\n",
    "## Utility function\n",
    "\n",
    "## $u(r_{p,t+1}) = \\frac{(1+r_{p,t+1})^{1-\\gamma}}{1-\\gamma} $\n",
    "\n",
    "## Portfolio return\n",
    "## $ r_{p,t+1} = \\sum^{N_{t}}_{i=1} \\bar{w}_{i,t} r_{i,t+1} + \\sum^{N_{t}}_{i=1} (  \\frac{1}{N_{t}} \\theta^{\\text{T}} \\hat{x}_{i,t} ) r_{i,t+1} $\n",
    "\n",
    "\n",
    "## Utility function derivate\n",
    "\n",
    "## $u'(r_{p,t+1}) = (1+r_{p, t+1})^\\gamma r'_{p, t+1} $"
   ]
  },
  {
   "cell_type": "code",
   "execution_count": null,
   "id": "fifteen-globe",
   "metadata": {},
   "outputs": [],
   "source": [
    "number_of_stocks = 10\n",
    "\n",
    "# benchmark portifolio weight of stock i on time t\n",
    "w_i_t_bench = 1.0\n",
    "\n",
    "# weight of stock i on time t\n",
    "w_i_t = w_i_t_bench + (1/number_of_stocks)*X.dot(firm_characteristics)\n",
    "\n",
    "# Where X is a vector of coefficients that we want to find and firm_characteristics are a vector of firm characteristics.\n"
   ]
  },
  {
   "cell_type": "code",
   "execution_count": null,
   "id": "planned-authority",
   "metadata": {},
   "outputs": [],
   "source": []
  },
  {
   "cell_type": "code",
   "execution_count": null,
   "id": "exceptional-musical",
   "metadata": {},
   "outputs": [],
   "source": []
  }
 ],
 "metadata": {
  "kernelspec": {
   "display_name": "Python 3",
   "language": "python",
   "name": "python3"
  },
  "language_info": {
   "codemirror_mode": {
    "name": "ipython",
    "version": 3
   },
   "file_extension": ".py",
   "mimetype": "text/x-python",
   "name": "python",
   "nbconvert_exporter": "python",
   "pygments_lexer": "ipython3",
   "version": "3.8.5"
  }
 },
 "nbformat": 4,
 "nbformat_minor": 5
}
