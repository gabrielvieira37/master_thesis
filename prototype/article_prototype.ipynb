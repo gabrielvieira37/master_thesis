{
 "cells": [
  {
   "cell_type": "code",
   "execution_count": 1,
   "id": "precious-cathedral",
   "metadata": {},
   "outputs": [],
   "source": [
    "import json\n",
    "import pandas as pd\n",
    "import numpy as np\n",
    "import matplotlib.pyplot as plt\n",
    "from tqdm.notebook import tqdm\n",
    "from collections import defaultdict"
   ]
  },
  {
   "cell_type": "code",
   "execution_count": 2,
   "id": "formal-tunnel",
   "metadata": {},
   "outputs": [],
   "source": [
    "def utility_function(risk_factor, portfolio_return):\n",
    "    value = ((1 + portfolio_return)**(1-risk_factor))/(1-risk_factor)\n",
    "    return value"
   ]
  },
  {
   "cell_type": "markdown",
   "id": "protected-company",
   "metadata": {},
   "source": [
    "## Optimization formula:\n",
    "## $\\underset{\\theta}{\\max} \\frac{1}{T} \\sum^{T-1}_{t=0} u\\left( \\sum_{i=1}^{N_{t}}( \\bar{w}_{i,t} + \\frac{1}{N_{t}}\\theta^{\\text{T}} \\hat{x}_{i,t} ) r_{i,t+1} \\right) $\n",
    "\n",
    "## Critical point of formula:\n",
    "\n",
    "## $ \\frac{1}{T} \\sum^{T-1}_{t=0} u'(r_{p,t+1}) \\frac{1}{N_{t}}\\hat{x}_{t}^{\\text{T}} r_{t+1} = 0 $\n",
    "\n",
    "\n",
    "## Utility function\n",
    "\n",
    "## $u(r_{p,t+1}) = \\frac{(1+r_{p,t+1})^{1-\\gamma}}{1-\\gamma} $\n",
    "\n",
    "## Portfolio return\n",
    "## $ r_{p,t+1} = \\sum^{N_{t}}_{i=1} \\bar{w}_{i,t} r_{i,t+1} + \\sum^{N_{t}}_{i=1} (  \\frac{1}{N_{t}} \\theta^{\\text{T}} \\hat{x}_{i,t} ) r_{i,t+1} $\n",
    "\n",
    "\n",
    "## Utility function derivate\n",
    "\n",
    "## $u'(r_{p,t+1}) = (1+r_{p, t+1})^{-\\gamma} r'_{p, t+1} $\n",
    "\n",
    "## Portfolio return derivate\n",
    "## $ r'_{p,t+1} = \\sum^{N_{t}}_{i=1} (  \\frac{1}{N_{t}} \\hat{x}_{i,t} ) r_{i,t+1} = \\frac{1}{N_{t}}\\hat{x}_{t}^{\\text{T}} r_{t+1} $\n",
    "\n",
    "## Critical point expanded:\n",
    "## $ \\frac{1}{T} \\sum^{T-1}_{t=0} u'(r_{p,t+1}) \\frac{1}{N_{t}}\\hat{x}_{t}^{\\text{T}} r_{t+1} = 0 $\n",
    "## $ \\frac{1}{T} \\sum^{T-1}_{t=0} (1+r_{p, t+1})^{-\\gamma} r'_{p, t+1} \\frac{1}{N_{t}}\\hat{x}_{t}^{\\text{T}} r_{t+1} = 0 $\n",
    "## $ \\frac{1}{T} \\sum^{T-1}_{t=0} (1+r_{p, t+1})^{-\\gamma} (r'_{p, t+1})^2 $"
   ]
  },
  {
   "cell_type": "code",
   "execution_count": null,
   "id": "driven-being",
   "metadata": {},
   "outputs": [],
   "source": []
  },
  {
   "cell_type": "code",
   "execution_count": 35,
   "id": "coastal-comfort",
   "metadata": {},
   "outputs": [
    {
     "name": "stdout",
     "output_type": "stream",
     "text": [
      "Created all artificial stocks\n"
     ]
    },
    {
     "data": {
      "application/vnd.jupyter.widget-view+json": {
       "model_id": "2ef9af1e811a415da26f81f03c123d73",
       "version_major": 2,
       "version_minor": 0
      },
      "text/plain": [
       "HBox(children=(HTML(value=''), FloatProgress(value=0.0, max=1000.0), HTML(value='')))"
      ]
     },
     "metadata": {},
     "output_type": "display_data"
    },
    {
     "name": "stdout",
     "output_type": "stream",
     "text": [
      "\n",
      "Finished running 1000 epochs\n"
     ]
    }
   ],
   "source": [
    "r_p_grad=0\n",
    "r_p = 0\n",
    "\n",
    "time = 90 # 90 days\n",
    "number_of_stocks = 10\n",
    "np.random.seed(123)\n",
    "r = np.empty(shape=(number_of_stocks,time))\n",
    "gamma = 5\n",
    "firm_characteristics = defaultdict(list)\n",
    "# random initialization of theta for 3 firm characteristics\n",
    "theta = np.random.rand(1, 3)\n",
    "w = np.empty(shape=(number_of_stocks, time))\n",
    "# Learning rate\n",
    "lr = 1e-3\n",
    "epochs = 1000\n",
    "return_all = []\n",
    "\n",
    "# Creating artificial return\n",
    "for i in range(number_of_stocks):\n",
    "    for t in range(time):\n",
    "        # Toy firm characteristics \n",
    "        me = np.random.uniform(-1,1)\n",
    "        btm = np.random.uniform(-1,1)\n",
    "        mom = np.random.uniform(-1,1)\n",
    "        firm_characteristics[(i,'me')].append(me)\n",
    "        firm_characteristics[(i,'btm')].append(btm)\n",
    "        firm_characteristics[(i,'mom')].append(mom)\n",
    "        # simplified weight using only firm characteristics\n",
    "        # return of portifolio i at time t\n",
    "        r[i][t] = (-0.337*me + 3.553*btm + 1.623*mom)\n",
    "\n",
    "print(\"Created all artificial stocks\")\n",
    "firm_characteristics = pd.DataFrame(firm_characteristics)\n",
    "\n",
    "for k in tqdm(range(epochs)):\n",
    "    for i in range(number_of_stocks):\n",
    "        firm_df = firm_characteristics[i].copy()\n",
    "        firms_coeff = theta.dot(firm_df.T)\n",
    "        normalized_firms = (firms_coeff - firms_coeff.mean())\n",
    "        r_p_grad += firm_df.T.dot(r[i])\n",
    "        r_p += normalized_firms.dot(r[i])\n",
    "    r_p *= (1/number_of_stocks)\n",
    "    r_p_grad *= (1/number_of_stocks)\n",
    "    u_grad = np.power((1+r_p),-gamma)\n",
    "    # sum all over t to create gradient ?\n",
    "    gradient = sum([grad*r_p_grad**2 for grad in u_grad])\n",
    "    \n",
    "    theta += lr * gradient\n",
    "\n",
    "#     print(f\" Theta :{theta}, k:{k}\")\n",
    "    w = np.empty(shape=(number_of_stocks, time))\n",
    "    # Avaliate function\n",
    "    for i in range(number_of_stocks):\n",
    "        firm_df = firm_characteristics[i].copy()\n",
    "        firms_coeff = theta.dot(firm_df.T)\n",
    "        normalized_firms = (firms_coeff - firms_coeff.mean())\n",
    "        w[i] = (1/number_of_stocks)*normalized_firms\n",
    "\n",
    "    r_p = np.array([sum(w[:,t]*r[:,t+1]) for t in range(time-1)])\n",
    "    utility_values = utility_function(5, r_p)\n",
    "    return_portifolio = sum(utility_values)/len(utility_values)\n",
    "    return_all.append(return_portifolio)\n",
    "#     print(f\"Return {return_portifolio}\")\n",
    "print(f\"Finished running {epochs} epochs\")"
   ]
  },
  {
   "cell_type": "code",
   "execution_count": 36,
   "id": "electrical-mixture",
   "metadata": {},
   "outputs": [
    {
     "data": {
      "text/plain": [
       "array([ 0.02030065, -0.03100997,  0.02628279,  0.04505968, -0.07006921,\n",
       "        0.07989998,  0.05842369,  0.06437371,  0.01402664, -0.03547663])"
      ]
     },
     "execution_count": 36,
     "metadata": {},
     "output_type": "execute_result"
    }
   ],
   "source": [
    "w[:,0]"
   ]
  },
  {
   "cell_type": "code",
   "execution_count": 37,
   "id": "opponent-bishop",
   "metadata": {},
   "outputs": [
    {
     "data": {
      "text/html": [
       "<div>\n",
       "<style scoped>\n",
       "    .dataframe tbody tr th:only-of-type {\n",
       "        vertical-align: middle;\n",
       "    }\n",
       "\n",
       "    .dataframe tbody tr th {\n",
       "        vertical-align: top;\n",
       "    }\n",
       "\n",
       "    .dataframe thead th {\n",
       "        text-align: right;\n",
       "    }\n",
       "</style>\n",
       "<table border=\"1\" class=\"dataframe\">\n",
       "  <thead>\n",
       "    <tr style=\"text-align: right;\">\n",
       "      <th></th>\n",
       "      <th>0</th>\n",
       "    </tr>\n",
       "  </thead>\n",
       "  <tbody>\n",
       "    <tr>\n",
       "      <th>count</th>\n",
       "      <td>1000.000000</td>\n",
       "    </tr>\n",
       "    <tr>\n",
       "      <th>mean</th>\n",
       "      <td>-194.256583</td>\n",
       "    </tr>\n",
       "    <tr>\n",
       "      <th>std</th>\n",
       "      <td>41.267496</td>\n",
       "    </tr>\n",
       "    <tr>\n",
       "      <th>min</th>\n",
       "      <td>-289.286503</td>\n",
       "    </tr>\n",
       "    <tr>\n",
       "      <th>25%</th>\n",
       "      <td>-224.351259</td>\n",
       "    </tr>\n",
       "    <tr>\n",
       "      <th>50%</th>\n",
       "      <td>-185.121947</td>\n",
       "    </tr>\n",
       "    <tr>\n",
       "      <th>75%</th>\n",
       "      <td>-158.733751</td>\n",
       "    </tr>\n",
       "    <tr>\n",
       "      <th>max</th>\n",
       "      <td>-139.715995</td>\n",
       "    </tr>\n",
       "  </tbody>\n",
       "</table>\n",
       "</div>"
      ],
      "text/plain": [
       "                 0\n",
       "count  1000.000000\n",
       "mean   -194.256583\n",
       "std      41.267496\n",
       "min    -289.286503\n",
       "25%    -224.351259\n",
       "50%    -185.121947\n",
       "75%    -158.733751\n",
       "max    -139.715995"
      ]
     },
     "execution_count": 37,
     "metadata": {},
     "output_type": "execute_result"
    }
   ],
   "source": [
    "pd.DataFrame(return_all).describe()"
   ]
  },
  {
   "cell_type": "code",
   "execution_count": 42,
   "id": "documentary-network",
   "metadata": {},
   "outputs": [
    {
     "data": {
      "image/png": "[encoded data removed]",
      "text/plain": [
       "<Figure size 864x648 with 1 Axes>"
      ]
     },
     "metadata": {
      "needs_background": "light"
     },
     "output_type": "display_data"
    }
   ],
   "source": [
    "plt.figure(figsize=(12,9))\n",
    "# plt.yscale('linear')\n",
    "plt.scatter(x=range(len(return_all)), y=return_all)\n",
    "plt.title('Portifolio return optimization')\n",
    "plt.ylabel('Log portifolio return')\n",
    "plt.xlabel('Epoch')\n",
    "plt.grid()\n",
    "plt.show()"
   ]
  },
  {
   "cell_type": "code",
   "execution_count": null,
   "id": "freelance-reynolds",
   "metadata": {},
   "outputs": [],
   "source": []
  },
  {
   "cell_type": "code",
   "execution_count": null,
   "id": "front-democrat",
   "metadata": {},
   "outputs": [],
   "source": []
  },
  {
   "cell_type": "code",
   "execution_count": null,
   "id": "marine-filter",
   "metadata": {},
   "outputs": [],
   "source": []
  },
  {
   "cell_type": "code",
   "execution_count": null,
   "id": "creative-russia",
   "metadata": {},
   "outputs": [],
   "source": []
  },
  {
   "cell_type": "code",
   "execution_count": null,
   "id": "identical-kennedy",
   "metadata": {},
   "outputs": [],
   "source": []
  },
  {
   "cell_type": "code",
   "execution_count": null,
   "id": "infrared-tackle",
   "metadata": {},
   "outputs": [],
   "source": []
  },
  {
   "cell_type": "code",
   "execution_count": null,
   "id": "fifteen-globe",
   "metadata": {},
   "outputs": [],
   "source": [
    "\n",
    "\n",
    "# benchmark portifolio weight of stock i on time t\n",
    "w_i_t_bench = 1.0\n",
    "\n",
    "# weight of stock i on time t\n",
    "w_i_t = w_i_t_bench + (1/number_of_stocks)*X.dot(firm_characteristics)\n",
    "\n",
    "# Where X is a vector of coefficients that we want to find and firm_characteristics are a vector of firm characteristics.\n"
   ]
  },
  {
   "cell_type": "code",
   "execution_count": null,
   "id": "guided-hazard",
   "metadata": {},
   "outputs": [],
   "source": []
  },
  {
   "cell_type": "code",
   "execution_count": null,
   "id": "twenty-proxy",
   "metadata": {},
   "outputs": [],
   "source": []
  },
  {
   "cell_type": "code",
   "execution_count": null,
   "id": "drawn-lecture",
   "metadata": {},
   "outputs": [],
   "source": []
  },
  {
   "cell_type": "code",
   "execution_count": null,
   "id": "essential-criminal",
   "metadata": {},
   "outputs": [],
   "source": []
  },
  {
   "cell_type": "code",
   "execution_count": null,
   "id": "former-spelling",
   "metadata": {},
   "outputs": [],
   "source": []
  },
  {
   "cell_type": "code",
   "execution_count": null,
   "id": "opened-storage",
   "metadata": {},
   "outputs": [],
   "source": []
  },
  {
   "cell_type": "code",
   "execution_count": null,
   "id": "enabling-arrest",
   "metadata": {},
   "outputs": [],
   "source": []
  },
  {
   "cell_type": "code",
   "execution_count": null,
   "id": "forty-canberra",
   "metadata": {},
   "outputs": [],
   "source": []
  },
  {
   "cell_type": "code",
   "execution_count": 154,
   "id": "democratic-hotel",
   "metadata": {},
   "outputs": [],
   "source": []
  },
  {
   "cell_type": "code",
   "execution_count": null,
   "id": "composed-margin",
   "metadata": {},
   "outputs": [],
   "source": []
  },
  {
   "cell_type": "code",
   "execution_count": null,
   "id": "individual-fence",
   "metadata": {},
   "outputs": [],
   "source": []
  }
 ],
 "metadata": {
  "kernelspec": {
   "display_name": "Python 3",
   "language": "python",
   "name": "python3"
  },
  "language_info": {
   "codemirror_mode": {
    "name": "ipython",
    "version": 3
   },
   "file_extension": ".py",
   "mimetype": "text/x-python",
   "name": "python",
   "nbconvert_exporter": "python",
   "pygments_lexer": "ipython3",
   "version": "3.8.5"
  }
 },
 "nbformat": 4,
 "nbformat_minor": 5
}
