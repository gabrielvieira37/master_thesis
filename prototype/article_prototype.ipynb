{
 "cells": [
  {
   "cell_type": "code",
   "execution_count": 1,
   "id": "precious-cathedral",
   "metadata": {},
   "outputs": [],
   "source": [
    "import json\n",
    "import pandas as pd\n",
    "import numpy as np\n",
    "import matplotlib.pyplot as plt\n",
    "from tqdm.notebook import tqdm\n",
    "from collections import defaultdict"
   ]
  },
  {
   "cell_type": "markdown",
   "id": "suburban-taste",
   "metadata": {},
   "source": [
    "## Optimizing using GD and artificial data"
   ]
  },
  {
   "cell_type": "code",
   "execution_count": 2,
   "id": "formal-tunnel",
   "metadata": {},
   "outputs": [],
   "source": [
    "def utility_function(risk_factor, portfolio_return):\n",
    "    value = ((1 + portfolio_return)**(1-risk_factor))/(1-risk_factor)\n",
    "    return value"
   ]
  },
  {
   "cell_type": "code",
   "execution_count": 3,
   "id": "instructional-particle",
   "metadata": {},
   "outputs": [],
   "source": [
    "def utility_function_grad(r_p, gamma, r_p_grad):\n",
    "    u_grad = np.power((1+r_p),-gamma) * r_p_grad\n",
    "    return u_grad"
   ]
  },
  {
   "cell_type": "code",
   "execution_count": null,
   "id": "raising-crystal",
   "metadata": {},
   "outputs": [],
   "source": []
  },
  {
   "cell_type": "markdown",
   "id": "protected-company",
   "metadata": {},
   "source": [
    "## Optimization formula:\n",
    "## $\\underset{\\theta}{\\max} \\frac{1}{T} \\sum^{T-1}_{t=0} u\\left( \\sum_{i=1}^{N_{t}}( \\bar{w}_{i,t} + \\frac{1}{N_{t}}\\theta^{\\text{T}} \\hat{x}_{i,t} ) r_{i,t+1} \\right) $\n",
    "\n",
    "## Critical point of formula:\n",
    "\n",
    "## $ \\frac{1}{T} \\sum^{T-1}_{t=0} u'(r_{p,t+1}) \\frac{1}{N_{t}}\\hat{x}_{t}^{\\text{T}} r_{t+1} = 0 $\n",
    "\n",
    "\n",
    "## Utility function\n",
    "\n",
    "## $u(r_{p,t+1}) = \\frac{(1+r_{p,t+1})^{1-\\gamma}}{1-\\gamma} $\n",
    "\n",
    "## Portfolio return\n",
    "## $ r_{p,t+1} = \\sum^{N_{t}}_{i=1} \\bar{w}_{i,t} r_{i,t+1} + \\sum^{N_{t}}_{i=1} (  \\frac{1}{N_{t}} \\theta^{\\text{T}} \\hat{x}_{i,t} ) r_{i,t+1} $\n",
    "\n",
    "\n",
    "## Utility function derivate\n",
    "\n",
    "## $u'(r_{p,t+1}) = (1+r_{p, t+1})^{-\\gamma} r'_{p, t+1} $\n",
    "\n",
    "## Portfolio return derivate\n",
    "## $ r'_{p,t+1} = \\sum^{N_{t}}_{i=1} (  \\frac{1}{N_{t}} \\hat{x}_{i,t} ) r_{i,t+1} = \\frac{1}{N_{t}}\\hat{x}_{t}^{\\text{T}} r_{t+1} $\n",
    "\n",
    "## Critical point expanded:\n",
    "## $ \\frac{1}{T} \\sum^{T-1}_{t=0} u'(r_{p,t+1}) \\frac{1}{N_{t}}\\hat{x}_{t}^{\\text{T}} r_{t+1} = 0 $\n",
    "## $ \\frac{1}{T} \\sum^{T-1}_{t=0} (1+r_{p, t+1})^{-\\gamma} r'_{p, t+1} \\frac{1}{N_{t}}\\hat{x}_{t}^{\\text{T}} r_{t+1} = 0 $\n",
    "## $ \\frac{1}{T} \\sum^{T-1}_{t=0} (1+r_{p, t+1})^{-\\gamma} (r'_{p, t+1})^2 $"
   ]
  },
  {
   "cell_type": "code",
   "execution_count": 10,
   "id": "dated-atlanta",
   "metadata": {},
   "outputs": [
    {
     "name": "stdout",
     "output_type": "stream",
     "text": [
      "Created all artificial stocks\n"
     ]
    }
   ],
   "source": [
    "np.set_printoptions(formatter={'float': lambda x: \"{0:0.5f}\".format(x)})\n",
    "\n",
    "time = 90 # 90 days\n",
    "number_of_stocks = 10\n",
    "np.random.seed(123)\n",
    "r = np.empty(shape=(number_of_stocks,time))\n",
    "gamma = 5\n",
    "firm_characteristics = defaultdict(list)\n",
    "# random initialization of theta for 3 firm characteristics\n",
    "w = np.empty(shape=(number_of_stocks, time))\n",
    "# Learning rate\n",
    "lr = 1e-3\n",
    "epochs = 5000\n",
    "return_all = []\n",
    "\n",
    "# Creating artificial return\n",
    "for i in range(number_of_stocks):\n",
    "    for t in range(time):\n",
    "        # Toy firm characteristics\n",
    "        if i>=5:\n",
    "            # Negative return firms\n",
    "            me = np.random.uniform(0,1)\n",
    "            btm = np.random.uniform(-1,0)\n",
    "            mom = np.random.uniform(-1,0)\n",
    "        else:\n",
    "            # Positive return firms\n",
    "            me = np.random.uniform(-1,0)\n",
    "            btm = np.random.uniform(0,1)\n",
    "            mom = np.random.uniform(0,1)\n",
    "#         me = np.random.uniform(-1,1)\n",
    "#         btm = np.random.uniform(-1,1)\n",
    "#         mom = np.random.uniform(-1,1)\n",
    "            \n",
    "        firm_characteristics[(i,'me')].append(me)\n",
    "        firm_characteristics[(i,'btm')].append(btm)\n",
    "        firm_characteristics[(i,'mom')].append(mom)\n",
    "        # simplified weight using only firm characteristics\n",
    "        # return of portifolio i at time t\n",
    "        r[i][t] = (-0.337*me + 3.553*btm + 1.623*mom)\n",
    "\n",
    "print(\"Created all artificial stocks\")\n",
    "firm_characteristics = pd.DataFrame(firm_characteristics)\n",
    "# Normalize firm characteristics for each stock\n",
    "firm_characteristics.T.loc[(slice(None), \"me\"), :] -= firm_characteristics.T.loc[(slice(None), \"me\"), :].mean()\n",
    "firm_characteristics.T.loc[(slice(None), \"btm\"), :] -= firm_characteristics.T.loc[(slice(None), \"btm\"), :].mean()\n",
    "firm_characteristics.T.loc[(slice(None), \"mom\"), :] -= firm_characteristics.T.loc[(slice(None), \"mom\"), :].mean()"
   ]
  },
  {
   "cell_type": "code",
   "execution_count": 11,
   "id": "welcome-recommendation",
   "metadata": {},
   "outputs": [],
   "source": [
    "# Creating a weight from a benchmark portifolio this one\n",
    "# specific is related to return of each stock for simplicity\n",
    "w_benchmark = np.empty(shape=(number_of_stocks, time))\n",
    "epsilon=1e-5\n",
    "for t in range(time):\n",
    "    positive_returns = (r[:,t]-min(r[:,t]))+epsilon\n",
    "    w_benchmark[:,t] = positive_returns/sum(positive_returns)"
   ]
  },
  {
   "cell_type": "code",
   "execution_count": 12,
   "id": "coastal-comfort",
   "metadata": {},
   "outputs": [
    {
     "data": {
      "application/vnd.jupyter.widget-view+json": {
       "model_id": "8585842dc7524c448bb7e451d96bf67a",
       "version_major": 2,
       "version_minor": 0
      },
      "text/plain": [
       "HBox(children=(HTML(value=''), FloatProgress(value=0.0, max=5000.0), HTML(value='')))"
      ]
     },
     "metadata": {},
     "output_type": "display_data"
    },
    {
     "name": "stdout",
     "output_type": "stream",
     "text": [
      "\n",
      "Finished running 5000 epochs\n"
     ]
    }
   ],
   "source": [
    "np.random.seed(123)\n",
    "theta = np.random.rand(1, 3)\n",
    "for k in tqdm(range(epochs)):\n",
    "    r_p_grad=0\n",
    "    r_p = 0\n",
    "    # Optmize Theta over all stocks and times\n",
    "#     print(f\" Theta :{theta}, k:{k}\")\n",
    "    for i in range(number_of_stocks):\n",
    "        firm_df = firm_characteristics[i].copy()\n",
    "        firms_coeff = theta.dot(firm_df.T)\n",
    "        # Multiply only t-1 firm characteristics\n",
    "        # Starting return r at t+1\n",
    "        r_p_grad += firm_df[:-1].T * r[i, 1:]\n",
    "        r_p +=  w_benchmark[i,:-1]*r[i, 1:] + (1/number_of_stocks)*firms_coeff[:,:-1]*r[i, 1:]\n",
    "    r_p_grad *= (1/number_of_stocks)\n",
    "    u_grad = utility_function_grad(r_p, gamma, r_p_grad)\n",
    "    # It will be changed with u_grad\n",
    "    gradient = (r_p_grad * u_grad).T.sum()/time\n",
    "#     print(f\" Gradient :{gradient.to_numpy()}, k:{k}\\n\")\n",
    "    theta += lr * gradient\n",
    "\n",
    "    \n",
    "    # Avaliate function\n",
    "    for i in range(number_of_stocks):\n",
    "        firm_df = firm_characteristics[i].copy()\n",
    "        firms_coeff = theta.dot(firm_df.T)\n",
    "        w[i] = w_benchmark[i] + (1/number_of_stocks)*firms_coeff\n",
    "    \n",
    "    # Using t-1 weights and r from 1 to t\n",
    "    r_p = sum(w[:,:-1]*r[:,1:])\n",
    "    utility_values = utility_function(5, r_p)\n",
    "    # Average over T \n",
    "    average_return_portifolio = sum(utility_values)/len(utility_values)\n",
    "    return_all.append(average_return_portifolio)\n",
    "#     print(f\"Return {average_return_portifolio}\")\n",
    "print(f\"Finished running {epochs} epochs\")"
   ]
  },
  {
   "cell_type": "code",
   "execution_count": 23,
   "id": "dressed-behavior",
   "metadata": {},
   "outputs": [
    {
     "data": {
      "text/plain": [
       "array([0.16143, 0.16431, 0.16957, 0.15279, 0.15868, 0.04073, 0.04327,\n",
       "       0.03851, 0.03118, 0.03953])"
      ]
     },
     "execution_count": 23,
     "metadata": {},
     "output_type": "execute_result"
    }
   ],
   "source": [
    "np.sum(w, axis=1)/time"
   ]
  },
  {
   "cell_type": "code",
   "execution_count": 14,
   "id": "opponent-bishop",
   "metadata": {},
   "outputs": [
    {
     "data": {
      "text/html": [
       "<div>\n",
       "<style scoped>\n",
       "    .dataframe tbody tr th:only-of-type {\n",
       "        vertical-align: middle;\n",
       "    }\n",
       "\n",
       "    .dataframe tbody tr th {\n",
       "        vertical-align: top;\n",
       "    }\n",
       "\n",
       "    .dataframe thead th {\n",
       "        text-align: right;\n",
       "    }\n",
       "</style>\n",
       "<table border=\"1\" class=\"dataframe\">\n",
       "  <thead>\n",
       "    <tr style=\"text-align: right;\">\n",
       "      <th></th>\n",
       "      <th>0</th>\n",
       "    </tr>\n",
       "  </thead>\n",
       "  <tbody>\n",
       "    <tr>\n",
       "      <th>count</th>\n",
       "      <td>5000.000000</td>\n",
       "    </tr>\n",
       "    <tr>\n",
       "      <th>mean</th>\n",
       "      <td>-0.008991</td>\n",
       "    </tr>\n",
       "    <tr>\n",
       "      <th>std</th>\n",
       "      <td>0.000094</td>\n",
       "    </tr>\n",
       "    <tr>\n",
       "      <th>min</th>\n",
       "      <td>-0.009211</td>\n",
       "    </tr>\n",
       "    <tr>\n",
       "      <th>25%</th>\n",
       "      <td>-0.009060</td>\n",
       "    </tr>\n",
       "    <tr>\n",
       "      <th>50%</th>\n",
       "      <td>-0.008959</td>\n",
       "    </tr>\n",
       "    <tr>\n",
       "      <th>75%</th>\n",
       "      <td>-0.008906</td>\n",
       "    </tr>\n",
       "    <tr>\n",
       "      <th>max</th>\n",
       "      <td>-0.008897</td>\n",
       "    </tr>\n",
       "  </tbody>\n",
       "</table>\n",
       "</div>"
      ],
      "text/plain": [
       "                 0\n",
       "count  5000.000000\n",
       "mean     -0.008991\n",
       "std       0.000094\n",
       "min      -0.009211\n",
       "25%      -0.009060\n",
       "50%      -0.008959\n",
       "75%      -0.008906\n",
       "max      -0.008897"
      ]
     },
     "execution_count": 14,
     "metadata": {},
     "output_type": "execute_result"
    }
   ],
   "source": [
    "pd.DataFrame(return_all).describe()"
   ]
  },
  {
   "cell_type": "code",
   "execution_count": 15,
   "id": "documentary-network",
   "metadata": {},
   "outputs": [
    {
     "data": {
      "image/png": "[encoded data removed]",
      "text/plain": [
       "<Figure size 864x648 with 1 Axes>"
      ]
     },
     "metadata": {
      "needs_background": "light"
     },
     "output_type": "display_data"
    }
   ],
   "source": [
    "plt.figure(figsize=(12,9))\n",
    "# plt.yscale('symlog')\n",
    "plt.scatter(x=range(len(return_all)), y=return_all)\n",
    "plt.title('Portifolio return optimization')\n",
    "plt.ylabel('Log portifolio return')\n",
    "plt.xlabel('Epoch')\n",
    "plt.grid()\n",
    "plt.show()"
   ]
  },
  {
   "cell_type": "code",
   "execution_count": 231,
   "id": "freelance-reynolds",
   "metadata": {},
   "outputs": [
    {
     "data": {
      "image/png": "[encoded data removed]",
      "text/plain": [
       "<Figure size 864x648 with 1 Axes>"
      ]
     },
     "metadata": {
      "needs_background": "light"
     },
     "output_type": "display_data"
    }
   ],
   "source": [
    "plt.figure(figsize=(12,9))\n",
    "# plt.yscale('symlog')\n",
    "plt.boxplot(return_all)\n",
    "plt.title('Portifolio return optimization')\n",
    "plt.ylabel('Log portifolio return')\n",
    "plt.show()"
   ]
  },
  {
   "cell_type": "code",
   "execution_count": 60,
   "id": "documentary-february",
   "metadata": {},
   "outputs": [],
   "source": []
  },
  {
   "cell_type": "code",
   "execution_count": null,
   "id": "experienced-exchange",
   "metadata": {},
   "outputs": [],
   "source": []
  },
  {
   "cell_type": "code",
   "execution_count": null,
   "id": "recorded-commissioner",
   "metadata": {},
   "outputs": [],
   "source": []
  },
  {
   "cell_type": "code",
   "execution_count": null,
   "id": "twenty-proxy",
   "metadata": {},
   "outputs": [],
   "source": []
  },
  {
   "cell_type": "markdown",
   "id": "inside-affair",
   "metadata": {},
   "source": [
    "## Using scipy to optimize easily and to add constraints"
   ]
  },
  {
   "cell_type": "code",
   "execution_count": null,
   "id": "essential-criminal",
   "metadata": {},
   "outputs": [],
   "source": []
  },
  {
   "cell_type": "code",
   "execution_count": null,
   "id": "mineral-double",
   "metadata": {},
   "outputs": [],
   "source": []
  },
  {
   "cell_type": "code",
   "execution_count": 12,
   "id": "opened-storage",
   "metadata": {},
   "outputs": [
    {
     "name": "stdout",
     "output_type": "stream",
     "text": [
      "Created all artificial stocks\n"
     ]
    }
   ],
   "source": [
    "np.set_printoptions(formatter={'float': lambda x: \"{0:0.5f}\".format(x)})\n",
    "\n",
    "time = 90 # 4000 days\n",
    "number_of_stocks = 10\n",
    "np.random.seed(123)\n",
    "r = np.empty(shape=(number_of_stocks,time))\n",
    "gamma = 5\n",
    "firm_characteristics = defaultdict(list)\n",
    "# Learning rate\n",
    "lr = 1e-3\n",
    "epochs = 5000\n",
    "return_all = []\n",
    "\n",
    "# Creating artificial return\n",
    "for i in range(number_of_stocks):\n",
    "    for t in range(time):\n",
    "        # Toy firm characteristics\n",
    "        if i>=5:\n",
    "            # Negative return firms\n",
    "            me = np.random.uniform(0,1)\n",
    "            btm = np.random.uniform(-1,0)\n",
    "            mom = np.random.uniform(-1,0)\n",
    "        else:\n",
    "            # Positive return firms\n",
    "            me = np.random.uniform(-1,0)\n",
    "            btm = np.random.uniform(0,1)\n",
    "            mom = np.random.uniform(0,1)\n",
    "#         me = np.random.uniform(-1,1)\n",
    "#         btm = np.random.uniform(-1,1)\n",
    "#         mom = np.random.uniform(-1,1)\n",
    "            \n",
    "        firm_characteristics[(i,'me')].append(me)\n",
    "        firm_characteristics[(i,'btm')].append(btm)\n",
    "        firm_characteristics[(i,'mom')].append(mom)\n",
    "        # simplified weight using only firm characteristics\n",
    "        # return of portifolio i at time t\n",
    "        r[i][t] = (-0.337*me + 3.553*btm + 1.623*mom)\n",
    "\n",
    "print(\"Created all artificial stocks\")\n",
    "firm_characteristics = pd.DataFrame(firm_characteristics)\n",
    "# Normalize firm characteristics for each stock\n",
    "firm_characteristics.T.loc[(slice(None), \"me\"), :] -= firm_characteristics.T.loc[(slice(None), \"me\"), :].mean()\n",
    "firm_characteristics.T.loc[(slice(None), \"btm\"), :] -= firm_characteristics.T.loc[(slice(None), \"btm\"), :].mean()\n",
    "firm_characteristics.T.loc[(slice(None), \"mom\"), :] -= firm_characteristics.T.loc[(slice(None), \"mom\"), :].mean()"
   ]
  },
  {
   "cell_type": "code",
   "execution_count": 13,
   "id": "enabling-arrest",
   "metadata": {},
   "outputs": [],
   "source": [
    "# Creating a weight from a benchmark portifolio this one\n",
    "# specific is related to return of each stock for simplicity\n",
    "w_benchmark = np.empty(shape=(number_of_stocks, time))\n",
    "epsilon=1e-5\n",
    "for t in range(time):\n",
    "    positive_returns = (r[:,t]-min(r[:,t]))+epsilon\n",
    "    w_benchmark[:,t] = positive_returns/sum(positive_returns)"
   ]
  },
  {
   "cell_type": "code",
   "execution_count": 14,
   "id": "apart-slovenia",
   "metadata": {},
   "outputs": [],
   "source": [
    "def utility_function(risk_factor, portfolio_return):\n",
    "    value = ((1 + portfolio_return)**(1-risk_factor))/(1-risk_factor)\n",
    "    return value"
   ]
  },
  {
   "cell_type": "code",
   "execution_count": 52,
   "id": "intensive-injury",
   "metadata": {},
   "outputs": [],
   "source": [
    "time = 90\n",
    "def objective(theta): \n",
    "    w = np.empty(shape=(number_of_stocks, time))\n",
    "    for i in range(number_of_stocks):\n",
    "        w[i] = w_benchmark[i] + (1/number_of_stocks)*theta.dot(firm_characteristics[i].copy().T)\n",
    "    \n",
    "    return -sum(sum(utility_function(5, w[:,:-1]*r[:,1:])))/time"
   ]
  },
  {
   "cell_type": "code",
   "execution_count": 48,
   "id": "composed-margin",
   "metadata": {},
   "outputs": [
    {
     "data": {
      "text/plain": [
       "array([[0.69647, 0.28614, 0.22685]])"
      ]
     },
     "execution_count": 48,
     "metadata": {},
     "output_type": "execute_result"
    }
   ],
   "source": [
    "np.random.seed(123)\n",
    "theta0 = np.random.rand(1, 3)\n",
    "theta0"
   ]
  },
  {
   "cell_type": "code",
   "execution_count": 17,
   "id": "individual-fence",
   "metadata": {},
   "outputs": [],
   "source": [
    "from scipy.optimize import minimize"
   ]
  },
  {
   "cell_type": "code",
   "execution_count": 55,
   "id": "adjusted-quick",
   "metadata": {},
   "outputs": [],
   "source": [
    "opt_iter = 1\n",
    "mean_obj_r = []\n",
    "mean_r = []\n",
    "def callback_steps(thetaI):\n",
    "    global opt_iter\n",
    "    print(f\"i:{opt_iter}, theta i: {thetaI}, f(theta):{objective(thetaI)}\")\n",
    "    mean_obj_r.append(-objective(thetaI))\n",
    "    \n",
    "    w_iter = np.empty(shape=(number_of_stocks, time))\n",
    "    for i in range(number_of_stocks):\n",
    "        w_iter[i] = w_benchmark[i] + (1/number_of_stocks)*thetaI.dot(firm_characteristics[i].copy().T)\n",
    "    mean_r.append(sum(sum(w_iter*r)))\n",
    "    \n",
    "    opt_iter += 1"
   ]
  },
  {
   "cell_type": "code",
   "execution_count": 56,
   "id": "supported-going",
   "metadata": {},
   "outputs": [
    {
     "name": "stdout",
     "output_type": "stream",
     "text": [
      "i:1, theta i: [-0.06351 0.70841 0.74088], f(theta):1.2131658535421985\n",
      "i:2, theta i: [-0.20432 0.90021 0.93178], f(theta):0.9978152325831017\n",
      "i:3, theta i: [-0.52549 1.36168 1.38148], f(theta):0.6731738839743524\n",
      "i:4, theta i: [-0.91579 1.94000 1.93716], f(theta):0.451484515895554\n",
      "i:5, theta i: [-1.39522 2.65933 2.62362], f(theta):0.3002525460209777\n",
      "i:6, theta i: [-1.98102 3.54260 3.46382], f(theta):0.1983528425988593\n",
      "i:7, theta i: [-2.69483 4.62088 4.48809], f(theta):0.1301370450768914\n",
      "i:8, theta i: [-3.56019 5.92892 5.72992], f(theta):0.08483774706203423\n",
      "i:9, theta i: [-4.60438 7.50756 7.22839], f(theta):0.054968658415998156\n",
      "i:10, theta i: [-5.85825 9.40331 9.02778], f(theta):0.03541244184901504\n",
      "i:11, theta i: [-7.35715 11.66955 11.17886], f(theta):0.022691391987925764\n",
      "i:12, theta i: [-9.14152 14.36743 13.73968], f(theta):0.014466088600210095\n",
      "i:13, theta i: [-11.25767 17.56695 16.77670], f(theta):0.009176830512822358\n",
      "i:14, theta i: [-13.75844 21.34802 20.36577], f(theta):0.005793002588708184\n",
      "i:15, theta i: [-16.70368 25.80111 24.59275], f(theta):0.0036389331286395864\n",
      "i:16, theta i: [-20.16053 31.02773 29.55401], f(theta):0.0022745626554857433\n",
      "i:17, theta i: [-24.20360 37.14071 35.35663], f(theta):0.0014148252534326787\n",
      "i:18, theta i: [-28.91525 44.26455 42.11880], f(theta):0.000875932622163085\n",
      "i:19, theta i: [-34.38611 52.53628 49.97058], f(theta):0.0005399357315046126\n",
      "i:20, theta i: [-40.71603 62.10689 59.05532], f(theta):0.00033151769537402044\n"
     ]
    },
    {
     "data": {
      "text/plain": [
       "      fun: 0.00033151769537402044\n",
       " hess_inv: array([[141944.34195, -214613.46502, -203717.71370],\n",
       "       [-214613.46502, 324488.78434, 308013.86671],\n",
       "       [-203717.71370, 308013.86671, 292377.30351]])\n",
       "      jac: array([0.00001, -0.00000, -0.00001])\n",
       "  message: 'Optimization terminated successfully.'\n",
       "     nfev: 84\n",
       "      nit: 20\n",
       "     njev: 21\n",
       "   status: 0\n",
       "  success: True\n",
       "        x: array([-40.71603, 62.10689, 59.05532])"
      ]
     },
     "execution_count": 56,
     "metadata": {},
     "output_type": "execute_result"
    }
   ],
   "source": [
    "sol = minimize(objective, theta0, callback=callback_steps)\n",
    "sol"
   ]
  },
  {
   "cell_type": "code",
   "execution_count": 20,
   "id": "fitting-livestock",
   "metadata": {},
   "outputs": [],
   "source": [
    "sol_theta = sol.x\n",
    "w_sol = np.empty(shape=(number_of_stocks, time))\n",
    "for i in range(number_of_stocks):\n",
    "    firm_df = firm_characteristics[i].copy()\n",
    "    firms_coeff = sol_theta.dot(firm_df.T)\n",
    "    w_sol[i] = w_benchmark[i] + (1/number_of_stocks)*firms_coeff"
   ]
  },
  {
   "cell_type": "code",
   "execution_count": 28,
   "id": "institutional-plasma",
   "metadata": {},
   "outputs": [
    {
     "data": {
      "text/plain": [
       "array([8.31961, 8.38071, 8.25111, 7.94663, 8.36792, -8.06084, -7.75736,\n",
       "       -8.13767, -8.13713, -8.17299])"
      ]
     },
     "execution_count": 28,
     "metadata": {},
     "output_type": "execute_result"
    }
   ],
   "source": [
    "np.sum(w_sol, axis=1)/time"
   ]
  },
  {
   "cell_type": "code",
   "execution_count": 44,
   "id": "killing-chart",
   "metadata": {},
   "outputs": [
    {
     "data": {
      "text/plain": [
       "190.9346282688151"
      ]
     },
     "execution_count": 44,
     "metadata": {},
     "output_type": "execute_result"
    }
   ],
   "source": [
    "sum(sum(w_benchmark*r))"
   ]
  },
  {
   "cell_type": "code",
   "execution_count": 45,
   "id": "younger-hammer",
   "metadata": {},
   "outputs": [
    {
     "data": {
      "text/plain": [
       "22450.27196617353"
      ]
     },
     "execution_count": 45,
     "metadata": {},
     "output_type": "execute_result"
    }
   ],
   "source": [
    "sum(sum(w_sol*r))"
   ]
  },
  {
   "cell_type": "code",
   "execution_count": 68,
   "id": "emotional-welcome",
   "metadata": {
    "scrolled": false
   },
   "outputs": [
    {
     "data": {
      "image/png": "[encoded data removed]",
      "text/plain": [
       "<Figure size 864x648 with 1 Axes>"
      ]
     },
     "metadata": {
      "needs_background": "light"
     },
     "output_type": "display_data"
    }
   ],
   "source": [
    "x = range(len(mean_obj_r))\n",
    "plt.figure(figsize=(12,9))\n",
    "plt.title(\"Mean objective return for each iteration step\")\n",
    "plt.plot(x, mean_obj_r)\n",
    "plt.xlabel('Iteration')\n",
    "plt.ylabel('Mean return')\n",
    "plt.grid()\n",
    "plt.show()"
   ]
  },
  {
   "cell_type": "code",
   "execution_count": 70,
   "id": "simple-injection",
   "metadata": {},
   "outputs": [
    {
     "data": {
      "image/png": "[encoded data removed]",
      "text/plain": [
       "<Figure size 864x648 with 1 Axes>"
      ]
     },
     "metadata": {
      "needs_background": "light"
     },
     "output_type": "display_data"
    }
   ],
   "source": [
    "x = range(len(mean_r))\n",
    "plt.figure(figsize=(12,9))\n",
    "plt.title(\"Mean return using weight for each iteration step\")\n",
    "plt.plot(x, mean_r, label='Optimized return')\n",
    "plt.plot(x, [sum(sum(w_benchmark*r))]*len(x), label='Benchmark return')\n",
    "plt.xlabel('Iteration')\n",
    "plt.ylabel('Mean return')\n",
    "plt.legend()\n",
    "plt.grid()\n",
    "plt.show()"
   ]
  },
  {
   "cell_type": "code",
   "execution_count": null,
   "id": "vocal-telling",
   "metadata": {},
   "outputs": [],
   "source": []
  },
  {
   "cell_type": "markdown",
   "id": "quarterly-special",
   "metadata": {},
   "source": [
    "## Using real data"
   ]
  },
  {
   "cell_type": "markdown",
   "id": "severe-punishment",
   "metadata": {},
   "source": [
    "### Training"
   ]
  },
  {
   "cell_type": "code",
   "execution_count": 2,
   "id": "personal-batman",
   "metadata": {},
   "outputs": [],
   "source": [
    "lreturn = pd.read_csv('monthly_lagged_return.csv')\n",
    "mcap = pd.read_csv('monthly_market_cap.csv')\n",
    "book_to_mkt_ratio = pd.read_csv('monthly_book_to_mkt_ratio.csv')\n",
    "monthly_return = pd.read_csv('monthly_return.csv')\n",
    "lreturn.fillna(method='bfill', inplace=True)\n",
    "mcap.fillna(method='bfill', inplace=True)\n",
    "book_to_mkt_ratio.fillna(method='bfill', inplace=True)\n",
    "monthly_return.fillna(method='bfill', inplace=True)"
   ]
  },
  {
   "cell_type": "code",
   "execution_count": 3,
   "id": "assisted-candidate",
   "metadata": {},
   "outputs": [],
   "source": [
    "from sklearn.model_selection import TimeSeriesSplit\n",
    "splits = TimeSeriesSplit(n_splits=3)"
   ]
  },
  {
   "cell_type": "code",
   "execution_count": 4,
   "id": "married-variety",
   "metadata": {
    "scrolled": true
   },
   "outputs": [
    {
     "data": {
      "image/png": "[encoded data removed]",
      "text/plain": [
       "<Figure size 864x576 with 1 Axes>"
      ]
     },
     "metadata": {
      "needs_background": "light"
     },
     "output_type": "display_data"
    },
    {
     "data": {
      "image/png": "[encoded data removed]",
      "text/plain": [
       "<Figure size 864x576 with 1 Axes>"
      ]
     },
     "metadata": {
      "needs_background": "light"
     },
     "output_type": "display_data"
    },
    {
     "data": {
      "image/png": "[encoded data removed]",
      "text/plain": [
       "<Figure size 864x576 with 1 Axes>"
      ]
     },
     "metadata": {
      "needs_background": "light"
     },
     "output_type": "display_data"
    }
   ],
   "source": [
    "for train, val in splits.split(book_to_mkt_ratio):\n",
    "    train_btm = book_to_mkt_ratio.loc[train]\n",
    "    train_me = mcap.loc[train]\n",
    "    train_mom = lreturn.loc[train]\n",
    "    train_return = monthly_return.loc[train]\n",
    "    \n",
    "    val_btm = book_to_mkt_ratio.loc[val]\n",
    "    val_me = mcap.loc[val]\n",
    "    val_mom = lreturn.loc[val]\n",
    "    \n",
    "    test_return = monthly_return.loc[val]\n",
    "\n",
    "    plt.figure(figsize=(12,8))\n",
    "    plt.title(\"Vale Daily book to market ratio\")\n",
    "    plt.ticklabel_format(style='plain')\n",
    "    train_btm['VALE3'].plot(c='blue', label='train')\n",
    "    val_btm['VALE3'].plot(c='orange', label='validation')\n",
    "    plt.legend()\n",
    "    # plt.grid()\n",
    "    plt.show()"
   ]
  },
  {
   "cell_type": "code",
   "execution_count": 5,
   "id": "purple-rally",
   "metadata": {},
   "outputs": [
    {
     "data": {
      "text/plain": [
       "['ABCB4',\n",
       " 'ABRE11',\n",
       " 'AEDU3',\n",
       " 'AELP3',\n",
       " 'AGEN11',\n",
       " 'AGRO3',\n",
       " 'ALLL3',\n",
       " 'ALPA4',\n",
       " 'ALSC3',\n",
       " 'AMAR3',\n",
       " 'AMBV3',\n",
       " 'AMBV4',\n",
       " 'AMIL3',\n",
       " 'ARZZ3',\n",
       " 'AUTM3',\n",
       " 'BAZA3',\n",
       " 'BBAS3',\n",
       " 'BBDC3',\n",
       " 'BBDC4',\n",
       " 'BBRK3',\n",
       " 'BEEF3',\n",
       " 'BEMA3',\n",
       " 'BHGR3',\n",
       " 'BICB4',\n",
       " 'BISA3',\n",
       " 'BOBR4',\n",
       " 'BPHA3',\n",
       " 'BPNM4',\n",
       " 'BRAP4',\n",
       " 'BRFS3',\n",
       " 'BRIN3',\n",
       " 'BRKM5',\n",
       " 'BRML3',\n",
       " 'BRPR3',\n",
       " 'BRSR6',\n",
       " 'BRTO3',\n",
       " 'BRTO4',\n",
       " 'BTOW3',\n",
       " 'BTTL4',\n",
       " 'BVMF3',\n",
       " 'CARD3',\n",
       " 'CCIM3',\n",
       " 'CCPR3',\n",
       " 'CCRO3',\n",
       " 'CESP6',\n",
       " 'CGAS3',\n",
       " 'CGAS5',\n",
       " 'CIEL3',\n",
       " 'CLSC6',\n",
       " 'CMIG3',\n",
       " 'CMIG4',\n",
       " 'CNFB4',\n",
       " 'COCE3',\n",
       " 'COCE5',\n",
       " 'CPFE3',\n",
       " 'CPLE3',\n",
       " 'CPLE6',\n",
       " 'CRDE3',\n",
       " 'CREM3',\n",
       " 'CRUZ3',\n",
       " 'CSAN3',\n",
       " 'CSMG3',\n",
       " 'CSNA3',\n",
       " 'CTAX3',\n",
       " 'CTAX4',\n",
       " 'CTIP3',\n",
       " 'CTNM4',\n",
       " 'CYRE3',\n",
       " 'CZLT11',\n",
       " 'CZRS4',\n",
       " 'DAGB11',\n",
       " 'DASA3',\n",
       " 'DAYC4',\n",
       " 'DIRR3',\n",
       " 'DROG3',\n",
       " 'DTEX3',\n",
       " 'ECOR3',\n",
       " 'ELET3',\n",
       " 'ELET6',\n",
       " 'ELPL4',\n",
       " 'EMBR3',\n",
       " 'ENBR3',\n",
       " 'EQTL3',\n",
       " 'ESTC3',\n",
       " 'ESTR4',\n",
       " 'ETER3',\n",
       " 'EUCA4',\n",
       " 'EVEN3',\n",
       " 'EZTC3',\n",
       " 'FESA4',\n",
       " 'FFTL4',\n",
       " 'FHER3',\n",
       " 'FIBR3',\n",
       " 'FJTA4',\n",
       " 'FLRY3',\n",
       " 'FRAS4',\n",
       " 'FRIO3',\n",
       " 'FTRX4',\n",
       " 'GETI3',\n",
       " 'GETI4',\n",
       " 'GFSA3',\n",
       " 'GGBR3',\n",
       " 'GGBR4',\n",
       " 'GOAU3',\n",
       " 'GOAU4',\n",
       " 'GOLL4',\n",
       " 'GPCP3',\n",
       " 'GPIV11',\n",
       " 'GRND3',\n",
       " 'GSHP3',\n",
       " 'GUAR3',\n",
       " 'GUAR4',\n",
       " 'HAGA4',\n",
       " 'HBOR3',\n",
       " 'HETA4',\n",
       " 'HGTX3',\n",
       " 'HRTP3',\n",
       " 'HYPE3',\n",
       " 'IDNT3',\n",
       " 'IDVL4',\n",
       " 'IENG3',\n",
       " 'IENG5',\n",
       " 'IGBR3',\n",
       " 'IGTA3',\n",
       " 'IMBI4',\n",
       " 'IMCH3',\n",
       " 'INEP4',\n",
       " 'ITSA3',\n",
       " 'ITSA4',\n",
       " 'ITUB3',\n",
       " 'ITUB4',\n",
       " 'JBSS3',\n",
       " 'JFEN3',\n",
       " 'JHSF3',\n",
       " 'JSLG3',\n",
       " 'KEPL3',\n",
       " 'KLBN4',\n",
       " 'KROT11',\n",
       " 'LAME3',\n",
       " 'LAME4',\n",
       " 'LEVE3',\n",
       " 'LIGT3',\n",
       " 'LLIS3',\n",
       " 'LLXL3',\n",
       " 'LOGN3',\n",
       " 'LPSB3',\n",
       " 'LREN3',\n",
       " 'LUPA3',\n",
       " 'MAGG3',\n",
       " 'MDIA3',\n",
       " 'MGLU3',\n",
       " 'MILK11',\n",
       " 'MILS3',\n",
       " 'MLFT4',\n",
       " 'MMXM3',\n",
       " 'MNDL3',\n",
       " 'MNDL4',\n",
       " 'MNPR3',\n",
       " 'MPLU3',\n",
       " 'MPXE3',\n",
       " 'MRFG3',\n",
       " 'MRVE3',\n",
       " 'MTIG4',\n",
       " 'MULT3',\n",
       " 'MYPK3',\n",
       " 'NATU3',\n",
       " 'NETC4',\n",
       " 'ODPV3',\n",
       " 'OGXP3',\n",
       " 'OHLB3',\n",
       " 'OSXB3',\n",
       " 'PCAR4',\n",
       " 'PDGR3',\n",
       " 'PETR3',\n",
       " 'PETR4',\n",
       " 'PFRM3',\n",
       " 'PINE4',\n",
       " 'PLAS3',\n",
       " 'PMAM3',\n",
       " 'POMO3',\n",
       " 'POMO4',\n",
       " 'POSI3',\n",
       " 'PRBC4',\n",
       " 'PRTX3',\n",
       " 'PRVI3',\n",
       " 'PSSA3',\n",
       " 'QGEP3',\n",
       " 'QUAL3',\n",
       " 'RAIA3',\n",
       " 'RAPT4',\n",
       " 'RDCD3',\n",
       " 'RDNI3',\n",
       " 'RDTR3',\n",
       " 'RENT3',\n",
       " 'RNAR3',\n",
       " 'RNEW11',\n",
       " 'ROMI3',\n",
       " 'RPMG3',\n",
       " 'RPMG4',\n",
       " 'RSID3',\n",
       " 'SANB11',\n",
       " 'SANB4',\n",
       " 'SAPR4',\n",
       " 'SBSP3',\n",
       " 'SCAR3',\n",
       " 'SFSA4',\n",
       " 'SGPS3',\n",
       " 'SHOW3',\n",
       " 'SLCE3',\n",
       " 'SLED4',\n",
       " 'SMTO3',\n",
       " 'SNSY5',\n",
       " 'SSBR3',\n",
       " 'STBP11',\n",
       " 'SULA11',\n",
       " 'SUZB5',\n",
       " 'TAMM3',\n",
       " 'TAMM4',\n",
       " 'TBLE3',\n",
       " 'TCSA3',\n",
       " 'TECN3',\n",
       " 'TEKA4',\n",
       " 'TELB3',\n",
       " 'TELB4',\n",
       " 'TEMP3',\n",
       " 'TERI3',\n",
       " 'TGMA3',\n",
       " 'TIMP3',\n",
       " 'TMAR5',\n",
       " 'TNLP3',\n",
       " 'TNLP4',\n",
       " 'TOTS3',\n",
       " 'TPIS3',\n",
       " 'TRIS3',\n",
       " 'TRPL4',\n",
       " 'TUPY3',\n",
       " 'UGPA3',\n",
       " 'UNIP6',\n",
       " 'UOLL4',\n",
       " 'USIM3',\n",
       " 'USIM5',\n",
       " 'VAGR3',\n",
       " 'VALE3',\n",
       " 'VALE5',\n",
       " 'VIVR3',\n",
       " 'VIVT3',\n",
       " 'VIVT4',\n",
       " 'VLID3',\n",
       " 'WEGE3',\n",
       " 'WSON11']"
      ]
     },
     "execution_count": 5,
     "metadata": {},
     "output_type": "execute_result"
    }
   ],
   "source": [
    "list(train_me.columns)"
   ]
  },
  {
   "cell_type": "code",
   "execution_count": 6,
   "id": "industrial-wings",
   "metadata": {},
   "outputs": [],
   "source": [
    "def create_characteristics(me_df, mom_df, btm_df, return_df):\n",
    "    firm_characteristics = defaultdict(list)\n",
    "\n",
    "    stocks_names = list(return_df.columns)\n",
    "\n",
    "    time = return_df.shape[0] \n",
    "    number_of_stocks = len(stocks_names)\n",
    "    r = np.empty(shape=(number_of_stocks, time))\n",
    "    epsilon = 1e-10\n",
    "\n",
    "    for i, name in enumerate(stocks_names):\n",
    "        me = me_df.get(name)\n",
    "        mom = mom_df.get(name)\n",
    "        btm = btm_df.get(name)\n",
    "        mr = return_df.get(name) \n",
    "\n",
    "        firm_characteristics[(i,'me')] = me.fillna(method='bfill')\n",
    "        firm_characteristics[(i,'btm')] = btm.fillna(method='bfill')\n",
    "        firm_characteristics[(i,'mom')]= mom.fillna(method='bfill')\n",
    "\n",
    "        r[i] = mr.fillna(method='bfill')\n",
    "\n",
    "    print(\"Created firm characteristics matrix\")\n",
    "    firm_characteristics = pd.DataFrame(firm_characteristics)\n",
    "    #Normalize firm characteristics for each stock\n",
    "    sum_df = firm_characteristics.T.loc[(slice(None), \"me\"), :].sum()\n",
    "    firm_characteristics.T.loc[(slice(None), \"me\"), :] -= firm_characteristics.T.loc[(slice(None), \"me\"), :].mean()\n",
    "    firm_characteristics.T.loc[(slice(None), \"me\"), :] /= (sum_df + epsilon)\n",
    "\n",
    "    sum_df = firm_characteristics.T.loc[(slice(None), \"btm\"), :].sum()\n",
    "    firm_characteristics.T.loc[(slice(None), \"btm\"), :] -= firm_characteristics.T.loc[(slice(None), \"btm\"), :].mean()\n",
    "    firm_characteristics.T.loc[(slice(None), \"btm\"), :] /= (sum_df + epsilon)\n",
    "\n",
    "\n",
    "    sum_df = firm_characteristics.T.loc[(slice(None), \"mom\"), :].sum()\n",
    "    firm_characteristics.T.loc[(slice(None), \"mom\"), :] -= firm_characteristics.T.loc[(slice(None), \"mom\"), :].mean()\n",
    "    firm_characteristics.T.loc[(slice(None), \"mom\"), :] /= (sum_df + epsilon)\n",
    "\n",
    "    print(\"Normalized firm characteristics\")\n",
    "    return firm_characteristics, r, time, number_of_stocks"
   ]
  },
  {
   "cell_type": "code",
   "execution_count": 7,
   "id": "dietary-japan",
   "metadata": {},
   "outputs": [
    {
     "name": "stdout",
     "output_type": "stream",
     "text": [
      "Created firm characteristics matrix\n",
      "Normalized firm characteristics\n"
     ]
    }
   ],
   "source": [
    "firm_characteristics, r, time, number_of_stocks = create_characteristics(train_me, train_mom, train_btm, train_return)"
   ]
  },
  {
   "cell_type": "code",
   "execution_count": 8,
   "id": "affiliated-dress",
   "metadata": {},
   "outputs": [],
   "source": [
    "# Creating a weight from a benchmark portifolio this one\n",
    "# specific is related to return of each stock for simplicity\n",
    "w_benchmark = np.empty(shape=(number_of_stocks, time))\n",
    "epsilon=1e-5\n",
    "for t in range(time):\n",
    "    positive_returns = (r[:,t]-min(r[:,t]))+epsilon\n",
    "    w_benchmark[:,t] = positive_returns/sum(positive_returns)"
   ]
  },
  {
   "cell_type": "code",
   "execution_count": 9,
   "id": "convertible-sound",
   "metadata": {},
   "outputs": [],
   "source": [
    "def utility_function(risk_factor, portfolio_return):\n",
    "    value = ((1 + portfolio_return)**(1-risk_factor))/(1-risk_factor)\n",
    "    return value"
   ]
  },
  {
   "cell_type": "code",
   "execution_count": 10,
   "id": "turkish-wiring",
   "metadata": {},
   "outputs": [],
   "source": [
    "def objective(theta): \n",
    "    w = np.empty(shape=(number_of_stocks, time))\n",
    "    for i in range(number_of_stocks):\n",
    "        w[i] = w_benchmark[i].copy() + (1/number_of_stocks)*theta.dot(firm_characteristics[i].copy().T)\n",
    "#     return w\n",
    "    return -sum(sum(utility_function(5, w[:,:-1]*r[:,1:])))/time"
   ]
  },
  {
   "cell_type": "code",
   "execution_count": 11,
   "id": "cooperative-india",
   "metadata": {},
   "outputs": [],
   "source": [
    "def constraint(theta):\n",
    "    w_sol = np.empty(shape=(number_of_stocks, time))\n",
    "    for i in range(number_of_stocks):\n",
    "        firm_df = firm_characteristics[i].copy()\n",
    "        firms_coeff = sol_theta.dot(firm_df.T)\n",
    "        w_sol[i] = w_benchmark[i] + (1/number_of_stocks)*firms_coeff\n",
    "    mean_w = np.sum(w_sol, axis=1)/time\n",
    "    return mean_w\n",
    "\n",
    "cons = [{\"type\" : \"ineq\", \"fun\" : constraint}]"
   ]
  },
  {
   "cell_type": "code",
   "execution_count": 12,
   "id": "intermediate-archives",
   "metadata": {},
   "outputs": [
    {
     "data": {
      "text/plain": [
       "array([[0.69646919, 0.28613933, 0.22685145]])"
      ]
     },
     "execution_count": 12,
     "metadata": {},
     "output_type": "execute_result"
    }
   ],
   "source": [
    "np.random.seed(123)\n",
    "theta0 = np.random.rand(1, 3)\n",
    "theta0"
   ]
  },
  {
   "cell_type": "code",
   "execution_count": 13,
   "id": "dental-palestine",
   "metadata": {},
   "outputs": [],
   "source": [
    "from scipy.optimize import minimize, differential_evolution"
   ]
  },
  {
   "cell_type": "code",
   "execution_count": 14,
   "id": "mighty-reconstruction",
   "metadata": {},
   "outputs": [],
   "source": [
    "opt_iter = 1\n",
    "mean_obj_r = []\n",
    "mean_r = []\n",
    "def callback_steps(thetaI):\n",
    "    global opt_iter\n",
    "    print(f\"i:{opt_iter}, theta i: {thetaI}, f(theta):{objective(thetaI)}\")\n",
    "    mean_obj_r.append(-objective(thetaI))\n",
    "    \n",
    "    w_iter = np.empty(shape=(number_of_stocks, time))\n",
    "    for i in range(number_of_stocks):\n",
    "        w_iter[i] = w_benchmark[i] + (1/number_of_stocks)*thetaI.dot(firm_characteristics[i].copy().T)\n",
    "    mean_r.append(sum(sum(w_iter*r)))\n",
    "    \n",
    "    opt_iter += 1"
   ]
  },
  {
   "cell_type": "code",
   "execution_count": 15,
   "id": "portuguese-holocaust",
   "metadata": {},
   "outputs": [
    {
     "name": "stdout",
     "output_type": "stream",
     "text": [
      "i:1, theta i: [0.69618323 0.2886935  0.31614189], f(theta):181.03542713751835\n",
      "i:2, theta i: [0.67736826 0.25185727 0.52803636], f(theta):127.62398205493312\n",
      "i:3, theta i: [0.69443264 0.10005443 0.55165369], f(theta):122.81787424224102\n",
      "i:4, theta i: [0.57567692 0.94252251 0.57336131], f(theta):115.8036831318571\n",
      "i:5, theta i: [0.24961395 3.06399383 0.61717082], f(theta):105.70995388751548\n",
      "i:6, theta i: [0.07360409 3.71240807 0.62562889], f(theta):104.88742883190741\n",
      "i:7, theta i: [-0.22902986  3.97374322  0.62157191], f(theta):104.68625047726432\n",
      "i:8, theta i: [-0.70651314  3.96102873  0.61892741], f(theta):104.54098227179031\n",
      "i:9, theta i: [-1.75863062  3.96210629  0.61621145], f(theta):104.26586290176039\n",
      "i:10, theta i: [-3.87904957  3.94741117  0.61264304], f(theta):103.74050747498684\n",
      "i:11, theta i: [-8.17460704  3.91487407  0.60726543], f(theta):102.74396004786267\n",
      "i:12, theta i: [-17.00029711   3.83940788   0.59826016], f(theta):100.88986934583053\n",
      "i:13, theta i: [-35.6584423    3.67159042   0.58156369], f(theta):97.61289752646127\n",
      "i:14, theta i: [-45.82231074   3.57625341   0.57335688], f(theta):96.16160559467143\n",
      "i:15, theta i: [-67.31529157   3.36393488   0.55891048], f(theta):94.29714079117002\n",
      "i:16, theta i: [-74.00670528   3.26675037   0.56374788], f(theta):93.05301248921815\n",
      "i:17, theta i: [-88.38440303   3.05152358   0.57539702], f(theta):91.67388405979857\n",
      "i:18, theta i: [-79.04998338   3.08952837   0.59055581], f(theta):91.3886779490298\n",
      "i:19, theta i: [-82.39356379   3.05967322   0.58964629], f(theta):91.27616503587109\n",
      "i:20, theta i: [-84.81071517   3.04507688   0.58745856], f(theta):91.25964386015515\n",
      "i:21, theta i: [-83.99785701   3.05188459   0.58781497], f(theta):91.25625102812957\n",
      "i:22, theta i: [-84.09228736   3.05095677   0.5877491 ], f(theta):91.2561840205653\n",
      "i:23, theta i: [-84.09883869   3.05076721   0.58774561], f(theta):91.25618375503629\n",
      "i:24, theta i: [-84.09820966   3.05072212   0.5877458 ], f(theta):91.25618374718604\n",
      "i:25, theta i: [-84.09840519   3.05067383   0.58774566], f(theta):91.25618374576743\n"
     ]
    },
    {
     "data": {
      "text/plain": [
       "      fun: 91.25618374576743\n",
       " hess_inv: array([[ 4.14309271e+01,  4.34977139e-01,  1.68430798e-02],\n",
       "       [ 4.34977139e-01,  6.45372384e-01, -3.99520060e-04],\n",
       "       [ 1.68430798e-02, -3.99520060e-04,  2.77653529e-04]])\n",
       "      jac: array([3.81469727e-06, 2.86102295e-06, 2.86102295e-06])\n",
       "  message: 'Optimization terminated successfully.'\n",
       "     nfev: 144\n",
       "      nit: 25\n",
       "     njev: 36\n",
       "   status: 0\n",
       "  success: True\n",
       "        x: array([-84.09840519,   3.05067383,   0.58774566])"
      ]
     },
     "execution_count": 15,
     "metadata": {},
     "output_type": "execute_result"
    }
   ],
   "source": [
    "# sol = minimize(objective, theta0, callback=callback_steps, method='COBYLA', constraints=cons)\n",
    "sol = minimize(objective, theta0, callback=callback_steps, method='BFGS')\n",
    "sol"
   ]
  },
  {
   "cell_type": "code",
   "execution_count": 16,
   "id": "eleven-compression",
   "metadata": {},
   "outputs": [],
   "source": [
    "sol_theta = sol.x\n",
    "w_sol = np.empty(shape=(number_of_stocks, time))\n",
    "for i in range(number_of_stocks):\n",
    "    firm_df = firm_characteristics[i].copy()\n",
    "    firms_coeff = sol_theta.dot(firm_df.T)\n",
    "    w_sol[i] = w_benchmark[i] + (1/number_of_stocks)*firms_coeff"
   ]
  },
  {
   "cell_type": "code",
   "execution_count": 17,
   "id": "lasting-lloyd",
   "metadata": {},
   "outputs": [
    {
     "data": {
      "text/plain": [
       "array([ 0.00436552,  0.0027281 ,  0.00322151,  0.0055158 ,  0.0021842 ,\n",
       "        0.00613351,  0.00561986,  0.00516737,  0.00586523,  0.00341944,\n",
       "       -0.00053283, -0.0005291 ,  0.00217028,  0.00487269,  0.00524486,\n",
       "        0.00544615,  0.00147847, -0.0008167 , -0.0007795 ,  0.00478217,\n",
       "        0.00432884,  0.00669177,  0.00417621,  0.00342564,  0.00468847,\n",
       "        0.00505634,  0.00362167,  0.00380935,  0.00444922,  0.00491534,\n",
       "        0.00653271,  0.00448919,  0.00761356,  0.00409062,  0.00456997,\n",
       "        0.00377474,  0.00384371,  0.00293098,  0.01050303, -0.00763802,\n",
       "        0.00346805,  0.00317082,  0.00442593,  0.00421313,  0.00502243,\n",
       "        0.00563064,  0.00493686, -0.00348482,  0.00505904,  0.00315701,\n",
       "        0.00314581,  0.00524759,  0.00516366,  0.00514462,  0.00214597,\n",
       "        0.00394863,  0.00393285,  0.00387774,  0.00626732,  0.00367512,\n",
       "        0.00480333,  0.00368053,  0.00343025,  0.00622903,  0.00434082,\n",
       "        0.00463286,  0.004968  ,  0.00751294,  0.00408944,  0.00449239,\n",
       "        0.0023028 ,  0.00501441,  0.00398878,  0.00464769,  0.00549918,\n",
       "        0.00425876,  0.00342619, -0.00208038, -0.00201907,  0.00310153,\n",
       "        0.00353079,  0.00434204,  0.00434509,  0.00439181,  0.00521237,\n",
       "        0.00516457,  0.00517641,  0.00599466,  0.0053435 ,  0.00522154,\n",
       "        0.00491885,  0.00675107,  0.00395922,  0.00550163,  0.00467679,\n",
       "        0.00526095,  0.00576754,  0.00526948,  0.00438047,  0.00472745,\n",
       "        0.00362267,  0.00394246,  0.00397232,  0.00483311,  0.00487323,\n",
       "        0.002889  ,  0.00403886,  0.00478922,  0.00356151,  0.00482184,\n",
       "        0.005311  ,  0.00530663,  0.00613725,  0.00479514,  0.00526062,\n",
       "        0.00527755,  0.00467521,  0.0076431 ,  0.00460157,  0.00456632,\n",
       "        0.0067076 ,  0.00512844,  0.00529985,  0.00393658,  0.00521733,\n",
       "        0.0059045 ,  0.00489963,  0.00269259,  0.00274053, -0.00141833,\n",
       "       -0.00132649,  0.00274204,  0.0054524 ,  0.00695468,  0.0040143 ,\n",
       "        0.00509676,  0.00470258,  0.00395162,  0.00512168,  0.00506037,\n",
       "        0.00627697,  0.00400599,  0.00643747,  0.00156561,  0.00376179,\n",
       "        0.00474398,  0.00548302,  0.00429751,  0.00687992,  0.00513422,\n",
       "        0.00414186,  0.00233583,  0.00454986,  0.00518147,  0.00388638,\n",
       "        0.00543355,  0.00531806,  0.00533549,  0.00415788,  0.00048428,\n",
       "        0.00458369,  0.00376843,  0.00596994,  0.00339125,  0.00523496,\n",
       "        0.00439839,  0.00427812,  0.00659602, -0.01447392,  0.00529363,\n",
       "        0.00070971,  0.00374547,  0.00425963, -0.0136477 , -0.01367918,\n",
       "        0.00505762,  0.00413552,  0.00531013,  0.00519573,  0.00515349,\n",
       "        0.00511264,  0.00617683,  0.00448457,  0.00293068,  0.00430606,\n",
       "        0.00510488,  0.00348521,  0.00334053,  0.00472839,  0.00522028,\n",
       "       -0.00409669,  0.00442186,  0.004863  ,  0.00574095,  0.00336971,\n",
       "        0.0059311 ,  0.00537615,  0.00580896,  0.00504286,  0.00560441,\n",
       "        0.00549418,  0.00519784,  0.00446014,  0.00392908,  0.00550665,\n",
       "        0.00597658,  0.00428294,  0.0046806 ,  0.00574037,  0.00512381,\n",
       "        0.00377587,  0.00524192,  0.0046458 ,  0.00323914,  0.00307292,\n",
       "        0.00474523,  0.0048468 ,  0.00510402,  0.00498339,  0.00356628,\n",
       "        0.00492063,  0.00545776,  0.00450276,  0.00430342,  0.01438361,\n",
       "        0.00581414,  0.00365249,  0.0042749 ,  0.00339805,  0.00290595,\n",
       "        0.00190506,  0.00575577,  0.00356769,  0.0049294 ,  0.0052406 ,\n",
       "        0.00522211,  0.00463102,  0.0050061 ,  0.00229921,  0.00397796,\n",
       "        0.00392297,  0.00422654, -0.00559676, -0.00559099,  0.00506284,\n",
       "       -0.00017564, -0.0001889 ,  0.00353297,  0.00483849,  0.00493006])"
      ]
     },
     "execution_count": 17,
     "metadata": {},
     "output_type": "execute_result"
    }
   ],
   "source": [
    "np.sum(w_sol, axis=1)/time"
   ]
  },
  {
   "cell_type": "code",
   "execution_count": 18,
   "id": "detected-investor",
   "metadata": {},
   "outputs": [
    {
     "data": {
      "image/png": "[encoded data removed]",
      "text/plain": [
       "<Figure size 864x648 with 1 Axes>"
      ]
     },
     "metadata": {
      "needs_background": "light"
     },
     "output_type": "display_data"
    }
   ],
   "source": [
    "x = range(len(mean_obj_r))\n",
    "plt.figure(figsize=(12,9))\n",
    "plt.title(\"Mean objective return for each iteration step\")\n",
    "plt.plot(x, mean_obj_r)\n",
    "plt.xlabel('Iteration')\n",
    "plt.ylabel('Mean return')\n",
    "plt.ticklabel_format(style='plain')\n",
    "plt.grid()\n",
    "plt.show()"
   ]
  },
  {
   "cell_type": "code",
   "execution_count": 19,
   "id": "sonic-demand",
   "metadata": {},
   "outputs": [],
   "source": [
    "benchmark_mean_return = sum(sum(w_benchmark*r))\n",
    "\n",
    "# Equally diveded weights for each stock\n",
    "uniform_weighted_stocks = np.ones_like(w_benchmark)*(1/number_of_stocks)\n",
    "uniform_weighted_return = sum(sum(uniform_weighted_stocks*r))"
   ]
  },
  {
   "cell_type": "code",
   "execution_count": 20,
   "id": "hybrid-pressure",
   "metadata": {},
   "outputs": [
    {
     "data": {
      "image/png": "[encoded data removed]",
      "text/plain": [
       "<Figure size 864x648 with 1 Axes>"
      ]
     },
     "metadata": {
      "needs_background": "light"
     },
     "output_type": "display_data"
    }
   ],
   "source": [
    "x = range(len(mean_r))\n",
    "plt.figure(figsize=(12,9))\n",
    "plt.title(\"Mean return using weight for each iteration step\")\n",
    "plt.plot(x, mean_r, label='Optimized return')\n",
    "plt.plot(x, [benchmark_mean_return]*len(x), label='Benchmark return')\n",
    "plt.plot(x, [uniform_weighted_return]*len(x), label='Uniform weight return')\n",
    "plt.xlabel('Iteration')\n",
    "plt.ylabel('Mean return')\n",
    "plt.legend()\n",
    "plt.grid()\n",
    "plt.show()"
   ]
  },
  {
   "cell_type": "code",
   "execution_count": null,
   "id": "characteristic-dutch",
   "metadata": {},
   "outputs": [],
   "source": []
  },
  {
   "cell_type": "markdown",
   "id": "silver-elements",
   "metadata": {},
   "source": [
    "### Testing"
   ]
  },
  {
   "cell_type": "code",
   "execution_count": 29,
   "id": "composite-essence",
   "metadata": {},
   "outputs": [
    {
     "name": "stdout",
     "output_type": "stream",
     "text": [
      "Created firm characteristics matrix\n",
      "Normalized firm characteristics\n"
     ]
    }
   ],
   "source": [
    "sol_theta = sol.x\n",
    "firm_characteristics_val, r_val, time_val, number_of_stocks = create_characteristics(val_me, val_mom, val_btm, test_return)\n",
    "firm_characteristics_val.fillna(method='ffill', inplace=True)\n",
    "\n",
    "#### CREATE BENCHMARK FOR TESTING\n",
    "w_benchmark_val = np.empty(shape=(number_of_stocks, time_val))\n",
    "epsilon=1e-5\n",
    "for t in range(time_val):\n",
    "    positive_returns = (r_val[:,t]-min(r_val[:,t]))+epsilon\n",
    "    w_benchmark_val[:,t] = positive_returns/sum(positive_returns)\n",
    "    \n",
    "w_val = np.empty(shape=(number_of_stocks, time_val))\n",
    "\n",
    "for i in range(number_of_stocks):\n",
    "    firm_df = firm_characteristics_val[i].copy()\n",
    "    firms_coeff = sol_theta.dot(firm_df.T)\n",
    "    w_val[i] = w_benchmark_val[i] + (1/number_of_stocks)*firms_coeff"
   ]
  },
  {
   "cell_type": "code",
   "execution_count": 31,
   "id": "second-engagement",
   "metadata": {},
   "outputs": [
    {
     "data": {
      "text/plain": [
       "381.18393749693354"
      ]
     },
     "execution_count": 31,
     "metadata": {},
     "output_type": "execute_result"
    }
   ],
   "source": [
    "benchmark_mean_return = sum(sum(w_benchmark_val*r_val))\n",
    "benchmark_mean_return"
   ]
  },
  {
   "cell_type": "code",
   "execution_count": 32,
   "id": "danish-instrumentation",
   "metadata": {},
   "outputs": [
    {
     "data": {
      "text/plain": [
       "386.4309169605893"
      ]
     },
     "execution_count": 32,
     "metadata": {},
     "output_type": "execute_result"
    }
   ],
   "source": [
    "mean_return = sum(sum(w_val*r_val))\n",
    "mean_return"
   ]
  },
  {
   "cell_type": "code",
   "execution_count": null,
   "id": "described-roman",
   "metadata": {},
   "outputs": [],
   "source": []
  }
 ],
 "metadata": {
  "kernelspec": {
   "display_name": "Python 3",
   "language": "python",
   "name": "python3"
  },
  "language_info": {
   "codemirror_mode": {
    "name": "ipython",
    "version": 3
   },
   "file_extension": ".py",
   "mimetype": "text/x-python",
   "name": "python",
   "nbconvert_exporter": "python",
   "pygments_lexer": "ipython3",
   "version": "3.8.5"
  }
 },
 "nbformat": 4,
 "nbformat_minor": 5
}
