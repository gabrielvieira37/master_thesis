{
 "cells": [
  {
   "cell_type": "code",
   "execution_count": 1,
   "id": "precious-cathedral",
   "metadata": {},
   "outputs": [],
   "source": [
    "import json\n",
    "import pandas as pd\n",
    "import numpy as np\n",
    "import matplotlib.pyplot as plt\n",
    "from tqdm.notebook import tqdm\n",
    "from collections import defaultdict"
   ]
  },
  {
   "cell_type": "code",
   "execution_count": 2,
   "id": "formal-tunnel",
   "metadata": {},
   "outputs": [],
   "source": [
    "def utility_function(risk_factor, portfolio_return):\n",
    "    value = ((1 + portfolio_return)**(1-risk_factor))/(1-risk_factor)\n",
    "    return value"
   ]
  },
  {
   "cell_type": "code",
   "execution_count": 3,
   "id": "instructional-particle",
   "metadata": {},
   "outputs": [],
   "source": [
    "def utility_function_grad(r_p, gamma, r_p_grad):\n",
    "    u_grad = np.power((1+r_p),-gamma) * r_p_grad\n",
    "    return u_grad"
   ]
  },
  {
   "cell_type": "markdown",
   "id": "protected-company",
   "metadata": {},
   "source": [
    "## Optimization formula:\n",
    "## $\\underset{\\theta}{\\max} \\frac{1}{T} \\sum^{T-1}_{t=0} u\\left( \\sum_{i=1}^{N_{t}}( \\bar{w}_{i,t} + \\frac{1}{N_{t}}\\theta^{\\text{T}} \\hat{x}_{i,t} ) r_{i,t+1} \\right) $\n",
    "\n",
    "## Critical point of formula:\n",
    "\n",
    "## $ \\frac{1}{T} \\sum^{T-1}_{t=0} u'(r_{p,t+1}) \\frac{1}{N_{t}}\\hat{x}_{t}^{\\text{T}} r_{t+1} = 0 $\n",
    "\n",
    "\n",
    "## Utility function\n",
    "\n",
    "## $u(r_{p,t+1}) = \\frac{(1+r_{p,t+1})^{1-\\gamma}}{1-\\gamma} $\n",
    "\n",
    "## Portfolio return\n",
    "## $ r_{p,t+1} = \\sum^{N_{t}}_{i=1} \\bar{w}_{i,t} r_{i,t+1} + \\sum^{N_{t}}_{i=1} (  \\frac{1}{N_{t}} \\theta^{\\text{T}} \\hat{x}_{i,t} ) r_{i,t+1} $\n",
    "\n",
    "\n",
    "## Utility function derivate\n",
    "\n",
    "## $u'(r_{p,t+1}) = (1+r_{p, t+1})^{-\\gamma} r'_{p, t+1} $\n",
    "\n",
    "## Portfolio return derivate\n",
    "## $ r'_{p,t+1} = \\sum^{N_{t}}_{i=1} (  \\frac{1}{N_{t}} \\hat{x}_{i,t} ) r_{i,t+1} = \\frac{1}{N_{t}}\\hat{x}_{t}^{\\text{T}} r_{t+1} $\n",
    "\n",
    "## Critical point expanded:\n",
    "## $ \\frac{1}{T} \\sum^{T-1}_{t=0} u'(r_{p,t+1}) \\frac{1}{N_{t}}\\hat{x}_{t}^{\\text{T}} r_{t+1} = 0 $\n",
    "## $ \\frac{1}{T} \\sum^{T-1}_{t=0} (1+r_{p, t+1})^{-\\gamma} r'_{p, t+1} \\frac{1}{N_{t}}\\hat{x}_{t}^{\\text{T}} r_{t+1} = 0 $\n",
    "## $ \\frac{1}{T} \\sum^{T-1}_{t=0} (1+r_{p, t+1})^{-\\gamma} (r'_{p, t+1})^2 $"
   ]
  },
  {
   "cell_type": "code",
   "execution_count": 10,
   "id": "dated-atlanta",
   "metadata": {},
   "outputs": [
    {
     "name": "stdout",
     "output_type": "stream",
     "text": [
      "Created all artificial stocks\n"
     ]
    }
   ],
   "source": [
    "np.set_printoptions(formatter={'float': lambda x: \"{0:0.5f}\".format(x)})\n",
    "\n",
    "time = 90 # 90 days\n",
    "number_of_stocks = 10\n",
    "np.random.seed(123)\n",
    "r = np.empty(shape=(number_of_stocks,time))\n",
    "gamma = 5\n",
    "firm_characteristics = defaultdict(list)\n",
    "# random initialization of theta for 3 firm characteristics\n",
    "w = np.empty(shape=(number_of_stocks, time))\n",
    "# Learning rate\n",
    "lr = 1e-3\n",
    "epochs = 5000\n",
    "return_all = []\n",
    "\n",
    "# Creating artificial return\n",
    "for i in range(number_of_stocks):\n",
    "    for t in range(time):\n",
    "        # Toy firm characteristics\n",
    "        if i>=5:\n",
    "            # Negative return firms\n",
    "            me = np.random.uniform(0,1)\n",
    "            btm = np.random.uniform(-1,0)\n",
    "            mom = np.random.uniform(-1,0)\n",
    "        else:\n",
    "            # Positive return firms\n",
    "            me = np.random.uniform(-1,0)\n",
    "            btm = np.random.uniform(0,1)\n",
    "            mom = np.random.uniform(0,1)\n",
    "#         me = np.random.uniform(-1,1)\n",
    "#         btm = np.random.uniform(-1,1)\n",
    "#         mom = np.random.uniform(-1,1)\n",
    "            \n",
    "        firm_characteristics[(i,'me')].append(me)\n",
    "        firm_characteristics[(i,'btm')].append(btm)\n",
    "        firm_characteristics[(i,'mom')].append(mom)\n",
    "        # simplified weight using only firm characteristics\n",
    "        # return of portifolio i at time t\n",
    "        r[i][t] = (-0.337*me + 3.553*btm + 1.623*mom)\n",
    "\n",
    "print(\"Created all artificial stocks\")\n",
    "firm_characteristics = pd.DataFrame(firm_characteristics)\n",
    "# Normalize firm characteristics for each stock\n",
    "firm_characteristics.T.loc[(slice(None), \"me\"), :] -= firm_characteristics.T.loc[(slice(None), \"me\"), :].mean()\n",
    "firm_characteristics.T.loc[(slice(None), \"btm\"), :] -= firm_characteristics.T.loc[(slice(None), \"btm\"), :].mean()\n",
    "firm_characteristics.T.loc[(slice(None), \"mom\"), :] -= firm_characteristics.T.loc[(slice(None), \"mom\"), :].mean()"
   ]
  },
  {
   "cell_type": "code",
   "execution_count": 11,
   "id": "welcome-recommendation",
   "metadata": {},
   "outputs": [],
   "source": [
    "# Creating a weight from a benchmark portifolio this one\n",
    "# specific is related to return of each stock for simplicity\n",
    "w_benchmark = np.empty(shape=(number_of_stocks, time))\n",
    "epsilon=1e-5\n",
    "for t in range(time):\n",
    "    positive_returns = (r[:,t]-min(r[:,t]))+epsilon\n",
    "    w_benchmark[:,t] = positive_returns/sum(positive_returns)"
   ]
  },
  {
   "cell_type": "code",
   "execution_count": 12,
   "id": "coastal-comfort",
   "metadata": {},
   "outputs": [
    {
     "data": {
      "application/vnd.jupyter.widget-view+json": {
       "model_id": "8585842dc7524c448bb7e451d96bf67a",
       "version_major": 2,
       "version_minor": 0
      },
      "text/plain": [
       "HBox(children=(HTML(value=''), FloatProgress(value=0.0, max=5000.0), HTML(value='')))"
      ]
     },
     "metadata": {},
     "output_type": "display_data"
    },
    {
     "name": "stdout",
     "output_type": "stream",
     "text": [
      "\n",
      "Finished running 5000 epochs\n"
     ]
    }
   ],
   "source": [
    "np.random.seed(123)\n",
    "theta = np.random.rand(1, 3)\n",
    "for k in tqdm(range(epochs)):\n",
    "    r_p_grad=0\n",
    "    r_p = 0\n",
    "    # Optmize Theta over all stocks and times\n",
    "#     print(f\" Theta :{theta}, k:{k}\")\n",
    "    for i in range(number_of_stocks):\n",
    "        firm_df = firm_characteristics[i].copy()\n",
    "        firms_coeff = theta.dot(firm_df.T)\n",
    "        # Multiply only t-1 firm characteristics\n",
    "        # Starting return r at t+1\n",
    "        r_p_grad += firm_df[:-1].T * r[i, 1:]\n",
    "        r_p +=  w_benchmark[i,:-1]*r[i, 1:] + (1/number_of_stocks)*firms_coeff[:,:-1]*r[i, 1:]\n",
    "    r_p_grad *= (1/number_of_stocks)\n",
    "    u_grad = utility_function_grad(r_p, gamma, r_p_grad)\n",
    "    # It will be changed with u_grad\n",
    "    gradient = (r_p_grad * u_grad).T.sum()/time\n",
    "#     print(f\" Gradient :{gradient.to_numpy()}, k:{k}\\n\")\n",
    "    theta += lr * gradient\n",
    "\n",
    "    \n",
    "    # Avaliate function\n",
    "    for i in range(number_of_stocks):\n",
    "        firm_df = firm_characteristics[i].copy()\n",
    "        firms_coeff = theta.dot(firm_df.T)\n",
    "        w[i] = w_benchmark[i] + (1/number_of_stocks)*firms_coeff\n",
    "    \n",
    "    # Using t-1 weights and r from 1 to t\n",
    "    r_p = sum(w[:,:-1]*r[:,1:])\n",
    "    utility_values = utility_function(5, r_p)\n",
    "    # Average over T \n",
    "    average_return_portifolio = sum(utility_values)/len(utility_values)\n",
    "    return_all.append(average_return_portifolio)\n",
    "#     print(f\"Return {average_return_portifolio}\")\n",
    "print(f\"Finished running {epochs} epochs\")"
   ]
  },
  {
   "cell_type": "code",
   "execution_count": 23,
   "id": "dressed-behavior",
   "metadata": {},
   "outputs": [
    {
     "data": {
      "text/plain": [
       "array([0.16143, 0.16431, 0.16957, 0.15279, 0.15868, 0.04073, 0.04327,\n",
       "       0.03851, 0.03118, 0.03953])"
      ]
     },
     "execution_count": 23,
     "metadata": {},
     "output_type": "execute_result"
    }
   ],
   "source": [
    "np.sum(w, axis=1)/time"
   ]
  },
  {
   "cell_type": "code",
   "execution_count": 14,
   "id": "opponent-bishop",
   "metadata": {},
   "outputs": [
    {
     "data": {
      "text/html": [
       "<div>\n",
       "<style scoped>\n",
       "    .dataframe tbody tr th:only-of-type {\n",
       "        vertical-align: middle;\n",
       "    }\n",
       "\n",
       "    .dataframe tbody tr th {\n",
       "        vertical-align: top;\n",
       "    }\n",
       "\n",
       "    .dataframe thead th {\n",
       "        text-align: right;\n",
       "    }\n",
       "</style>\n",
       "<table border=\"1\" class=\"dataframe\">\n",
       "  <thead>\n",
       "    <tr style=\"text-align: right;\">\n",
       "      <th></th>\n",
       "      <th>0</th>\n",
       "    </tr>\n",
       "  </thead>\n",
       "  <tbody>\n",
       "    <tr>\n",
       "      <th>count</th>\n",
       "      <td>5000.000000</td>\n",
       "    </tr>\n",
       "    <tr>\n",
       "      <th>mean</th>\n",
       "      <td>-0.008991</td>\n",
       "    </tr>\n",
       "    <tr>\n",
       "      <th>std</th>\n",
       "      <td>0.000094</td>\n",
       "    </tr>\n",
       "    <tr>\n",
       "      <th>min</th>\n",
       "      <td>-0.009211</td>\n",
       "    </tr>\n",
       "    <tr>\n",
       "      <th>25%</th>\n",
       "      <td>-0.009060</td>\n",
       "    </tr>\n",
       "    <tr>\n",
       "      <th>50%</th>\n",
       "      <td>-0.008959</td>\n",
       "    </tr>\n",
       "    <tr>\n",
       "      <th>75%</th>\n",
       "      <td>-0.008906</td>\n",
       "    </tr>\n",
       "    <tr>\n",
       "      <th>max</th>\n",
       "      <td>-0.008897</td>\n",
       "    </tr>\n",
       "  </tbody>\n",
       "</table>\n",
       "</div>"
      ],
      "text/plain": [
       "                 0\n",
       "count  5000.000000\n",
       "mean     -0.008991\n",
       "std       0.000094\n",
       "min      -0.009211\n",
       "25%      -0.009060\n",
       "50%      -0.008959\n",
       "75%      -0.008906\n",
       "max      -0.008897"
      ]
     },
     "execution_count": 14,
     "metadata": {},
     "output_type": "execute_result"
    }
   ],
   "source": [
    "pd.DataFrame(return_all).describe()"
   ]
  },
  {
   "cell_type": "code",
   "execution_count": 15,
   "id": "documentary-network",
   "metadata": {},
   "outputs": [
    {
     "data": {
      "image/png": "[encoded data removed]",
      "text/plain": [
       "<Figure size 864x648 with 1 Axes>"
      ]
     },
     "metadata": {
      "needs_background": "light"
     },
     "output_type": "display_data"
    }
   ],
   "source": [
    "plt.figure(figsize=(12,9))\n",
    "# plt.yscale('symlog')\n",
    "plt.scatter(x=range(len(return_all)), y=return_all)\n",
    "plt.title('Portifolio return optimization')\n",
    "plt.ylabel('Log portifolio return')\n",
    "plt.xlabel('Epoch')\n",
    "plt.grid()\n",
    "plt.show()"
   ]
  },
  {
   "cell_type": "code",
   "execution_count": 231,
   "id": "freelance-reynolds",
   "metadata": {},
   "outputs": [
    {
     "data": {
      "image/png": "[encoded data removed]",
      "text/plain": [
       "<Figure size 864x648 with 1 Axes>"
      ]
     },
     "metadata": {
      "needs_background": "light"
     },
     "output_type": "display_data"
    }
   ],
   "source": [
    "plt.figure(figsize=(12,9))\n",
    "# plt.yscale('symlog')\n",
    "plt.boxplot(return_all)\n",
    "plt.title('Portifolio return optimization')\n",
    "plt.ylabel('Log portifolio return')\n",
    "plt.show()"
   ]
  },
  {
   "cell_type": "code",
   "execution_count": 193,
   "id": "naval-placement",
   "metadata": {},
   "outputs": [
    {
     "name": "stdout",
     "output_type": "stream",
     "text": [
      " Theta :[[0.69647 0.28614 0.22685]], k:999\n"
     ]
    }
   ],
   "source": [
    "np.random.seed(123)\n",
    "theta = np.random.rand(1, 3)\n",
    "# Optmize Theta over all stocks and times\n",
    "print(f\" Theta :{theta}, k:{k}\")\n",
    "r_p_grad=0\n",
    "r_p = 0\n",
    "for i in range(number_of_stocks):\n",
    "    firm_df = firm_characteristics[i].copy()\n",
    "    firms_coeff = theta.dot(firm_df.T)\n",
    "    # Multiply only t-1 firm characteristics\n",
    "    # Starting return r at t+1\n",
    "    r_p_grad += firm_df[:-1].T * r[i, 1:]\n",
    "    r_p +=  (1/number_of_stocks)*firms_coeff[:,:-1]*r[i, 1:]\n",
    "r_p_grad *= (1/number_of_stocks)\n",
    "u_grad = np.power((1+r_p),-1)\n",
    "gradient = (np.power(r_p_grad,2) * u_grad).T.sum()/time"
   ]
  },
  {
   "cell_type": "code",
   "execution_count": 172,
   "id": "enclosed-growth",
   "metadata": {},
   "outputs": [
    {
     "data": {
      "text/plain": [
       "array([[0.06003, -11.48394, 1.41642, 111823.94733, 18.67257, 0.00892,\n",
       "        0.31681, -2199857.49098, 89.73039, 42.87565, 0.10950,\n",
       "        -8680321925.19858, 0.03002, 0.99706, 1.58842, 0.03943, 0.01663,\n",
       "        6.67741, 0.32979, 0.06531, 0.36862, 13518.14441, 0.13275,\n",
       "        0.19851, 0.09029, 177.85926, 98.68158, -2.14714, -0.08137,\n",
       "        -19.81870, 0.11646, 0.04870, -2385.54518, 0.10381, 0.00408,\n",
       "        2.93466, 15.24832, -4.85434, 56.17823, 0.22065, 0.02866, 0.20418,\n",
       "        -5093126881.25950, 0.68072, 41.98501, -1076.02299, 99.45976,\n",
       "        1.02463, 0.08914, 0.18471, 0.14308, 11.56846, 7.95334, -1.85887,\n",
       "        0.00590, 13.54309, 0.09532, 1.47000, 57.10103, 0.06248, 0.02997,\n",
       "        0.21878, 588.86804, 0.45482, 0.11685, 0.31649, -13.05337,\n",
       "        0.39010, 1.08947, -2.22273, 52.39698, 476.27460, 0.06052,\n",
       "        0.10530, 0.10299, 0.13671, 1.02318, 74.36251, 15.71202, 0.02182,\n",
       "        -36.25627, 32.79270, -266.96757, 3.13701, 338549.76789, -1.48502,\n",
       "        0.21271, 2.87157, 0.15653]])"
      ]
     },
     "execution_count": 172,
     "metadata": {},
     "output_type": "execute_result"
    }
   ],
   "source": [
    "u_grad"
   ]
  },
  {
   "cell_type": "code",
   "execution_count": 195,
   "id": "creative-russia",
   "metadata": {},
   "outputs": [
    {
     "name": "stdout",
     "output_type": "stream",
     "text": [
      " Gradient :[0.28430 0.19256 0.28028], k:999\n",
      "\n"
     ]
    }
   ],
   "source": [
    "print(f\" Gradient :{gradient.to_numpy()}, k:{k}\\n\")"
   ]
  },
  {
   "cell_type": "code",
   "execution_count": null,
   "id": "czech-society",
   "metadata": {},
   "outputs": [],
   "source": []
  },
  {
   "cell_type": "code",
   "execution_count": null,
   "id": "marine-filter",
   "metadata": {},
   "outputs": [],
   "source": []
  },
  {
   "cell_type": "code",
   "execution_count": null,
   "id": "identical-kennedy",
   "metadata": {},
   "outputs": [],
   "source": []
  },
  {
   "cell_type": "code",
   "execution_count": 194,
   "id": "infrared-tackle",
   "metadata": {},
   "outputs": [
    {
     "data": {
      "text/plain": [
       "array([[0.48458, -0.80195, 0.37804, -0.03618, -0.59875, 0.45590, 0.02266,\n",
       "        0.09648, -0.06344, -0.03352, 0.08830, -0.24795, 0.07698, 0.19332,\n",
       "        0.06661, -0.13996, -0.07991, 0.26129, 0.40091, 0.18340, 0.37382,\n",
       "        -0.11314, -0.30739, 0.37947, 0.03351, 0.24772, 0.25871, -0.25069,\n",
       "        -0.81209, -0.63062, 0.29334, -0.02888, -0.57670, 0.44221,\n",
       "        0.45572, 0.20780, 0.00758, -0.18992, -0.28037, 0.17066, 0.06457,\n",
       "        0.11513, -0.04714, 0.04776, 0.12139, 0.09209, -0.60015, -0.12818,\n",
       "        -0.24457, 0.12402, 0.22686, -0.17784, -0.42132, -0.06421,\n",
       "        0.15662, 0.34993, 0.20167, 0.16496, -0.08054, 0.33571, -0.14054,\n",
       "        0.00604, -0.34237, -0.48716, 0.38927, 0.48429, -0.19010,\n",
       "        -0.07423, 0.10821, -0.79224, -0.02099, 0.23969, 0.10889, 0.24344,\n",
       "        -0.03022, 0.37475, 0.25924, 0.07388, 0.29014, -0.11156, -0.27185,\n",
       "        0.01723, -0.35415, 0.05502, 0.06594, -0.57827, -0.15959,\n",
       "        -0.36187, 0.12747]])"
      ]
     },
     "execution_count": 194,
     "metadata": {},
     "output_type": "execute_result"
    }
   ],
   "source": [
    "r_p"
   ]
  },
  {
   "cell_type": "code",
   "execution_count": 60,
   "id": "documentary-february",
   "metadata": {},
   "outputs": [],
   "source": []
  },
  {
   "cell_type": "code",
   "execution_count": null,
   "id": "experienced-exchange",
   "metadata": {},
   "outputs": [],
   "source": []
  },
  {
   "cell_type": "code",
   "execution_count": null,
   "id": "fifteen-globe",
   "metadata": {},
   "outputs": [],
   "source": [
    "\n",
    "\n",
    "# benchmark portifolio weight of stock i on time t\n",
    "w_i_t_bench = 1.0\n",
    "\n",
    "# weight of stock i on time t\n",
    "w_i_t = w_i_t_bench + (1/number_of_stocks)*X.dot(firm_characteristics)\n",
    "\n",
    "# Where X is a vector of coefficients that we want to find and firm_characteristics are a vector of firm characteristics.\n"
   ]
  },
  {
   "cell_type": "code",
   "execution_count": null,
   "id": "recorded-commissioner",
   "metadata": {},
   "outputs": [],
   "source": []
  },
  {
   "cell_type": "code",
   "execution_count": null,
   "id": "twenty-proxy",
   "metadata": {},
   "outputs": [],
   "source": []
  },
  {
   "cell_type": "code",
   "execution_count": null,
   "id": "drawn-lecture",
   "metadata": {},
   "outputs": [],
   "source": []
  },
  {
   "cell_type": "code",
   "execution_count": null,
   "id": "essential-criminal",
   "metadata": {},
   "outputs": [],
   "source": []
  },
  {
   "cell_type": "code",
   "execution_count": null,
   "id": "mineral-double",
   "metadata": {},
   "outputs": [],
   "source": []
  },
  {
   "cell_type": "code",
   "execution_count": null,
   "id": "opened-storage",
   "metadata": {},
   "outputs": [],
   "source": []
  },
  {
   "cell_type": "code",
   "execution_count": null,
   "id": "enabling-arrest",
   "metadata": {},
   "outputs": [],
   "source": []
  },
  {
   "cell_type": "code",
   "execution_count": null,
   "id": "apart-slovenia",
   "metadata": {},
   "outputs": [],
   "source": []
  },
  {
   "cell_type": "code",
   "execution_count": 154,
   "id": "intensive-injury",
   "metadata": {},
   "outputs": [],
   "source": []
  },
  {
   "cell_type": "code",
   "execution_count": null,
   "id": "composed-margin",
   "metadata": {},
   "outputs": [],
   "source": []
  },
  {
   "cell_type": "code",
   "execution_count": null,
   "id": "individual-fence",
   "metadata": {},
   "outputs": [],
   "source": []
  }
 ],
 "metadata": {
  "kernelspec": {
   "display_name": "Python 3",
   "language": "python",
   "name": "python3"
  },
  "language_info": {
   "codemirror_mode": {
    "name": "ipython",
    "version": 3
   },
   "file_extension": ".py",
   "mimetype": "text/x-python",
   "name": "python",
   "nbconvert_exporter": "python",
   "pygments_lexer": "ipython3",
   "version": "3.8.5"
  }
 },
 "nbformat": 4,
 "nbformat_minor": 5
}
