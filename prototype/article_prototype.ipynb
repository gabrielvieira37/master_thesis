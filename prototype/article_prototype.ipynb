{
 "cells": [
  {
   "cell_type": "code",
   "execution_count": 1,
   "id": "precious-cathedral",
   "metadata": {},
   "outputs": [],
   "source": [
    "import json\n",
    "import pandas as pd\n",
    "import numpy as np\n",
    "import matplotlib.pyplot as plt\n",
    "from tqdm.notebook import tqdm\n",
    "from collections import defaultdict"
   ]
  },
  {
   "cell_type": "markdown",
   "id": "suburban-taste",
   "metadata": {},
   "source": [
    "## Optimizing using GD and artificial data"
   ]
  },
  {
   "cell_type": "code",
   "execution_count": 2,
   "id": "formal-tunnel",
   "metadata": {},
   "outputs": [],
   "source": [
    "def utility_function(risk_factor, portfolio_return):\n",
    "    value = ((1 + portfolio_return)**(1-risk_factor))/(1-risk_factor)\n",
    "    return value"
   ]
  },
  {
   "cell_type": "code",
   "execution_count": 3,
   "id": "instructional-particle",
   "metadata": {},
   "outputs": [],
   "source": [
    "def utility_function_grad(r_p, gamma, r_p_grad):\n",
    "    u_grad = np.power((1+r_p),-gamma) * r_p_grad\n",
    "    return u_grad"
   ]
  },
  {
   "cell_type": "code",
   "execution_count": null,
   "id": "raising-crystal",
   "metadata": {},
   "outputs": [],
   "source": []
  },
  {
   "cell_type": "markdown",
   "id": "protected-company",
   "metadata": {},
   "source": [
    "## Optimization formula:\n",
    "## $\\underset{\\theta}{\\max} \\frac{1}{T} \\sum^{T-1}_{t=0} u\\left( \\sum_{i=1}^{N_{t}}( \\bar{w}_{i,t} + \\frac{1}{N_{t}}\\theta^{\\text{T}} \\hat{x}_{i,t} ) r_{i,t+1} \\right) $\n",
    "\n",
    "## Critical point of formula:\n",
    "\n",
    "## $ \\frac{1}{T} \\sum^{T-1}_{t=0} u'(r_{p,t+1}) \\frac{1}{N_{t}}\\hat{x}_{t}^{\\text{T}} r_{t+1} = 0 $\n",
    "\n",
    "\n",
    "## Utility function\n",
    "\n",
    "## $u(r_{p,t+1}) = \\frac{(1+r_{p,t+1})^{1-\\gamma}}{1-\\gamma} $\n",
    "\n",
    "## Portfolio return\n",
    "## $ r_{p,t+1} = \\sum^{N_{t}}_{i=1} \\bar{w}_{i,t} r_{i,t+1} + \\sum^{N_{t}}_{i=1} (  \\frac{1}{N_{t}} \\theta^{\\text{T}} \\hat{x}_{i,t} ) r_{i,t+1} $\n",
    "\n",
    "\n",
    "## Utility function derivate\n",
    "\n",
    "## $u'(r_{p,t+1}) = (1+r_{p, t+1})^{-\\gamma} r'_{p, t+1} $\n",
    "\n",
    "## Portfolio return derivate\n",
    "## $ r'_{p,t+1} = \\sum^{N_{t}}_{i=1} (  \\frac{1}{N_{t}} \\hat{x}_{i,t} ) r_{i,t+1} = \\frac{1}{N_{t}}\\hat{x}_{t}^{\\text{T}} r_{t+1} $\n",
    "\n",
    "## Critical point expanded:\n",
    "## $ \\frac{1}{T} \\sum^{T-1}_{t=0} u'(r_{p,t+1}) \\frac{1}{N_{t}}\\hat{x}_{t}^{\\text{T}} r_{t+1} = 0 $\n",
    "## $ \\frac{1}{T} \\sum^{T-1}_{t=0} (1+r_{p, t+1})^{-\\gamma} r'_{p, t+1} \\frac{1}{N_{t}}\\hat{x}_{t}^{\\text{T}} r_{t+1} = 0 $\n",
    "## $ \\frac{1}{T} \\sum^{T-1}_{t=0} (1+r_{p, t+1})^{-\\gamma} (r'_{p, t+1})^2 $"
   ]
  },
  {
   "cell_type": "code",
   "execution_count": 10,
   "id": "dated-atlanta",
   "metadata": {},
   "outputs": [
    {
     "name": "stdout",
     "output_type": "stream",
     "text": [
      "Created all artificial stocks\n"
     ]
    }
   ],
   "source": [
    "np.set_printoptions(formatter={'float': lambda x: \"{0:0.5f}\".format(x)})\n",
    "\n",
    "time = 90 # 90 days\n",
    "number_of_stocks = 10\n",
    "np.random.seed(123)\n",
    "r = np.empty(shape=(number_of_stocks,time))\n",
    "gamma = 5\n",
    "firm_characteristics = defaultdict(list)\n",
    "# random initialization of theta for 3 firm characteristics\n",
    "w = np.empty(shape=(number_of_stocks, time))\n",
    "# Learning rate\n",
    "lr = 1e-3\n",
    "epochs = 5000\n",
    "return_all = []\n",
    "\n",
    "# Creating artificial return\n",
    "for i in range(number_of_stocks):\n",
    "    for t in range(time):\n",
    "        # Toy firm characteristics\n",
    "        if i>=5:\n",
    "            # Negative return firms\n",
    "            me = np.random.uniform(0,1)\n",
    "            btm = np.random.uniform(-1,0)\n",
    "            mom = np.random.uniform(-1,0)\n",
    "        else:\n",
    "            # Positive return firms\n",
    "            me = np.random.uniform(-1,0)\n",
    "            btm = np.random.uniform(0,1)\n",
    "            mom = np.random.uniform(0,1)\n",
    "#         me = np.random.uniform(-1,1)\n",
    "#         btm = np.random.uniform(-1,1)\n",
    "#         mom = np.random.uniform(-1,1)\n",
    "            \n",
    "        firm_characteristics[(i,'me')].append(me)\n",
    "        firm_characteristics[(i,'btm')].append(btm)\n",
    "        firm_characteristics[(i,'mom')].append(mom)\n",
    "        # simplified weight using only firm characteristics\n",
    "        # return of portifolio i at time t\n",
    "        r[i][t] = (-0.337*me + 3.553*btm + 1.623*mom)\n",
    "\n",
    "print(\"Created all artificial stocks\")\n",
    "firm_characteristics = pd.DataFrame(firm_characteristics)\n",
    "# Normalize firm characteristics for each stock\n",
    "firm_characteristics.T.loc[(slice(None), \"me\"), :] -= firm_characteristics.T.loc[(slice(None), \"me\"), :].mean()\n",
    "firm_characteristics.T.loc[(slice(None), \"btm\"), :] -= firm_characteristics.T.loc[(slice(None), \"btm\"), :].mean()\n",
    "firm_characteristics.T.loc[(slice(None), \"mom\"), :] -= firm_characteristics.T.loc[(slice(None), \"mom\"), :].mean()"
   ]
  },
  {
   "cell_type": "code",
   "execution_count": 11,
   "id": "welcome-recommendation",
   "metadata": {},
   "outputs": [],
   "source": [
    "# Creating a weight from a benchmark portifolio this one\n",
    "# specific is related to return of each stock for simplicity\n",
    "w_benchmark = np.empty(shape=(number_of_stocks, time))\n",
    "epsilon=1e-5\n",
    "for t in range(time):\n",
    "    positive_returns = (r[:,t]-min(r[:,t]))+epsilon\n",
    "    w_benchmark[:,t] = positive_returns/sum(positive_returns)"
   ]
  },
  {
   "cell_type": "code",
   "execution_count": 12,
   "id": "coastal-comfort",
   "metadata": {},
   "outputs": [
    {
     "data": {
      "application/vnd.jupyter.widget-view+json": {
       "model_id": "8585842dc7524c448bb7e451d96bf67a",
       "version_major": 2,
       "version_minor": 0
      },
      "text/plain": [
       "HBox(children=(HTML(value=''), FloatProgress(value=0.0, max=5000.0), HTML(value='')))"
      ]
     },
     "metadata": {},
     "output_type": "display_data"
    },
    {
     "name": "stdout",
     "output_type": "stream",
     "text": [
      "\n",
      "Finished running 5000 epochs\n"
     ]
    }
   ],
   "source": [
    "np.random.seed(123)\n",
    "theta = np.random.rand(1, 3)\n",
    "for k in tqdm(range(epochs)):\n",
    "    r_p_grad=0\n",
    "    r_p = 0\n",
    "    # Optmize Theta over all stocks and times\n",
    "#     print(f\" Theta :{theta}, k:{k}\")\n",
    "    for i in range(number_of_stocks):\n",
    "        firm_df = firm_characteristics[i].copy()\n",
    "        firms_coeff = theta.dot(firm_df.T)\n",
    "        # Multiply only t-1 firm characteristics\n",
    "        # Starting return r at t+1\n",
    "        r_p_grad += firm_df[:-1].T * r[i, 1:]\n",
    "        r_p +=  w_benchmark[i,:-1]*r[i, 1:] + (1/number_of_stocks)*firms_coeff[:,:-1]*r[i, 1:]\n",
    "    r_p_grad *= (1/number_of_stocks)\n",
    "    u_grad = utility_function_grad(r_p, gamma, r_p_grad)\n",
    "    # It will be changed with u_grad\n",
    "    gradient = (r_p_grad * u_grad).T.sum()/time\n",
    "#     print(f\" Gradient :{gradient.to_numpy()}, k:{k}\\n\")\n",
    "    theta += lr * gradient\n",
    "\n",
    "    \n",
    "    # Avaliate function\n",
    "    for i in range(number_of_stocks):\n",
    "        firm_df = firm_characteristics[i].copy()\n",
    "        firms_coeff = theta.dot(firm_df.T)\n",
    "        w[i] = w_benchmark[i] + (1/number_of_stocks)*firms_coeff\n",
    "    \n",
    "    # Using t-1 weights and r from 1 to t\n",
    "    r_p = sum(w[:,:-1]*r[:,1:])\n",
    "    utility_values = utility_function(5, r_p)\n",
    "    # Average over T \n",
    "    average_return_portifolio = sum(utility_values)/len(utility_values)\n",
    "    return_all.append(average_return_portifolio)\n",
    "#     print(f\"Return {average_return_portifolio}\")\n",
    "print(f\"Finished running {epochs} epochs\")"
   ]
  },
  {
   "cell_type": "code",
   "execution_count": 23,
   "id": "dressed-behavior",
   "metadata": {},
   "outputs": [
    {
     "data": {
      "text/plain": [
       "array([0.16143, 0.16431, 0.16957, 0.15279, 0.15868, 0.04073, 0.04327,\n",
       "       0.03851, 0.03118, 0.03953])"
      ]
     },
     "execution_count": 23,
     "metadata": {},
     "output_type": "execute_result"
    }
   ],
   "source": [
    "np.sum(w, axis=1)/time"
   ]
  },
  {
   "cell_type": "code",
   "execution_count": 14,
   "id": "opponent-bishop",
   "metadata": {},
   "outputs": [
    {
     "data": {
      "text/html": [
       "<div>\n",
       "<style scoped>\n",
       "    .dataframe tbody tr th:only-of-type {\n",
       "        vertical-align: middle;\n",
       "    }\n",
       "\n",
       "    .dataframe tbody tr th {\n",
       "        vertical-align: top;\n",
       "    }\n",
       "\n",
       "    .dataframe thead th {\n",
       "        text-align: right;\n",
       "    }\n",
       "</style>\n",
       "<table border=\"1\" class=\"dataframe\">\n",
       "  <thead>\n",
       "    <tr style=\"text-align: right;\">\n",
       "      <th></th>\n",
       "      <th>0</th>\n",
       "    </tr>\n",
       "  </thead>\n",
       "  <tbody>\n",
       "    <tr>\n",
       "      <th>count</th>\n",
       "      <td>5000.000000</td>\n",
       "    </tr>\n",
       "    <tr>\n",
       "      <th>mean</th>\n",
       "      <td>-0.008991</td>\n",
       "    </tr>\n",
       "    <tr>\n",
       "      <th>std</th>\n",
       "      <td>0.000094</td>\n",
       "    </tr>\n",
       "    <tr>\n",
       "      <th>min</th>\n",
       "      <td>-0.009211</td>\n",
       "    </tr>\n",
       "    <tr>\n",
       "      <th>25%</th>\n",
       "      <td>-0.009060</td>\n",
       "    </tr>\n",
       "    <tr>\n",
       "      <th>50%</th>\n",
       "      <td>-0.008959</td>\n",
       "    </tr>\n",
       "    <tr>\n",
       "      <th>75%</th>\n",
       "      <td>-0.008906</td>\n",
       "    </tr>\n",
       "    <tr>\n",
       "      <th>max</th>\n",
       "      <td>-0.008897</td>\n",
       "    </tr>\n",
       "  </tbody>\n",
       "</table>\n",
       "</div>"
      ],
      "text/plain": [
       "                 0\n",
       "count  5000.000000\n",
       "mean     -0.008991\n",
       "std       0.000094\n",
       "min      -0.009211\n",
       "25%      -0.009060\n",
       "50%      -0.008959\n",
       "75%      -0.008906\n",
       "max      -0.008897"
      ]
     },
     "execution_count": 14,
     "metadata": {},
     "output_type": "execute_result"
    }
   ],
   "source": [
    "pd.DataFrame(return_all).describe()"
   ]
  },
  {
   "cell_type": "code",
   "execution_count": 15,
   "id": "documentary-network",
   "metadata": {},
   "outputs": [
    {
     "data": {
      "image/png": "[encoded data removed]",
      "text/plain": [
       "<Figure size 864x648 with 1 Axes>"
      ]
     },
     "metadata": {
      "needs_background": "light"
     },
     "output_type": "display_data"
    }
   ],
   "source": [
    "plt.figure(figsize=(12,9))\n",
    "# plt.yscale('symlog')\n",
    "plt.scatter(x=range(len(return_all)), y=return_all)\n",
    "plt.title('Portifolio return optimization')\n",
    "plt.ylabel('Log portifolio return')\n",
    "plt.xlabel('Epoch')\n",
    "plt.grid()\n",
    "plt.show()"
   ]
  },
  {
   "cell_type": "code",
   "execution_count": 231,
   "id": "freelance-reynolds",
   "metadata": {},
   "outputs": [
    {
     "data": {
      "image/png": "[encoded data removed]",
      "text/plain": [
       "<Figure size 864x648 with 1 Axes>"
      ]
     },
     "metadata": {
      "needs_background": "light"
     },
     "output_type": "display_data"
    }
   ],
   "source": [
    "plt.figure(figsize=(12,9))\n",
    "# plt.yscale('symlog')\n",
    "plt.boxplot(return_all)\n",
    "plt.title('Portifolio return optimization')\n",
    "plt.ylabel('Log portifolio return')\n",
    "plt.show()"
   ]
  },
  {
   "cell_type": "code",
   "execution_count": 60,
   "id": "documentary-february",
   "metadata": {},
   "outputs": [],
   "source": []
  },
  {
   "cell_type": "code",
   "execution_count": null,
   "id": "experienced-exchange",
   "metadata": {},
   "outputs": [],
   "source": []
  },
  {
   "cell_type": "code",
   "execution_count": null,
   "id": "recorded-commissioner",
   "metadata": {},
   "outputs": [],
   "source": []
  },
  {
   "cell_type": "code",
   "execution_count": null,
   "id": "twenty-proxy",
   "metadata": {},
   "outputs": [],
   "source": []
  },
  {
   "cell_type": "markdown",
   "id": "inside-affair",
   "metadata": {},
   "source": [
    "## Using scipy to optmize easily and to add constraints"
   ]
  },
  {
   "cell_type": "code",
   "execution_count": null,
   "id": "essential-criminal",
   "metadata": {},
   "outputs": [],
   "source": []
  },
  {
   "cell_type": "code",
   "execution_count": null,
   "id": "mineral-double",
   "metadata": {},
   "outputs": [],
   "source": []
  },
  {
   "cell_type": "code",
   "execution_count": 12,
   "id": "opened-storage",
   "metadata": {},
   "outputs": [
    {
     "name": "stdout",
     "output_type": "stream",
     "text": [
      "Created all artificial stocks\n"
     ]
    }
   ],
   "source": [
    "np.set_printoptions(formatter={'float': lambda x: \"{0:0.5f}\".format(x)})\n",
    "\n",
    "time = 90 # 4000 days\n",
    "number_of_stocks = 10\n",
    "np.random.seed(123)\n",
    "r = np.empty(shape=(number_of_stocks,time))\n",
    "gamma = 5\n",
    "firm_characteristics = defaultdict(list)\n",
    "# Learning rate\n",
    "lr = 1e-3\n",
    "epochs = 5000\n",
    "return_all = []\n",
    "\n",
    "# Creating artificial return\n",
    "for i in range(number_of_stocks):\n",
    "    for t in range(time):\n",
    "        # Toy firm characteristics\n",
    "        if i>=5:\n",
    "            # Negative return firms\n",
    "            me = np.random.uniform(0,1)\n",
    "            btm = np.random.uniform(-1,0)\n",
    "            mom = np.random.uniform(-1,0)\n",
    "        else:\n",
    "            # Positive return firms\n",
    "            me = np.random.uniform(-1,0)\n",
    "            btm = np.random.uniform(0,1)\n",
    "            mom = np.random.uniform(0,1)\n",
    "#         me = np.random.uniform(-1,1)\n",
    "#         btm = np.random.uniform(-1,1)\n",
    "#         mom = np.random.uniform(-1,1)\n",
    "            \n",
    "        firm_characteristics[(i,'me')].append(me)\n",
    "        firm_characteristics[(i,'btm')].append(btm)\n",
    "        firm_characteristics[(i,'mom')].append(mom)\n",
    "        # simplified weight using only firm characteristics\n",
    "        # return of portifolio i at time t\n",
    "        r[i][t] = (-0.337*me + 3.553*btm + 1.623*mom)\n",
    "\n",
    "print(\"Created all artificial stocks\")\n",
    "firm_characteristics = pd.DataFrame(firm_characteristics)\n",
    "# Normalize firm characteristics for each stock\n",
    "firm_characteristics.T.loc[(slice(None), \"me\"), :] -= firm_characteristics.T.loc[(slice(None), \"me\"), :].mean()\n",
    "firm_characteristics.T.loc[(slice(None), \"btm\"), :] -= firm_characteristics.T.loc[(slice(None), \"btm\"), :].mean()\n",
    "firm_characteristics.T.loc[(slice(None), \"mom\"), :] -= firm_characteristics.T.loc[(slice(None), \"mom\"), :].mean()"
   ]
  },
  {
   "cell_type": "code",
   "execution_count": 13,
   "id": "enabling-arrest",
   "metadata": {},
   "outputs": [],
   "source": [
    "# Creating a weight from a benchmark portifolio this one\n",
    "# specific is related to return of each stock for simplicity\n",
    "w_benchmark = np.empty(shape=(number_of_stocks, time))\n",
    "epsilon=1e-5\n",
    "for t in range(time):\n",
    "    positive_returns = (r[:,t]-min(r[:,t]))+epsilon\n",
    "    w_benchmark[:,t] = positive_returns/sum(positive_returns)"
   ]
  },
  {
   "cell_type": "code",
   "execution_count": 14,
   "id": "apart-slovenia",
   "metadata": {},
   "outputs": [],
   "source": [
    "def utility_function(risk_factor, portfolio_return):\n",
    "    value = ((1 + portfolio_return)**(1-risk_factor))/(1-risk_factor)\n",
    "    return value"
   ]
  },
  {
   "cell_type": "code",
   "execution_count": 52,
   "id": "intensive-injury",
   "metadata": {},
   "outputs": [],
   "source": [
    "time = 90\n",
    "def objective(theta): \n",
    "    w = np.empty(shape=(number_of_stocks, time))\n",
    "    for i in range(number_of_stocks):\n",
    "        w[i] = w_benchmark[i] + (1/number_of_stocks)*theta.dot(firm_characteristics[i].copy().T)\n",
    "    \n",
    "    return -sum(sum(utility_function(5, w[:,:-1]*r[:,1:])))/time"
   ]
  },
  {
   "cell_type": "code",
   "execution_count": 48,
   "id": "composed-margin",
   "metadata": {},
   "outputs": [
    {
     "data": {
      "text/plain": [
       "array([[0.69647, 0.28614, 0.22685]])"
      ]
     },
     "execution_count": 48,
     "metadata": {},
     "output_type": "execute_result"
    }
   ],
   "source": [
    "np.random.seed(123)\n",
    "theta0 = np.random.rand(1, 3)\n",
    "theta0"
   ]
  },
  {
   "cell_type": "code",
   "execution_count": 17,
   "id": "individual-fence",
   "metadata": {},
   "outputs": [],
   "source": [
    "from scipy.optimize import minimize"
   ]
  },
  {
   "cell_type": "code",
   "execution_count": 55,
   "id": "adjusted-quick",
   "metadata": {},
   "outputs": [],
   "source": [
    "opt_iter = 1\n",
    "mean_obj_r = []\n",
    "mean_r = []\n",
    "def callback_steps(thetaI):\n",
    "    global opt_iter\n",
    "    print(f\"i:{opt_iter}, theta i: {thetaI}, f(theta):{objective(thetaI)}\")\n",
    "    mean_obj_r.append(-objective(thetaI))\n",
    "    \n",
    "    w_iter = np.empty(shape=(number_of_stocks, time))\n",
    "    for i in range(number_of_stocks):\n",
    "        w_iter[i] = w_benchmark[i] + (1/number_of_stocks)*thetaI.dot(firm_characteristics[i].copy().T)\n",
    "    mean_r.append(sum(sum(w_iter*r)))\n",
    "    \n",
    "    opt_iter += 1"
   ]
  },
  {
   "cell_type": "code",
   "execution_count": 56,
   "id": "supported-going",
   "metadata": {},
   "outputs": [
    {
     "name": "stdout",
     "output_type": "stream",
     "text": [
      "i:1, theta i: [-0.06351 0.70841 0.74088], f(theta):1.2131658535421985\n",
      "i:2, theta i: [-0.20432 0.90021 0.93178], f(theta):0.9978152325831017\n",
      "i:3, theta i: [-0.52549 1.36168 1.38148], f(theta):0.6731738839743524\n",
      "i:4, theta i: [-0.91579 1.94000 1.93716], f(theta):0.451484515895554\n",
      "i:5, theta i: [-1.39522 2.65933 2.62362], f(theta):0.3002525460209777\n",
      "i:6, theta i: [-1.98102 3.54260 3.46382], f(theta):0.1983528425988593\n",
      "i:7, theta i: [-2.69483 4.62088 4.48809], f(theta):0.1301370450768914\n",
      "i:8, theta i: [-3.56019 5.92892 5.72992], f(theta):0.08483774706203423\n",
      "i:9, theta i: [-4.60438 7.50756 7.22839], f(theta):0.054968658415998156\n",
      "i:10, theta i: [-5.85825 9.40331 9.02778], f(theta):0.03541244184901504\n",
      "i:11, theta i: [-7.35715 11.66955 11.17886], f(theta):0.022691391987925764\n",
      "i:12, theta i: [-9.14152 14.36743 13.73968], f(theta):0.014466088600210095\n",
      "i:13, theta i: [-11.25767 17.56695 16.77670], f(theta):0.009176830512822358\n",
      "i:14, theta i: [-13.75844 21.34802 20.36577], f(theta):0.005793002588708184\n",
      "i:15, theta i: [-16.70368 25.80111 24.59275], f(theta):0.0036389331286395864\n",
      "i:16, theta i: [-20.16053 31.02773 29.55401], f(theta):0.0022745626554857433\n",
      "i:17, theta i: [-24.20360 37.14071 35.35663], f(theta):0.0014148252534326787\n",
      "i:18, theta i: [-28.91525 44.26455 42.11880], f(theta):0.000875932622163085\n",
      "i:19, theta i: [-34.38611 52.53628 49.97058], f(theta):0.0005399357315046126\n",
      "i:20, theta i: [-40.71603 62.10689 59.05532], f(theta):0.00033151769537402044\n"
     ]
    },
    {
     "data": {
      "text/plain": [
       "      fun: 0.00033151769537402044\n",
       " hess_inv: array([[141944.34195, -214613.46502, -203717.71370],\n",
       "       [-214613.46502, 324488.78434, 308013.86671],\n",
       "       [-203717.71370, 308013.86671, 292377.30351]])\n",
       "      jac: array([0.00001, -0.00000, -0.00001])\n",
       "  message: 'Optimization terminated successfully.'\n",
       "     nfev: 84\n",
       "      nit: 20\n",
       "     njev: 21\n",
       "   status: 0\n",
       "  success: True\n",
       "        x: array([-40.71603, 62.10689, 59.05532])"
      ]
     },
     "execution_count": 56,
     "metadata": {},
     "output_type": "execute_result"
    }
   ],
   "source": [
    "sol = minimize(objective, theta0, callback=callback_steps)\n",
    "sol"
   ]
  },
  {
   "cell_type": "code",
   "execution_count": 20,
   "id": "fitting-livestock",
   "metadata": {},
   "outputs": [],
   "source": [
    "sol_theta = sol.x\n",
    "w_sol = np.empty(shape=(number_of_stocks, time))\n",
    "for i in range(number_of_stocks):\n",
    "    firm_df = firm_characteristics[i].copy()\n",
    "    firms_coeff = sol_theta.dot(firm_df.T)\n",
    "    w_sol[i] = w_benchmark[i] + (1/number_of_stocks)*firms_coeff"
   ]
  },
  {
   "cell_type": "code",
   "execution_count": 28,
   "id": "institutional-plasma",
   "metadata": {},
   "outputs": [
    {
     "data": {
      "text/plain": [
       "array([8.31961, 8.38071, 8.25111, 7.94663, 8.36792, -8.06084, -7.75736,\n",
       "       -8.13767, -8.13713, -8.17299])"
      ]
     },
     "execution_count": 28,
     "metadata": {},
     "output_type": "execute_result"
    }
   ],
   "source": [
    "np.sum(w_sol, axis=1)/time"
   ]
  },
  {
   "cell_type": "code",
   "execution_count": 44,
   "id": "careful-permission",
   "metadata": {},
   "outputs": [
    {
     "data": {
      "text/plain": [
       "190.9346282688151"
      ]
     },
     "execution_count": 44,
     "metadata": {},
     "output_type": "execute_result"
    }
   ],
   "source": [
    "sum(sum(w_benchmark*r))"
   ]
  },
  {
   "cell_type": "code",
   "execution_count": 45,
   "id": "younger-hammer",
   "metadata": {},
   "outputs": [
    {
     "data": {
      "text/plain": [
       "22450.27196617353"
      ]
     },
     "execution_count": 45,
     "metadata": {},
     "output_type": "execute_result"
    }
   ],
   "source": [
    "sum(sum(w_sol*r))"
   ]
  },
  {
   "cell_type": "code",
   "execution_count": 68,
   "id": "emotional-welcome",
   "metadata": {
    "scrolled": false
   },
   "outputs": [
    {
     "data": {
      "image/png": "[encoded data removed]",
      "text/plain": [
       "<Figure size 864x648 with 1 Axes>"
      ]
     },
     "metadata": {
      "needs_background": "light"
     },
     "output_type": "display_data"
    }
   ],
   "source": [
    "x = range(len(mean_obj_r))\n",
    "plt.figure(figsize=(12,9))\n",
    "plt.title(\"Mean objective return for each iteration step\")\n",
    "plt.plot(x, mean_obj_r)\n",
    "plt.xlabel('Iteration')\n",
    "plt.ylabel('Mean return')\n",
    "plt.grid()\n",
    "plt.show()"
   ]
  },
  {
   "cell_type": "code",
   "execution_count": 70,
   "id": "traditional-hughes",
   "metadata": {},
   "outputs": [
    {
     "data": {
      "image/png": "[encoded data removed]",
      "text/plain": [
       "<Figure size 864x648 with 1 Axes>"
      ]
     },
     "metadata": {
      "needs_background": "light"
     },
     "output_type": "display_data"
    }
   ],
   "source": [
    "x = range(len(mean_r))\n",
    "plt.figure(figsize=(12,9))\n",
    "plt.title(\"Mean return using weight for each iteration step\")\n",
    "plt.plot(x, mean_r, label='Optimized return')\n",
    "plt.plot(x, [sum(sum(w_benchmark*r))]*len(x), label='Benchmark return')\n",
    "plt.xlabel('Iteration')\n",
    "plt.ylabel('Mean return')\n",
    "plt.legend()\n",
    "plt.grid()\n",
    "plt.show()"
   ]
  },
  {
   "cell_type": "code",
   "execution_count": null,
   "id": "terminal-absence",
   "metadata": {},
   "outputs": [],
   "source": []
  },
  {
   "cell_type": "markdown",
   "id": "quarterly-special",
   "metadata": {},
   "source": [
    "## Using real data"
   ]
  },
  {
   "cell_type": "code",
   "execution_count": 71,
   "id": "personal-batman",
   "metadata": {},
   "outputs": [],
   "source": [
    "lreturn = pd.read_csv('lagged_return.csv')\n",
    "mcap = pd.read_csv('market_cap.csv')\n",
    "book_to_mkt_ratio = pd.read_csv('book_to_mkt_ratio.csv')\n",
    "daily_return = pd.read_csv('daily_return.csv')"
   ]
  },
  {
   "cell_type": "code",
   "execution_count": 115,
   "id": "assisted-candidate",
   "metadata": {},
   "outputs": [],
   "source": [
    "from sklearn.model_selection import TimeSeriesSplit\n",
    "splits = TimeSeriesSplit(n_splits=3)"
   ]
  },
  {
   "cell_type": "code",
   "execution_count": 116,
   "id": "married-variety",
   "metadata": {
    "scrolled": true
   },
   "outputs": [
    {
     "data": {
      "image/png": "[encoded data removed]",
      "text/plain": [
       "<Figure size 864x576 with 1 Axes>"
      ]
     },
     "metadata": {
      "needs_background": "light"
     },
     "output_type": "display_data"
    },
    {
     "data": {
      "image/png": "[encoded data removed]",
      "text/plain": [
       "<Figure size 864x576 with 1 Axes>"
      ]
     },
     "metadata": {
      "needs_background": "light"
     },
     "output_type": "display_data"
    },
    {
     "data": {
      "image/png": "[encoded data removed]",
      "text/plain": [
       "<Figure size 864x576 with 1 Axes>"
      ]
     },
     "metadata": {
      "needs_background": "light"
     },
     "output_type": "display_data"
    }
   ],
   "source": [
    "for train, val in splits.split(book_to_mkt_ratio):\n",
    "    train_btm = book_to_mkt_ratio.loc[train]\n",
    "    train_me = mcap.loc[train]\n",
    "    train_mom = lreturn.loc[train]\n",
    "    \n",
    "    val_btm = book_to_mkt_ratio.loc[val]\n",
    "    val_me = mcap.loc[val]\n",
    "    val_mom = lreturn.loc[val]\n",
    "\n",
    "    plt.figure(figsize=(12,8))\n",
    "    plt.title(\"Vale Daily book to market ratio\")\n",
    "    plt.ticklabel_format(style='plain')\n",
    "    train_btm['VALE3'].plot(c='blue', label='train')\n",
    "    val_btm['VALE3'].plot(c='orange', label='validation')\n",
    "    plt.legend()\n",
    "    # plt.grid()\n",
    "    plt.show()"
   ]
  },
  {
   "cell_type": "code",
   "execution_count": 102,
   "id": "industrial-wings",
   "metadata": {},
   "outputs": [
    {
     "name": "stdout",
     "output_type": "stream",
     "text": [
      "Created firm characteristics matrix\n",
      "Normalized firm characteristics\n"
     ]
    }
   ],
   "source": [
    "firm_characteristics = defaultdict(list)\n",
    "\n",
    "# Stocks used to test\n",
    "stocks_names = [\"ALPA4\",\n",
    "\"AMBV4\",\n",
    "\"CESP6\",\n",
    "\"BRFS3\",\n",
    "\"ELET6\",\n",
    "\"VALE3\",\n",
    "\"WEGE3\",\n",
    "\"EMBR3\",\n",
    "\"PETR4\",\n",
    "\"LAME4\"]\n",
    "\n",
    "time = train_me.shape[0] \n",
    "number_of_stocks = len(stocks_names)\n",
    "r = np.empty(shape=(number_of_stocks, time))\n",
    "epsilon = 1e-10\n",
    "\n",
    "for i, name in enumerate(stocks_names):\n",
    "    me = train_me.get(name)\n",
    "    mom = train_mom.get(name)\n",
    "    btm = train_btm.get(name)\n",
    "    dr = daily_return.get(name)\n",
    "    \n",
    "    firm_characteristics[(i,'me')] = me.fillna(method='bfill')\n",
    "    firm_characteristics[(i,'btm')] = btm.fillna(method='bfill')\n",
    "    firm_characteristics[(i,'mom')]= mom.fillna(method='bfill')\n",
    "    \n",
    "    r[i] = dr.fillna(method='bfill')[:time]\n",
    "\n",
    "print(\"Created firm characteristics matrix\")\n",
    "firm_characteristics = pd.DataFrame(firm_characteristics)\n",
    "#Normalize firm characteristics for each stock\n",
    "sum_df = firm_characteristics.T.loc[(slice(None), \"me\"), :].sum()\n",
    "firm_characteristics.T.loc[(slice(None), \"me\"), :] -= firm_characteristics.T.loc[(slice(None), \"me\"), :].mean()\n",
    "firm_characteristics.T.loc[(slice(None), \"me\"), :] /= (sum_df + epsilon)\n",
    "\n",
    "sum_df = firm_characteristics.T.loc[(slice(None), \"btm\"), :].sum()\n",
    "firm_characteristics.T.loc[(slice(None), \"btm\"), :] -= firm_characteristics.T.loc[(slice(None), \"btm\"), :].mean()\n",
    "firm_characteristics.T.loc[(slice(None), \"btm\"), :] /= (sum_df + epsilon)\n",
    "\n",
    "\n",
    "sum_df = firm_characteristics.T.loc[(slice(None), \"mom\"), :].sum()\n",
    "firm_characteristics.T.loc[(slice(None), \"mom\"), :] -= firm_characteristics.T.loc[(slice(None), \"mom\"), :].mean()\n",
    "firm_characteristics.T.loc[(slice(None), \"mom\"), :] /= (sum_df + epsilon)\n",
    "\n",
    "print(\"Normalized firm characteristics\")"
   ]
  },
  {
   "cell_type": "code",
   "execution_count": 103,
   "id": "sapphire-condition",
   "metadata": {},
   "outputs": [
    {
     "data": {
      "text/html": [
       "<div>\n",
       "<style scoped>\n",
       "    .dataframe tbody tr th:only-of-type {\n",
       "        vertical-align: middle;\n",
       "    }\n",
       "\n",
       "    .dataframe tbody tr th {\n",
       "        vertical-align: top;\n",
       "    }\n",
       "\n",
       "    .dataframe thead tr th {\n",
       "        text-align: left;\n",
       "    }\n",
       "</style>\n",
       "<table border=\"1\" class=\"dataframe\">\n",
       "  <thead>\n",
       "    <tr>\n",
       "      <th></th>\n",
       "      <th colspan=\"3\" halign=\"left\">0</th>\n",
       "      <th colspan=\"3\" halign=\"left\">1</th>\n",
       "      <th colspan=\"3\" halign=\"left\">2</th>\n",
       "      <th>3</th>\n",
       "      <th>...</th>\n",
       "      <th>6</th>\n",
       "      <th colspan=\"3\" halign=\"left\">7</th>\n",
       "      <th colspan=\"3\" halign=\"left\">8</th>\n",
       "      <th colspan=\"3\" halign=\"left\">9</th>\n",
       "    </tr>\n",
       "    <tr>\n",
       "      <th></th>\n",
       "      <th>me</th>\n",
       "      <th>btm</th>\n",
       "      <th>mom</th>\n",
       "      <th>me</th>\n",
       "      <th>btm</th>\n",
       "      <th>mom</th>\n",
       "      <th>me</th>\n",
       "      <th>btm</th>\n",
       "      <th>mom</th>\n",
       "      <th>me</th>\n",
       "      <th>...</th>\n",
       "      <th>mom</th>\n",
       "      <th>me</th>\n",
       "      <th>btm</th>\n",
       "      <th>mom</th>\n",
       "      <th>me</th>\n",
       "      <th>btm</th>\n",
       "      <th>mom</th>\n",
       "      <th>me</th>\n",
       "      <th>btm</th>\n",
       "      <th>mom</th>\n",
       "    </tr>\n",
       "  </thead>\n",
       "  <tbody>\n",
       "    <tr>\n",
       "      <th>count</th>\n",
       "      <td>3140.000000</td>\n",
       "      <td>3140.000000</td>\n",
       "      <td>3140.000000</td>\n",
       "      <td>3140.000000</td>\n",
       "      <td>3140.000000</td>\n",
       "      <td>3140.000000</td>\n",
       "      <td>3140.000000</td>\n",
       "      <td>3140.000000</td>\n",
       "      <td>3140.000000</td>\n",
       "      <td>3140.000000</td>\n",
       "      <td>...</td>\n",
       "      <td>3140.000000</td>\n",
       "      <td>3140.000000</td>\n",
       "      <td>3140.000000</td>\n",
       "      <td>3140.000000</td>\n",
       "      <td>3140.000000</td>\n",
       "      <td>3140.000000</td>\n",
       "      <td>3140.000000</td>\n",
       "      <td>3140.000000</td>\n",
       "      <td>3140.000000</td>\n",
       "      <td>3140.000000</td>\n",
       "    </tr>\n",
       "    <tr>\n",
       "      <th>mean</th>\n",
       "      <td>-0.097183</td>\n",
       "      <td>-0.035748</td>\n",
       "      <td>-0.063728</td>\n",
       "      <td>0.013855</td>\n",
       "      <td>-0.038706</td>\n",
       "      <td>0.408491</td>\n",
       "      <td>-0.070522</td>\n",
       "      <td>0.221591</td>\n",
       "      <td>-0.161902</td>\n",
       "      <td>-0.093298</td>\n",
       "      <td>...</td>\n",
       "      <td>-0.072439</td>\n",
       "      <td>-0.062389</td>\n",
       "      <td>-0.016027</td>\n",
       "      <td>-0.450855</td>\n",
       "      <td>0.278349</td>\n",
       "      <td>-0.026162</td>\n",
       "      <td>0.193825</td>\n",
       "      <td>-0.090103</td>\n",
       "      <td>-0.034672</td>\n",
       "      <td>0.453223</td>\n",
       "    </tr>\n",
       "    <tr>\n",
       "      <th>std</th>\n",
       "      <td>0.001591</td>\n",
       "      <td>0.026659</td>\n",
       "      <td>12.311070</td>\n",
       "      <td>0.033863</td>\n",
       "      <td>0.015901</td>\n",
       "      <td>19.866534</td>\n",
       "      <td>0.030291</td>\n",
       "      <td>0.152425</td>\n",
       "      <td>4.955216</td>\n",
       "      <td>0.001714</td>\n",
       "      <td>...</td>\n",
       "      <td>0.628061</td>\n",
       "      <td>0.025225</td>\n",
       "      <td>0.054986</td>\n",
       "      <td>16.511398</td>\n",
       "      <td>0.088385</td>\n",
       "      <td>0.021347</td>\n",
       "      <td>9.081241</td>\n",
       "      <td>0.007071</td>\n",
       "      <td>0.023225</td>\n",
       "      <td>12.878114</td>\n",
       "    </tr>\n",
       "    <tr>\n",
       "      <th>min</th>\n",
       "      <td>-0.098984</td>\n",
       "      <td>-0.074731</td>\n",
       "      <td>-555.761089</td>\n",
       "      <td>-0.059762</td>\n",
       "      <td>-0.072930</td>\n",
       "      <td>-133.261408</td>\n",
       "      <td>-0.097359</td>\n",
       "      <td>0.013445</td>\n",
       "      <td>-269.867158</td>\n",
       "      <td>-0.096713</td>\n",
       "      <td>...</td>\n",
       "      <td>-6.966491</td>\n",
       "      <td>-0.099011</td>\n",
       "      <td>-0.076010</td>\n",
       "      <td>-633.445258</td>\n",
       "      <td>0.066854</td>\n",
       "      <td>-0.065448</td>\n",
       "      <td>-386.558397</td>\n",
       "      <td>-0.098942</td>\n",
       "      <td>-0.089716</td>\n",
       "      <td>-175.359371</td>\n",
       "    </tr>\n",
       "    <tr>\n",
       "      <th>25%</th>\n",
       "      <td>-0.098123</td>\n",
       "      <td>-0.054940</td>\n",
       "      <td>-0.100000</td>\n",
       "      <td>-0.016794</td>\n",
       "      <td>-0.049886</td>\n",
       "      <td>-0.126061</td>\n",
       "      <td>-0.094910</td>\n",
       "      <td>0.083901</td>\n",
       "      <td>-0.100000</td>\n",
       "      <td>-0.094874</td>\n",
       "      <td>...</td>\n",
       "      <td>-0.100000</td>\n",
       "      <td>-0.087245</td>\n",
       "      <td>-0.054140</td>\n",
       "      <td>-0.100000</td>\n",
       "      <td>0.227566</td>\n",
       "      <td>-0.044316</td>\n",
       "      <td>-0.100000</td>\n",
       "      <td>-0.095781</td>\n",
       "      <td>-0.050483</td>\n",
       "      <td>-0.116663</td>\n",
       "    </tr>\n",
       "    <tr>\n",
       "      <th>50%</th>\n",
       "      <td>-0.097820</td>\n",
       "      <td>-0.041281</td>\n",
       "      <td>-0.100000</td>\n",
       "      <td>0.023894</td>\n",
       "      <td>-0.041052</td>\n",
       "      <td>-0.014763</td>\n",
       "      <td>-0.086871</td>\n",
       "      <td>0.189718</td>\n",
       "      <td>-0.100000</td>\n",
       "      <td>-0.093170</td>\n",
       "      <td>...</td>\n",
       "      <td>-0.100000</td>\n",
       "      <td>-0.061756</td>\n",
       "      <td>-0.038007</td>\n",
       "      <td>-0.100000</td>\n",
       "      <td>0.301422</td>\n",
       "      <td>-0.028452</td>\n",
       "      <td>0.047580</td>\n",
       "      <td>-0.091905</td>\n",
       "      <td>-0.038802</td>\n",
       "      <td>-0.002057</td>\n",
       "    </tr>\n",
       "    <tr>\n",
       "      <th>75%</th>\n",
       "      <td>-0.096634</td>\n",
       "      <td>-0.026849</td>\n",
       "      <td>0.082330</td>\n",
       "      <td>0.039578</td>\n",
       "      <td>-0.027837</td>\n",
       "      <td>0.139541</td>\n",
       "      <td>-0.040569</td>\n",
       "      <td>0.369621</td>\n",
       "      <td>-0.100000</td>\n",
       "      <td>-0.091889</td>\n",
       "      <td>...</td>\n",
       "      <td>-0.100000</td>\n",
       "      <td>-0.040928</td>\n",
       "      <td>0.002415</td>\n",
       "      <td>0.139218</td>\n",
       "      <td>0.344728</td>\n",
       "      <td>-0.005834</td>\n",
       "      <td>0.216869</td>\n",
       "      <td>-0.085913</td>\n",
       "      <td>-0.021254</td>\n",
       "      <td>0.229307</td>\n",
       "    </tr>\n",
       "    <tr>\n",
       "      <th>max</th>\n",
       "      <td>-0.090057</td>\n",
       "      <td>0.050113</td>\n",
       "      <td>294.982179</td>\n",
       "      <td>0.099714</td>\n",
       "      <td>-0.002972</td>\n",
       "      <td>1064.229454</td>\n",
       "      <td>0.007330</td>\n",
       "      <td>0.537393</td>\n",
       "      <td>36.916124</td>\n",
       "      <td>-0.089588</td>\n",
       "      <td>...</td>\n",
       "      <td>26.404066</td>\n",
       "      <td>0.000738</td>\n",
       "      <td>0.265781</td>\n",
       "      <td>140.977579</td>\n",
       "      <td>0.421226</td>\n",
       "      <td>0.035385</td>\n",
       "      <td>215.715465</td>\n",
       "      <td>-0.065411</td>\n",
       "      <td>0.043287</td>\n",
       "      <td>576.399722</td>\n",
       "    </tr>\n",
       "  </tbody>\n",
       "</table>\n",
       "<p>8 rows × 30 columns</p>\n",
       "</div>"
      ],
      "text/plain": [
       "                 0                                      1               \\\n",
       "                me          btm          mom           me          btm   \n",
       "count  3140.000000  3140.000000  3140.000000  3140.000000  3140.000000   \n",
       "mean     -0.097183    -0.035748    -0.063728     0.013855    -0.038706   \n",
       "std       0.001591     0.026659    12.311070     0.033863     0.015901   \n",
       "min      -0.098984    -0.074731  -555.761089    -0.059762    -0.072930   \n",
       "25%      -0.098123    -0.054940    -0.100000    -0.016794    -0.049886   \n",
       "50%      -0.097820    -0.041281    -0.100000     0.023894    -0.041052   \n",
       "75%      -0.096634    -0.026849     0.082330     0.039578    -0.027837   \n",
       "max      -0.090057     0.050113   294.982179     0.099714    -0.002972   \n",
       "\n",
       "                              2                                      3  ...  \\\n",
       "               mom           me          btm          mom           me  ...   \n",
       "count  3140.000000  3140.000000  3140.000000  3140.000000  3140.000000  ...   \n",
       "mean      0.408491    -0.070522     0.221591    -0.161902    -0.093298  ...   \n",
       "std      19.866534     0.030291     0.152425     4.955216     0.001714  ...   \n",
       "min    -133.261408    -0.097359     0.013445  -269.867158    -0.096713  ...   \n",
       "25%      -0.126061    -0.094910     0.083901    -0.100000    -0.094874  ...   \n",
       "50%      -0.014763    -0.086871     0.189718    -0.100000    -0.093170  ...   \n",
       "75%       0.139541    -0.040569     0.369621    -0.100000    -0.091889  ...   \n",
       "max    1064.229454     0.007330     0.537393    36.916124    -0.089588  ...   \n",
       "\n",
       "                 6            7                                      8  \\\n",
       "               mom           me          btm          mom           me   \n",
       "count  3140.000000  3140.000000  3140.000000  3140.000000  3140.000000   \n",
       "mean     -0.072439    -0.062389    -0.016027    -0.450855     0.278349   \n",
       "std       0.628061     0.025225     0.054986    16.511398     0.088385   \n",
       "min      -6.966491    -0.099011    -0.076010  -633.445258     0.066854   \n",
       "25%      -0.100000    -0.087245    -0.054140    -0.100000     0.227566   \n",
       "50%      -0.100000    -0.061756    -0.038007    -0.100000     0.301422   \n",
       "75%      -0.100000    -0.040928     0.002415     0.139218     0.344728   \n",
       "max      26.404066     0.000738     0.265781   140.977579     0.421226   \n",
       "\n",
       "                                           9                            \n",
       "               btm          mom           me          btm          mom  \n",
       "count  3140.000000  3140.000000  3140.000000  3140.000000  3140.000000  \n",
       "mean     -0.026162     0.193825    -0.090103    -0.034672     0.453223  \n",
       "std       0.021347     9.081241     0.007071     0.023225    12.878114  \n",
       "min      -0.065448  -386.558397    -0.098942    -0.089716  -175.359371  \n",
       "25%      -0.044316    -0.100000    -0.095781    -0.050483    -0.116663  \n",
       "50%      -0.028452     0.047580    -0.091905    -0.038802    -0.002057  \n",
       "75%      -0.005834     0.216869    -0.085913    -0.021254     0.229307  \n",
       "max       0.035385   215.715465    -0.065411     0.043287   576.399722  \n",
       "\n",
       "[8 rows x 30 columns]"
      ]
     },
     "execution_count": 103,
     "metadata": {},
     "output_type": "execute_result"
    }
   ],
   "source": [
    "firm_characteristics.describe()"
   ]
  },
  {
   "cell_type": "code",
   "execution_count": 104,
   "id": "affiliated-dress",
   "metadata": {},
   "outputs": [],
   "source": [
    "# Creating a weight from a benchmark portifolio this one\n",
    "# specific is related to return of each stock for simplicity\n",
    "w_benchmark = np.empty(shape=(number_of_stocks, time))\n",
    "epsilon=1e-5\n",
    "for t in range(time):\n",
    "    positive_returns = (r[:,t]-min(r[:,t]))+epsilon\n",
    "    w_benchmark[:,t] = positive_returns/sum(positive_returns)"
   ]
  },
  {
   "cell_type": "code",
   "execution_count": 10,
   "id": "convertible-sound",
   "metadata": {},
   "outputs": [],
   "source": [
    "def utility_function(risk_factor, portfolio_return):\n",
    "    value = ((1 + portfolio_return)**(1-risk_factor))/(1-risk_factor)\n",
    "    return value"
   ]
  },
  {
   "cell_type": "code",
   "execution_count": 88,
   "id": "economic-validation",
   "metadata": {},
   "outputs": [
    {
     "data": {
      "text/plain": [
       "3"
      ]
     },
     "execution_count": 88,
     "metadata": {},
     "output_type": "execute_result"
    }
   ],
   "source": []
  },
  {
   "cell_type": "code",
   "execution_count": 89,
   "id": "turkish-wiring",
   "metadata": {},
   "outputs": [],
   "source": [
    "def objective(theta): \n",
    "    w = np.empty(shape=(number_of_stocks, time))\n",
    "    for i in range(number_of_stocks):\n",
    "        w[i] = w_benchmark[i].copy() + (1/number_of_stocks)*theta.dot(firm_characteristics[i].copy().T)\n",
    "#     return w\n",
    "    return -sum(sum(utility_function(5, w[:,:-1]*r[:,1:])))/time"
   ]
  },
  {
   "cell_type": "code",
   "execution_count": 76,
   "id": "cooperative-india",
   "metadata": {},
   "outputs": [],
   "source": [
    "def constraint(theta):\n",
    "    w_sol = np.empty(shape=(number_of_stocks, time))\n",
    "    for i in range(number_of_stocks):\n",
    "        firm_df = firm_characteristics[i].copy()\n",
    "        firms_coeff = sol_theta.dot(firm_df.T)\n",
    "        w_sol[i] = w_benchmark[i] + (1/number_of_stocks)*firms_coeff\n",
    "    mean_w = np.sum(w_sol, axis=1)/time\n",
    "    return mean_w\n",
    "\n",
    "cons = [{\"type\" : \"ineq\", \"fun\" : constraint}]"
   ]
  },
  {
   "cell_type": "code",
   "execution_count": 77,
   "id": "intermediate-archives",
   "metadata": {},
   "outputs": [
    {
     "data": {
      "text/plain": [
       "array([[0.69647, 0.28614, 0.22685]])"
      ]
     },
     "execution_count": 77,
     "metadata": {},
     "output_type": "execute_result"
    }
   ],
   "source": [
    "np.random.seed(123)\n",
    "theta0 = np.random.rand(1, 3)\n",
    "theta0"
   ]
  },
  {
   "cell_type": "code",
   "execution_count": 78,
   "id": "dental-palestine",
   "metadata": {},
   "outputs": [],
   "source": [
    "from scipy.optimize import minimize, differential_evolution"
   ]
  },
  {
   "cell_type": "code",
   "execution_count": 106,
   "id": "mighty-reconstruction",
   "metadata": {},
   "outputs": [],
   "source": [
    "opt_iter = 1\n",
    "mean_obj_r = []\n",
    "mean_r = []\n",
    "def callback_steps(thetaI):\n",
    "    global opt_iter\n",
    "    print(f\"i:{opt_iter}, theta i: {thetaI}, f(theta):{objective(thetaI)}\")\n",
    "    mean_obj_r.append(-objective(thetaI))\n",
    "    \n",
    "    w_iter = np.empty(shape=(number_of_stocks, time))\n",
    "    for i in range(number_of_stocks):\n",
    "        w_iter[i] = w_benchmark[i] + (1/number_of_stocks)*thetaI.dot(firm_characteristics[i].copy().T)\n",
    "    mean_r.append(sum(sum(w_iter*r)))\n",
    "    \n",
    "    opt_iter += 1"
   ]
  },
  {
   "cell_type": "code",
   "execution_count": 107,
   "id": "portuguese-holocaust",
   "metadata": {},
   "outputs": [
    {
     "name": "stdout",
     "output_type": "stream",
     "text": [
      "i:1, theta i: [-0.22676 0.25280 -0.18136], f(theta):357373567.70375043\n",
      "i:2, theta i: [-0.20840 0.25353 -0.22321], f(theta):3004280.395104207\n",
      "i:3, theta i: [-0.20885 0.26584 -0.22319], f(theta):2850192.394848417\n",
      "i:4, theta i: [-0.20982 0.29219 -0.22316], f(theta):2575724.1428066893\n",
      "i:5, theta i: [-0.21202 0.35210 -0.22307], f(theta):2138378.5938452827\n",
      "i:6, theta i: [-0.21561 0.44972 -0.22292], f(theta):1757752.4754445709\n",
      "i:7, theta i: [-0.21633 0.46942 -0.22289], f(theta):1737101.961936354\n",
      "i:8, theta i: [-0.21639 0.47090 -0.22289], f(theta):1735177.1522856245\n",
      "i:9, theta i: [-0.21656 0.47521 -0.22285], f(theta):1719201.0777061763\n",
      "i:10, theta i: [-0.21662 0.47592 -0.22278], f(theta):1691104.6619103383\n",
      "i:11, theta i: [-0.21648 0.47073 -0.22267], f(theta):1640197.3194025334\n",
      "i:12, theta i: [-0.21599 0.45478 -0.22248], f(theta):1549231.6631985465\n",
      "i:13, theta i: [-0.21477 0.41605 -0.22210], f(theta):1404452.2612384276\n",
      "i:14, theta i: [-0.21292 0.35863 -0.22161], f(theta):1330066.8264609796\n",
      "i:15, theta i: [-0.21313 0.36554 -0.22169], f(theta):1327763.8006823717\n",
      "i:16, theta i: [-0.21310 0.36492 -0.22170], f(theta):1327217.0829624925\n",
      "i:17, theta i: [-0.21306 0.36379 -0.22170], f(theta):1327028.389360266\n",
      "i:18, theta i: [-0.21306 0.36373 -0.22170], f(theta):1327026.1552637725\n",
      "i:19, theta i: [-0.21305 0.36366 -0.22170], f(theta):1327022.2029659497\n",
      "i:20, theta i: [-0.21305 0.36358 -0.22170], f(theta):1327014.9394063877\n",
      "i:21, theta i: [-0.21305 0.36348 -0.22170], f(theta):1327001.4207832282\n",
      "i:22, theta i: [-0.21304 0.36335 -0.22170], f(theta):1326976.2756586843\n",
      "i:23, theta i: [-0.21304 0.36315 -0.22171], f(theta):1326929.958603504\n",
      "i:24, theta i: [-0.21303 0.36287 -0.22171], f(theta):1326846.1413188549\n",
      "i:25, theta i: [-0.21302 0.36245 -0.22171], f(theta):1326698.2478170607\n",
      "i:26, theta i: [-0.21300 0.36184 -0.22171], f(theta):1326444.5746380724\n",
      "i:27, theta i: [-0.21298 0.36102 -0.22171], f(theta):1326017.373577835\n",
      "i:28, theta i: [-0.21296 0.35998 -0.22172], f(theta):1325293.5208109457\n",
      "i:29, theta i: [-0.21295 0.35875 -0.22173], f(theta):1324037.5020677052\n",
      "i:30, theta i: [-0.21295 0.35730 -0.22174], f(theta):1321810.8082173187\n",
      "i:31, theta i: [-0.21298 0.35552 -0.22175], f(theta):1317822.745471921\n",
      "i:32, theta i: [-0.21308 0.35331 -0.22178], f(theta):1310695.5152114958\n",
      "i:33, theta i: [-0.21330 0.35050 -0.22181], f(theta):1298176.3749893631\n",
      "i:34, theta i: [-0.21377 0.34705 -0.22187], f(theta):1277176.60480694\n",
      "i:35, theta i: [-0.21476 0.34337 -0.22195], f(theta):1246301.1701834784\n",
      "i:36, theta i: [-0.21580 0.34314 -0.22200], f(theta):1219907.9840878802\n",
      "i:37, theta i: [-0.21696 0.34781 -0.22197], f(theta):1181995.0603903278\n",
      "i:38, theta i: [-0.21835 0.36048 -0.22184], f(theta):1123979.997832282\n",
      "i:39, theta i: [-0.21934 0.37666 -0.22167], f(theta):1109179.2888254016\n",
      "i:40, theta i: [-0.21895 0.37201 -0.22175], f(theta):1104514.52268229\n",
      "i:41, theta i: [-0.21902 0.37384 -0.22175], f(theta):1104089.720542404\n",
      "i:42, theta i: [-0.21903 0.37470 -0.22175], f(theta):1104057.6302601055\n",
      "i:43, theta i: [-0.21903 0.37499 -0.22175], f(theta):1104053.9509229378\n",
      "i:44, theta i: [-0.21903 0.37508 -0.22175], f(theta):1104053.5567651563\n",
      "i:45, theta i: [-0.21903 0.37508 -0.22175], f(theta):1104053.552035103\n",
      "i:46, theta i: [-0.21903 0.37508 -0.22175], f(theta):1104053.551797677\n",
      "i:47, theta i: [-0.21903 0.37508 -0.22175], f(theta):1104053.5517839985\n",
      "i:48, theta i: [-0.21903 0.37508 -0.22175], f(theta):1104053.5517839596\n",
      "i:49, theta i: [-0.21903 0.37508 -0.22175], f(theta):1104053.551782283\n",
      "i:50, theta i: [-0.21903 0.37508 -0.22175], f(theta):1104053.5517822367\n"
     ]
    },
    {
     "data": {
      "text/plain": [
       "      fun: 1104053.5517822367\n",
       " hess_inv: array([[0.00000, -0.00000, 0.00000],\n",
       "       [-0.00000, 0.00000, -0.00000],\n",
       "       [0.00000, -0.00000, 0.00000]])\n",
       "      jac: array([1.82812, -0.17188, 20.42188])\n",
       "  message: 'Desired error not necessarily achieved due to precision loss.'\n",
       "     nfev: 387\n",
       "      nit: 50\n",
       "     njev: 94\n",
       "   status: 2\n",
       "  success: False\n",
       "        x: array([-0.21903, 0.37508, -0.22175])"
      ]
     },
     "execution_count": 107,
     "metadata": {},
     "output_type": "execute_result"
    }
   ],
   "source": [
    "# sol = minimize(objective, theta0, callback=callback_steps, method='COBYLA', constraints=cons)\n",
    "sol = minimize(objective, theta0, callback=callback_steps, method='BFGS')\n",
    "sol"
   ]
  },
  {
   "cell_type": "code",
   "execution_count": 108,
   "id": "eleven-compression",
   "metadata": {},
   "outputs": [],
   "source": [
    "sol_theta = sol.x\n",
    "w_sol = np.empty(shape=(number_of_stocks, time))\n",
    "for i in range(number_of_stocks):\n",
    "    firm_df = firm_characteristics[i].copy()\n",
    "    firms_coeff = sol_theta.dot(firm_df.T)\n",
    "    w_sol[i] = w_benchmark[i] + (1/number_of_stocks)*firms_coeff"
   ]
  },
  {
   "cell_type": "code",
   "execution_count": 109,
   "id": "lasting-lloyd",
   "metadata": {},
   "outputs": [
    {
     "data": {
      "text/plain": [
       "array([0.10341, 0.09105, 0.10246, 0.10040, 0.10716, 0.09843, 0.09373,\n",
       "       0.11262, 0.09395, 0.09679])"
      ]
     },
     "execution_count": 109,
     "metadata": {},
     "output_type": "execute_result"
    }
   ],
   "source": [
    "np.sum(w_sol, axis=1)/time"
   ]
  },
  {
   "cell_type": "code",
   "execution_count": 110,
   "id": "compliant-agency",
   "metadata": {},
   "outputs": [
    {
     "data": {
      "image/png": "[encoded data removed]",
      "text/plain": [
       "<Figure size 864x648 with 1 Axes>"
      ]
     },
     "metadata": {
      "needs_background": "light"
     },
     "output_type": "display_data"
    }
   ],
   "source": [
    "x = range(len(mean_obj_r))\n",
    "plt.figure(figsize=(12,9))\n",
    "plt.title(\"Mean objective return for each iteration step\")\n",
    "plt.plot(x, mean_obj_r)\n",
    "plt.xlabel('Iteration')\n",
    "plt.ylabel('Mean return')\n",
    "plt.ticklabel_format(style='plain')\n",
    "plt.grid()\n",
    "plt.show()"
   ]
  },
  {
   "cell_type": "code",
   "execution_count": 111,
   "id": "least-lotus",
   "metadata": {},
   "outputs": [
    {
     "data": {
      "image/png": "[encoded data removed]",
      "text/plain": [
       "<Figure size 864x648 with 1 Axes>"
      ]
     },
     "metadata": {
      "needs_background": "light"
     },
     "output_type": "display_data"
    }
   ],
   "source": [
    "x = range(len(mean_r))\n",
    "plt.figure(figsize=(12,9))\n",
    "plt.title(\"Mean return using weight for each iteration step\")\n",
    "plt.plot(x, mean_r, label='Optimized return')\n",
    "plt.plot(x, [sum(sum(w_benchmark*r))]*len(x), label='Benchmark return')\n",
    "plt.xlabel('Iteration')\n",
    "plt.ylabel('Mean return')\n",
    "plt.legend()\n",
    "plt.grid()\n",
    "plt.show()"
   ]
  },
  {
   "cell_type": "code",
   "execution_count": null,
   "id": "characteristic-dutch",
   "metadata": {},
   "outputs": [],
   "source": []
  },
  {
   "cell_type": "code",
   "execution_count": null,
   "id": "lightweight-laundry",
   "metadata": {},
   "outputs": [],
   "source": []
  }
 ],
 "metadata": {
  "kernelspec": {
   "display_name": "Python 3",
   "language": "python",
   "name": "python3"
  },
  "language_info": {
   "codemirror_mode": {
    "name": "ipython",
    "version": 3
   },
   "file_extension": ".py",
   "mimetype": "text/x-python",
   "name": "python",
   "nbconvert_exporter": "python",
   "pygments_lexer": "ipython3",
   "version": "3.8.5"
  }
 },
 "nbformat": 4,
 "nbformat_minor": 5
}
