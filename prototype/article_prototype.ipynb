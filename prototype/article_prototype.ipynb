{
 "cells": [
  {
   "cell_type": "code",
   "execution_count": 1,
   "id": "precious-cathedral",
   "metadata": {},
   "outputs": [],
   "source": [
    "import json\n",
    "import pandas as pd\n",
    "import numpy as np\n",
    "import matplotlib.pyplot as plt\n",
    "from tqdm.notebook import tqdm\n",
    "from collections import defaultdict"
   ]
  },
  {
   "cell_type": "code",
   "execution_count": 2,
   "id": "formal-tunnel",
   "metadata": {},
   "outputs": [],
   "source": [
    "def utility_function(risk_factor, portfolio_return):\n",
    "    value = ((1 + portfolio_return)**(1-risk_factor))/(1-risk_factor)\n",
    "    return value"
   ]
  },
  {
   "cell_type": "markdown",
   "id": "protected-company",
   "metadata": {},
   "source": [
    "## Optimization formula:\n",
    "## $\\underset{\\theta}{\\max} \\frac{1}{T} \\sum^{T-1}_{t=0} u\\left( \\sum_{i=1}^{N_{t}}( \\bar{w}_{i,t} + \\frac{1}{N_{t}}\\theta^{\\text{T}} \\hat{x}_{i,t} ) r_{i,t+1} \\right) $\n",
    "\n",
    "## Critical point of formula:\n",
    "\n",
    "## $ \\frac{1}{T} \\sum^{T-1}_{t=0} u'(r_{p,t+1}) \\frac{1}{N_{t}}\\hat{x}_{t}^{\\text{T}} r_{t+1} = 0 $\n",
    "\n",
    "\n",
    "## Utility function\n",
    "\n",
    "## $u(r_{p,t+1}) = \\frac{(1+r_{p,t+1})^{1-\\gamma}}{1-\\gamma} $\n",
    "\n",
    "## Portfolio return\n",
    "## $ r_{p,t+1} = \\sum^{N_{t}}_{i=1} \\bar{w}_{i,t} r_{i,t+1} + \\sum^{N_{t}}_{i=1} (  \\frac{1}{N_{t}} \\theta^{\\text{T}} \\hat{x}_{i,t} ) r_{i,t+1} $\n",
    "\n",
    "\n",
    "## Utility function derivate\n",
    "\n",
    "## $u'(r_{p,t+1}) = (1+r_{p, t+1})^{-\\gamma} r'_{p, t+1} $\n",
    "\n",
    "## Portfolio return derivate\n",
    "## $ r'_{p,t+1} = \\sum^{N_{t}}_{i=1} (  \\frac{1}{N_{t}} \\hat{x}_{i,t} ) r_{i,t+1} = \\frac{1}{N_{t}}\\hat{x}_{t}^{\\text{T}} r_{t+1} $\n",
    "\n",
    "## Critical point expanded:\n",
    "## $ \\frac{1}{T} \\sum^{T-1}_{t=0} u'(r_{p,t+1}) \\frac{1}{N_{t}}\\hat{x}_{t}^{\\text{T}} r_{t+1} = 0 $\n",
    "## $ \\frac{1}{T} \\sum^{T-1}_{t=0} (1+r_{p, t+1})^{-\\gamma} r'_{p, t+1} \\frac{1}{N_{t}}\\hat{x}_{t}^{\\text{T}} r_{t+1} = 0 $\n",
    "## $ \\frac{1}{T} \\sum^{T-1}_{t=0} (1+r_{p, t+1})^{-\\gamma} (r'_{p, t+1})^2 $"
   ]
  },
  {
   "cell_type": "code",
   "execution_count": 364,
   "id": "dated-atlanta",
   "metadata": {},
   "outputs": [
    {
     "name": "stdout",
     "output_type": "stream",
     "text": [
      "Created all artificial stocks\n"
     ]
    }
   ],
   "source": [
    "np.set_printoptions(formatter={'float': lambda x: \"{0:0.5f}\".format(x)})\n",
    "\n",
    "time = 90 # 90 days\n",
    "number_of_stocks = 10\n",
    "np.random.seed(123)\n",
    "r = np.empty(shape=(number_of_stocks,time))\n",
    "gamma = 5\n",
    "firm_characteristics = defaultdict(list)\n",
    "# random initialization of theta for 3 firm characteristics\n",
    "theta = np.random.rand(1, 3)\n",
    "w = np.empty(shape=(number_of_stocks, time))\n",
    "# Learning rate\n",
    "lr = 1e-10\n",
    "epochs = 100\n",
    "return_all = []\n",
    "\n",
    "# Creating artificial return\n",
    "for i in range(number_of_stocks):\n",
    "    for t in range(time):\n",
    "        # Toy firm characteristics\n",
    "#         if i>=5:\n",
    "#             # Negative return firms\n",
    "#             me = np.random.uniform(0,1)\n",
    "#             btm = np.random.uniform(-1,0)\n",
    "#             mom = np.random.uniform(-1,0)\n",
    "#         else:\n",
    "#             # Positive return firms\n",
    "#             me = np.random.uniform(-1,0)\n",
    "#             btm = np.random.uniform(0,1)\n",
    "#             mom = np.random.uniform(0,1)\n",
    "        me = np.random.uniform(-1,1)\n",
    "        btm = np.random.uniform(-1,1)\n",
    "        mom = np.random.uniform(-1,1)\n",
    "            \n",
    "        firm_characteristics[(i,'me')].append(me)\n",
    "        firm_characteristics[(i,'btm')].append(btm)\n",
    "        firm_characteristics[(i,'mom')].append(mom)\n",
    "        # simplified weight using only firm characteristics\n",
    "        # return of portifolio i at time t\n",
    "        r[i][t] = (-0.337*me + 3.553*btm + 1.623*mom)\n",
    "\n",
    "print(\"Created all artificial stocks\")\n",
    "firm_characteristics = pd.DataFrame(firm_characteristics)\n",
    "# Normalize firm characteristics for each stock\n",
    "firm_characteristics.T.loc[(slice(None), \"me\"), :] -= firm_characteristics.T.loc[(slice(None), \"me\"), :].mean()\n",
    "firm_characteristics.T.loc[(slice(None), \"mom\"), :] -= firm_characteristics.T.loc[(slice(None), \"mom\"), :].mean()\n",
    "firm_characteristics.T.loc[(slice(None), \"btm\"), :] -= firm_characteristics.T.loc[(slice(None), \"btm\"), :].mean()"
   ]
  },
  {
   "cell_type": "code",
   "execution_count": 365,
   "id": "answering-couple",
   "metadata": {},
   "outputs": [],
   "source": [
    "# Creating a weight from a benchmark portifolio this one\n",
    "# specific is related to return of each stock for simplicity\n",
    "w_benchmark = np.empty(shape=(number_of_stocks, time))\n",
    "epsilon=1e-5\n",
    "for t in range(time):\n",
    "    positive_returns = (r[:,t]-min(r[:,t]))+epsilon\n",
    "    w_benchmark[:,t] = positive_returns/sum(positive_returns)"
   ]
  },
  {
   "cell_type": "code",
   "execution_count": 366,
   "id": "coastal-comfort",
   "metadata": {},
   "outputs": [
    {
     "data": {
      "application/vnd.jupyter.widget-view+json": {
       "model_id": "56f5779d766d4ed8a8633ad184d837d0",
       "version_major": 2,
       "version_minor": 0
      },
      "text/plain": [
       "HBox(children=(HTML(value=''), FloatProgress(value=0.0), HTML(value='')))"
      ]
     },
     "metadata": {},
     "output_type": "display_data"
    },
    {
     "name": "stdout",
     "output_type": "stream",
     "text": [
      "\n",
      "Finished running 100 epochs\n"
     ]
    }
   ],
   "source": [
    "for k in tqdm(range(epochs)):\n",
    "    r_p_grad=0\n",
    "    r_p = 0\n",
    "    # Optmize Theta over all stocks and times\n",
    "    for i in range(number_of_stocks):\n",
    "        firm_df = firm_characteristics[i].copy()\n",
    "        firms_coeff = theta.dot(firm_df.T)\n",
    "        # Multiply only t-1 firm characteristics\n",
    "        # Starting return r at t+1\n",
    "        r_p_grad += firm_df[:-1].T * r[i, 1:]\n",
    "        r_p +=  w_benchmark[i,:-1]*r[i, 1:] + (1/number_of_stocks)*firms_coeff[:,:-1]*r[i, 1:]\n",
    "    r_p_grad *= (1/number_of_stocks)\n",
    "    u_grad = np.power((1+r_p),-gamma)\n",
    "    gradient = (np.power(r_p_grad,2) * u_grad).T.sum()/time\n",
    "    \n",
    "    theta += lr * gradient\n",
    "\n",
    "#     print(f\" Theta :{theta}, k:{k}\")\n",
    "    # Avaliate function\n",
    "    for i in range(number_of_stocks):\n",
    "        firm_df = firm_characteristics[i].copy()\n",
    "        firms_coeff = theta.dot(firm_df.T)\n",
    "        w[i] = w_benchmark[i] + (1/number_of_stocks)*firms_coeff\n",
    "    \n",
    "    # Using t-1 weights and r from 1 to t\n",
    "    r_p = sum(w[:,:-1]*r[:,1:])\n",
    "    utility_values = utility_function(5, r_p)\n",
    "    # Average over T \n",
    "    average_return_portifolio = sum(utility_values)/len(utility_values)\n",
    "    return_all.append(average_return_portifolio)\n",
    "#     print(f\"Return {average_return_portifolio}\")\n",
    "print(f\"Finished running {epochs} epochs\")"
   ]
  },
  {
   "cell_type": "code",
   "execution_count": null,
   "id": "powerful-spell",
   "metadata": {},
   "outputs": [],
   "source": []
  },
  {
   "cell_type": "code",
   "execution_count": 356,
   "id": "progressive-boring",
   "metadata": {},
   "outputs": [
    {
     "data": {
      "text/plain": [
       "1.0"
      ]
     },
     "execution_count": 356,
     "metadata": {},
     "output_type": "execute_result"
    }
   ],
   "source": [
    "w_benchmark[:,0].sum()"
   ]
  },
  {
   "cell_type": "code",
   "execution_count": 357,
   "id": "comfortable-yorkshire",
   "metadata": {},
   "outputs": [
    {
     "data": {
      "text/plain": [
       "array([[0.65412, -2.26679, -2.16334]])"
      ]
     },
     "execution_count": 357,
     "metadata": {},
     "output_type": "execute_result"
    }
   ],
   "source": [
    "theta"
   ]
  },
  {
   "cell_type": "code",
   "execution_count": 358,
   "id": "ideal-portfolio",
   "metadata": {},
   "outputs": [
    {
     "data": {
      "text/plain": [
       "0.9999999999999998"
      ]
     },
     "execution_count": 358,
     "metadata": {},
     "output_type": "execute_result"
    }
   ],
   "source": [
    "w[:,0].sum()"
   ]
  },
  {
   "cell_type": "code",
   "execution_count": 359,
   "id": "thick-starter",
   "metadata": {},
   "outputs": [
    {
     "data": {
      "text/plain": [
       "array([0.04464, 0.15779, 0.02482, 0.23090, 0.14564, -0.12232, 0.05831,\n",
       "       0.15941, 0.22153, 0.07928])"
      ]
     },
     "execution_count": 359,
     "metadata": {},
     "output_type": "execute_result"
    }
   ],
   "source": [
    "w[:,0]"
   ]
  },
  {
   "cell_type": "code",
   "execution_count": 360,
   "id": "opponent-bishop",
   "metadata": {},
   "outputs": [
    {
     "data": {
      "text/html": [
       "<div>\n",
       "<style scoped>\n",
       "    .dataframe tbody tr th:only-of-type {\n",
       "        vertical-align: middle;\n",
       "    }\n",
       "\n",
       "    .dataframe tbody tr th {\n",
       "        vertical-align: top;\n",
       "    }\n",
       "\n",
       "    .dataframe thead th {\n",
       "        text-align: right;\n",
       "    }\n",
       "</style>\n",
       "<table border=\"1\" class=\"dataframe\">\n",
       "  <thead>\n",
       "    <tr style=\"text-align: right;\">\n",
       "      <th></th>\n",
       "      <th>0</th>\n",
       "    </tr>\n",
       "  </thead>\n",
       "  <tbody>\n",
       "    <tr>\n",
       "      <th>count</th>\n",
       "      <td>1.000000e+01</td>\n",
       "    </tr>\n",
       "    <tr>\n",
       "      <th>mean</th>\n",
       "      <td>-8.947542e+06</td>\n",
       "    </tr>\n",
       "    <tr>\n",
       "      <th>std</th>\n",
       "      <td>2.796768e+07</td>\n",
       "    </tr>\n",
       "    <tr>\n",
       "      <th>min</th>\n",
       "      <td>-8.854059e+07</td>\n",
       "    </tr>\n",
       "    <tr>\n",
       "      <th>25%</th>\n",
       "      <td>-3.603598e+02</td>\n",
       "    </tr>\n",
       "    <tr>\n",
       "      <th>50%</th>\n",
       "      <td>-3.603576e+02</td>\n",
       "    </tr>\n",
       "    <tr>\n",
       "      <th>75%</th>\n",
       "      <td>-3.603553e+02</td>\n",
       "    </tr>\n",
       "    <tr>\n",
       "      <th>max</th>\n",
       "      <td>-3.603530e+02</td>\n",
       "    </tr>\n",
       "  </tbody>\n",
       "</table>\n",
       "</div>"
      ],
      "text/plain": [
       "                  0\n",
       "count  1.000000e+01\n",
       "mean  -8.947542e+06\n",
       "std    2.796768e+07\n",
       "min   -8.854059e+07\n",
       "25%   -3.603598e+02\n",
       "50%   -3.603576e+02\n",
       "75%   -3.603553e+02\n",
       "max   -3.603530e+02"
      ]
     },
     "execution_count": 360,
     "metadata": {},
     "output_type": "execute_result"
    }
   ],
   "source": [
    "pd.DataFrame(return_all).describe()"
   ]
  },
  {
   "cell_type": "code",
   "execution_count": 363,
   "id": "documentary-network",
   "metadata": {},
   "outputs": [
    {
     "data": {
      "image/png": "[encoded data removed]",
      "text/plain": [
       "<Figure size 864x648 with 1 Axes>"
      ]
     },
     "metadata": {
      "needs_background": "light"
     },
     "output_type": "display_data"
    }
   ],
   "source": [
    "plt.figure(figsize=(12,9))\n",
    "# plt.yscale('symlog')\n",
    "plt.scatter(x=range(len(return_all)), y=return_all)\n",
    "plt.title('Portifolio return optimization')\n",
    "plt.ylabel('Log portifolio return')\n",
    "plt.xlabel('Epoch')\n",
    "plt.grid()\n",
    "plt.show()"
   ]
  },
  {
   "cell_type": "code",
   "execution_count": 46,
   "id": "freelance-reynolds",
   "metadata": {},
   "outputs": [
    {
     "data": {
      "image/png": "[encoded data removed]",
      "text/plain": [
       "<Figure size 864x648 with 1 Axes>"
      ]
     },
     "metadata": {
      "needs_background": "light"
     },
     "output_type": "display_data"
    }
   ],
   "source": [
    "plt.figure(figsize=(12,9))\n",
    "# plt.yscale('symlog')\n",
    "plt.boxplot(return_all)\n",
    "plt.title('Portifolio return optimization')\n",
    "plt.ylabel('Log portifolio return')\n",
    "plt.show()"
   ]
  },
  {
   "cell_type": "code",
   "execution_count": 5,
   "id": "naval-placement",
   "metadata": {},
   "outputs": [],
   "source": [
    "last_return = average_return_portifolio"
   ]
  },
  {
   "cell_type": "code",
   "execution_count": 6,
   "id": "czech-society",
   "metadata": {},
   "outputs": [],
   "source": [
    "former_w = w.copy()"
   ]
  },
  {
   "cell_type": "code",
   "execution_count": 7,
   "id": "marine-filter",
   "metadata": {},
   "outputs": [],
   "source": [
    "r_p = np.array([sum(w[:,t]*r[:,t+1]) for t in range(time-1)])\n",
    "utility_values = utility_function(5, r_p)\n",
    "# Average over T \n",
    "average_return_portifolio = sum(utility_values)/len(utility_values)"
   ]
  },
  {
   "cell_type": "code",
   "execution_count": 8,
   "id": "creative-russia",
   "metadata": {},
   "outputs": [],
   "source": [
    "normalization_term = []\n",
    "for i in range(time):\n",
    "    normalization_term.append(w[:,i].sum().copy())\n",
    "    w[:,i] = w[:,i]/w[:,i].sum()"
   ]
  },
  {
   "cell_type": "code",
   "execution_count": 41,
   "id": "identical-kennedy",
   "metadata": {},
   "outputs": [
    {
     "data": {
      "text/plain": [
       "array([ 0.11879961, -0.18056471,  0.15255279,  0.26060101, -0.40742294,\n",
       "        0.46645446,  0.33931976,  0.37553854,  0.08007123, -0.20534976])"
      ]
     },
     "execution_count": 41,
     "metadata": {},
     "output_type": "execute_result"
    }
   ],
   "source": [
    "w[:,0]"
   ]
  },
  {
   "cell_type": "code",
   "execution_count": 42,
   "id": "infrared-tackle",
   "metadata": {},
   "outputs": [],
   "source": [
    "former_utility_values = utility_values"
   ]
  },
  {
   "cell_type": "code",
   "execution_count": 60,
   "id": "documentary-february",
   "metadata": {},
   "outputs": [],
   "source": [
    "r_p = np.array([sum(w[:,t]*r[:,t+1]) for t in range(time-1)])\n",
    "utility_values = utility_function(5, r_p *normalization_term[:-1])"
   ]
  },
  {
   "cell_type": "code",
   "execution_count": 61,
   "id": "experienced-exchange",
   "metadata": {},
   "outputs": [
    {
     "data": {
      "text/plain": [
       "array([-1.15351788e+04, -8.10674387e-02, -1.72490501e-01, -1.02453398e+01,\n",
       "       -3.78284448e-02, -2.63886606e-01, -2.27946326e-01, -3.43868119e-01,\n",
       "       -2.68805161e-01, -1.51363269e-01, -1.34668786e+00, -1.46147342e-01,\n",
       "       -2.05180290e-01, -1.88575766e-01, -2.81592141e-01, -1.52562188e-01,\n",
       "       -1.10558611e-01, -4.67478053e-02, -1.10902996e-01, -8.39010626e-02,\n",
       "       -4.14853582e-01, -2.69712807e+00, -7.08100762e-02, -1.78063080e-01,\n",
       "       -9.40411297e-02, -1.99932443e-01, -1.12639431e+01, -1.20877191e+01,\n",
       "       -7.90692702e+00, -7.99481516e-02, -5.33425098e-01, -1.71292318e+01,\n",
       "       -5.23172888e-02, -5.13787932e-02, -1.40865346e-01, -3.43699514e-01,\n",
       "       -3.85592011e-01, -1.52777783e+00, -1.87004007e-01, -4.81272189e-01,\n",
       "       -1.54164130e-01, -2.86998635e-01, -2.13826603e-01, -1.60518781e-01,\n",
       "       -2.95134775e-01, -5.44184836e+00, -3.86855917e-01, -9.59112636e-01,\n",
       "       -1.60146840e-01, -1.35331042e-01, -4.53033734e-01, -1.99931110e+00,\n",
       "       -1.46013393e-01, -1.96946320e-01, -5.83095329e-02, -1.34436362e-01,\n",
       "       -1.34846643e-01, -3.02364505e-01, -1.09915928e-01, -4.56855510e-01,\n",
       "       -3.14875544e-01, -1.54052926e+00, -3.44430986e+00, -7.09327910e-02,\n",
       "       -7.49959429e-02, -3.11040567e-01, -4.62648306e-01, -2.14748876e-01,\n",
       "       -1.77653790e+02, -2.88533144e-01, -9.41103726e-02, -1.88869141e-01,\n",
       "       -1.22411964e-01, -3.54073852e-01, -9.05366323e-02, -1.05883314e-01,\n",
       "       -1.23175327e-01, -1.46341498e-01, -5.55610568e-01, -5.68781473e+00,\n",
       "       -2.70870020e-01, -1.56941972e+00, -2.05404795e-01, -1.87763099e-01,\n",
       "       -1.02449103e+01, -4.36025799e-01, -1.74283932e+00, -1.36567892e-01,\n",
       "       -2.03974485e-01])"
      ]
     },
     "execution_count": 61,
     "metadata": {},
     "output_type": "execute_result"
    }
   ],
   "source": [
    "utility_values"
   ]
  },
  {
   "cell_type": "code",
   "execution_count": null,
   "id": "fifteen-globe",
   "metadata": {},
   "outputs": [],
   "source": [
    "\n",
    "\n",
    "# benchmark portifolio weight of stock i on time t\n",
    "w_i_t_bench = 1.0\n",
    "\n",
    "# weight of stock i on time t\n",
    "w_i_t = w_i_t_bench + (1/number_of_stocks)*X.dot(firm_characteristics)\n",
    "\n",
    "# Where X is a vector of coefficients that we want to find and firm_characteristics are a vector of firm characteristics.\n"
   ]
  },
  {
   "cell_type": "code",
   "execution_count": 64,
   "id": "recorded-commissioner",
   "metadata": {},
   "outputs": [
    {
     "data": {
      "text/plain": [
       "-132.85954077998355"
      ]
     },
     "execution_count": 64,
     "metadata": {},
     "output_type": "execute_result"
    }
   ],
   "source": [
    "(sum(utility_values)/len(utility_values))"
   ]
  },
  {
   "cell_type": "code",
   "execution_count": 33,
   "id": "twenty-proxy",
   "metadata": {},
   "outputs": [
    {
     "data": {
      "text/plain": [
       "-132.85954077998355"
      ]
     },
     "execution_count": 33,
     "metadata": {},
     "output_type": "execute_result"
    }
   ],
   "source": [
    "sum(former_utility_values)/len(former_utility_values)"
   ]
  },
  {
   "cell_type": "code",
   "execution_count": 68,
   "id": "drawn-lecture",
   "metadata": {},
   "outputs": [
    {
     "data": {
      "text/plain": [
       "array([-0.93176944,  0.32517547,  0.09721998, -0.60476681,  0.60335755,\n",
       "       -0.01342373,  0.02335627, -0.07660605, -0.01796809,  0.13365231,\n",
       "       -0.34360046,  0.14363456,  0.05063313,  0.07303412, -0.02931153,\n",
       "        0.1314185 ,  0.22627213,  0.52070403,  0.22531904,  0.31384199,\n",
       "       -0.11892822, -0.44822806,  0.37075941,  0.08853283,  0.27689605,\n",
       "        0.05746057, -0.61402214, -0.62077329, -0.57831994,  0.32978949,\n",
       "       -0.17259786, -0.6524234 ,  0.47850805,  0.48521398,  0.15420768,\n",
       "       -0.07649283, -0.10266833, -0.3639812 ,  0.07528175, -0.15103984,\n",
       "        0.12846779, -0.03391566,  0.0398473 ,  0.11712955, -0.04064376,\n",
       "       -0.53703475, -0.10340215, -0.28547472,  0.11777762,  0.16583113,\n",
       "       -0.13810896, -0.40534523,  0.14389676,  0.06144632,  0.43896461,\n",
       "        0.16776597,  0.1668767 , -0.04643061,  0.22806073, -0.13991716,\n",
       "       -0.05604722, -0.36530144, -0.4809497 ,  0.37016617,  0.35121843,\n",
       "       -0.05315096, -0.14262215,  0.03872905, -0.80631705, -0.03520271,\n",
       "        0.27666111,  0.07261719,  0.19544345, -0.08333312,  0.28907717,\n",
       "        0.23959016,  0.19358698,  0.14325505, -0.18098402, -0.5421232 ,\n",
       "       -0.01984498, -0.36824276,  0.05034593,  0.0741933 , -0.60476267,\n",
       "       -0.12982429, -0.38458133,  0.16318248,  0.05218242])"
      ]
     },
     "execution_count": 68,
     "metadata": {},
     "output_type": "execute_result"
    }
   ],
   "source": [
    "r_p *normalization_term[:-1]"
   ]
  },
  {
   "cell_type": "code",
   "execution_count": 71,
   "id": "essential-criminal",
   "metadata": {},
   "outputs": [
    {
     "data": {
      "text/plain": [
       "array([-0.93176944,  0.32517547,  0.09721998, -0.60476681,  0.60335755,\n",
       "       -0.01342373,  0.02335627, -0.07660605, -0.01796809,  0.13365231,\n",
       "       -0.34360046,  0.14363456,  0.05063313,  0.07303412, -0.02931153,\n",
       "        0.1314185 ,  0.22627213,  0.52070403,  0.22531904,  0.31384199,\n",
       "       -0.11892822, -0.44822806,  0.37075941,  0.08853283,  0.27689605,\n",
       "        0.05746057, -0.61402214, -0.62077329, -0.57831994,  0.32978949,\n",
       "       -0.17259786, -0.6524234 ,  0.47850805,  0.48521398,  0.15420768,\n",
       "       -0.07649283, -0.10266833, -0.3639812 ,  0.07528175, -0.15103984,\n",
       "        0.12846779, -0.03391566,  0.0398473 ,  0.11712955, -0.04064376,\n",
       "       -0.53703475, -0.10340215, -0.28547472,  0.11777762,  0.16583113,\n",
       "       -0.13810896, -0.40534523,  0.14389676,  0.06144632,  0.43896461,\n",
       "        0.16776597,  0.1668767 , -0.04643061,  0.22806073, -0.13991716,\n",
       "       -0.05604722, -0.36530144, -0.4809497 ,  0.37016617,  0.35121843,\n",
       "       -0.05315096, -0.14262215,  0.03872905, -0.80631705, -0.03520271,\n",
       "        0.27666111,  0.07261719,  0.19544345, -0.08333312,  0.28907717,\n",
       "        0.23959016,  0.19358698,  0.14325505, -0.18098402, -0.5421232 ,\n",
       "       -0.01984498, -0.36824276,  0.05034593,  0.0741933 , -0.60476267,\n",
       "       -0.12982429, -0.38458133,  0.16318248,  0.05218242])"
      ]
     },
     "execution_count": 71,
     "metadata": {},
     "output_type": "execute_result"
    }
   ],
   "source": [
    "r_p_old = np.array([sum(former_w[:,t]*r[:,t+1]) for t in range(time-1)])\n",
    "r_p_old"
   ]
  },
  {
   "cell_type": "code",
   "execution_count": null,
   "id": "mineral-double",
   "metadata": {},
   "outputs": [],
   "source": []
  },
  {
   "cell_type": "code",
   "execution_count": null,
   "id": "opened-storage",
   "metadata": {},
   "outputs": [],
   "source": []
  },
  {
   "cell_type": "code",
   "execution_count": 17,
   "id": "enabling-arrest",
   "metadata": {},
   "outputs": [
    {
     "data": {
      "text/plain": [
       "array([ 0.02213505, -0.03740161,  0.02678427,  0.02385859, -0.07132726,\n",
       "        0.09471435,  0.05150448,  0.0536741 , -0.00410835, -0.0306466 ])"
      ]
     },
     "execution_count": 17,
     "metadata": {},
     "output_type": "execute_result"
    }
   ],
   "source": [
    "w[:,0]"
   ]
  },
  {
   "cell_type": "code",
   "execution_count": 20,
   "id": "apart-slovenia",
   "metadata": {},
   "outputs": [
    {
     "data": {
      "text/plain": [
       "array([-0.97617954,  0.58264825, -0.4093089 , -0.32979177,  0.14115482,\n",
       "       -0.14291239,  0.34416877, -0.63604453, -0.17889924, -0.29261797,\n",
       "       -0.22095745,  0.08506735, -0.27314058,  0.02462011, -0.00324144,\n",
       "       -0.30633321, -0.11025638,  0.14083416,  0.40528208,  0.77801396,\n",
       "        0.0906956 , -0.14443267,  0.17882346,  0.3486114 , -0.05271025,\n",
       "        0.55152616,  0.14368529, -0.47158275, -0.79818353, -0.30535779,\n",
       "        0.08490633,  0.04179894,  0.05239237, -0.361158  ,  0.19962287,\n",
       "       -0.09167087,  0.25853597, -0.3048806 ,  0.46738311,  0.21256192,\n",
       "       -0.37040469, -0.44589849, -0.19808088,  0.76698131, -0.73746695,\n",
       "       -0.31867781,  0.45356017,  0.48753229,  0.19887639, -0.03549526,\n",
       "        0.75158927,  0.02059273,  0.50198445, -0.27560341,  0.11070061,\n",
       "        0.09902476,  0.03874077, -0.29588656, -0.67387402, -0.21144996,\n",
       "        0.14627551, -0.84799171,  0.13966724,  0.21112944,  0.0266372 ,\n",
       "        0.2441221 ,  0.41181768,  0.44752614, -1.13425962,  0.5725132 ,\n",
       "        0.15436482, -0.3731192 ,  0.02481558, -0.05836811,  0.35659027,\n",
       "       -0.44727889, -0.20554046,  0.60111312,  0.45774846, -0.78890055,\n",
       "       -0.57826684, -0.15020412, -0.25978104,  0.64133679, -0.72120048,\n",
       "       -0.44366804,  0.04085781,  0.34769955,  0.31734136])"
      ]
     },
     "execution_count": 20,
     "metadata": {},
     "output_type": "execute_result"
    }
   ],
   "source": [
    "r_p"
   ]
  },
  {
   "cell_type": "code",
   "execution_count": 154,
   "id": "intensive-injury",
   "metadata": {},
   "outputs": [],
   "source": []
  },
  {
   "cell_type": "code",
   "execution_count": null,
   "id": "composed-margin",
   "metadata": {},
   "outputs": [],
   "source": []
  },
  {
   "cell_type": "code",
   "execution_count": null,
   "id": "individual-fence",
   "metadata": {},
   "outputs": [],
   "source": []
  }
 ],
 "metadata": {
  "kernelspec": {
   "display_name": "Python 3",
   "language": "python",
   "name": "python3"
  },
  "language_info": {
   "codemirror_mode": {
    "name": "ipython",
    "version": 3
   },
   "file_extension": ".py",
   "mimetype": "text/x-python",
   "name": "python",
   "nbconvert_exporter": "python",
   "pygments_lexer": "ipython3",
   "version": "3.8.5"
  }
 },
 "nbformat": 4,
 "nbformat_minor": 5
}
